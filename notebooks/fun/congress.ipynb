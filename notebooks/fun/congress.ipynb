{
 "cells": [
  {
   "cell_type": "code",
   "execution_count": 6,
   "metadata": {},
   "outputs": [],
   "source": [
    "import pandas as pd\n",
    "import time\n",
    "from io import StringIO\n",
    "from xlsx2csv import Xlsx2csv"
   ]
  },
  {
   "cell_type": "code",
   "execution_count": 8,
   "metadata": {},
   "outputs": [
    {
     "name": "stdout",
     "output_type": "stream",
     "text": [
      "         _txId _politicianId   _assetId  _issuerId               pubDate  \\\n",
      "0  20003769541       K000392  100009820     433770  2023-12-04T14:05:03Z   \n",
      "1  10000061769       P000595  100006474     431085  2023-12-01T18:15:09Z   \n",
      "2  10000061765       M001190  100006163     430817  2023-11-29T03:00:09Z   \n",
      "3  10000061766       M001190  100009635     433632  2023-11-29T03:00:09Z   \n",
      "4  10000061767       M001190  100009871     433814  2023-11-29T03:00:09Z   \n",
      "\n",
      "   filingDate      txDate txType  txTypeExtended  hasCapitalGains  ...  \\\n",
      "0  2023-11-30  2023-11-29    buy             NaN            False  ...   \n",
      "1  2023-12-01  2023-11-02    buy             NaN            False  ...   \n",
      "2  2023-11-28  2023-10-31    buy             NaN            False  ...   \n",
      "3  2023-11-28  2023-10-27    buy             NaN            False  ...   \n",
      "4  2023-11-28  2023-10-26    buy             NaN            False  ...   \n",
      "\n",
      "  labels_0 labels_1  committees_4  committees_5  committees_6  labels_2  \\\n",
      "0      NaN      NaN           NaN           NaN           NaN       NaN   \n",
      "1      NaN      NaN           NaN           NaN           NaN       NaN   \n",
      "2      NaN      NaN           NaN           NaN           NaN       NaN   \n",
      "3      NaN      NaN           NaN           NaN           NaN       NaN   \n",
      "4      NaN      NaN           NaN           NaN           NaN       NaN   \n",
      "\n",
      "   committees_7  committees_8 committees_9  committees_10  \n",
      "0           NaN           NaN          NaN            NaN  \n",
      "1           NaN           NaN          NaN            NaN  \n",
      "2           NaN           NaN          NaN            NaN  \n",
      "3           NaN           NaN          NaN            NaN  \n",
      "4           NaN           NaN          NaN            NaN  \n",
      "\n",
      "[5 rows x 52 columns]\n",
      "9.114841222763062 seconds\n"
     ]
    }
   ],
   "source": [
    "t1 = time.time()\n",
    "\n",
    "buffer = StringIO()\n",
    "Xlsx2csv(r\"C:\\Users\\chris\\trade\\curr_pos\\notebooks\\fun\\congress_trading_data.xlsx\", outputendcoding=\"utf-8\").convert(buffer)\n",
    "buffer.seek(0)\n",
    "chunks = [chunk for chunk in pd.read_csv(buffer, chunksize=3200)]\n",
    "df = pd.concat(chunks, ignore_index=True)\n",
    "print(df.head())\n",
    "\n",
    "t2 = time.time()\n",
    "print(f\"{t2 - t1} seconds\")"
   ]
  },
  {
   "cell_type": "code",
   "execution_count": 9,
   "metadata": {},
   "outputs": [
    {
     "name": "stdout",
     "output_type": "stream",
     "text": [
      "         _txId _politicianId   _assetId  _issuerId               pubDate  \\\n",
      "0  20003769541       K000392  100009820     433770  2023-12-04T14:05:03Z   \n",
      "1  10000061769       P000595  100006474     431085  2023-12-01T18:15:09Z   \n",
      "2  10000061765       M001190  100006163     430817  2023-11-29T03:00:09Z   \n",
      "3  10000061766       M001190  100009635     433632  2023-11-29T03:00:09Z   \n",
      "4  10000061767       M001190  100009871     433814  2023-11-29T03:00:09Z   \n",
      "\n",
      "   filingDate      txDate txType  txTypeExtended  hasCapitalGains  ...  \\\n",
      "0  2023-11-30  2023-11-29    buy             NaN            False  ...   \n",
      "1  2023-12-01  2023-11-02    buy             NaN            False  ...   \n",
      "2  2023-11-28  2023-10-31    buy             NaN            False  ...   \n",
      "3  2023-11-28  2023-10-27    buy             NaN            False  ...   \n",
      "4  2023-11-28  2023-10-26    buy             NaN            False  ...   \n",
      "\n",
      "  labels_0 labels_1  committees_4  committees_5  committees_6  labels_2  \\\n",
      "0      NaN      NaN           NaN           NaN           NaN       NaN   \n",
      "1      NaN      NaN           NaN           NaN           NaN       NaN   \n",
      "2      NaN      NaN           NaN           NaN           NaN       NaN   \n",
      "3      NaN      NaN           NaN           NaN           NaN       NaN   \n",
      "4      NaN      NaN           NaN           NaN           NaN       NaN   \n",
      "\n",
      "   committees_7  committees_8 committees_9  committees_10  \n",
      "0           NaN           NaN          NaN            NaN  \n",
      "1           NaN           NaN          NaN            NaN  \n",
      "2           NaN           NaN          NaN            NaN  \n",
      "3           NaN           NaN          NaN            NaN  \n",
      "4           NaN           NaN          NaN            NaN  \n",
      "\n",
      "[5 rows x 52 columns]\n",
      "26.149375677108765 seconds\n"
     ]
    }
   ],
   "source": [
    "t1 = time.time()\n",
    "\n",
    "df = pd.read_excel(r\"C:\\Users\\chris\\trade\\curr_pos\\notebooks\\fun\\congress_trading_data.xlsx\")\n",
    "print(df.head())\n",
    "\n",
    "t2 = time.time()\n",
    "print(f\"{t2 - t1} seconds\")"
   ]
  },
  {
   "cell_type": "code",
   "execution_count": null,
   "metadata": {},
   "outputs": [],
   "source": []
  }
 ],
 "metadata": {
  "kernelspec": {
   "display_name": "Python 3",
   "language": "python",
   "name": "python3"
  },
  "language_info": {
   "codemirror_mode": {
    "name": "ipython",
    "version": 3
   },
   "file_extension": ".py",
   "mimetype": "text/x-python",
   "name": "python",
   "nbconvert_exporter": "python",
   "pygments_lexer": "ipython3",
   "version": "3.11.1"
  }
 },
 "nbformat": 4,
 "nbformat_minor": 2
}
