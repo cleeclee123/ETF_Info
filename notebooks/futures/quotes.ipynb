{
 "cells": [
  {
   "cell_type": "code",
   "execution_count": 109,
   "metadata": {},
   "outputs": [],
   "source": [
    "import asyncio\n",
    "import pandas as pd\n",
    "import ujson as json\n",
    "import time\n",
    "from datetime import date, timedelta, datetime\n",
    "from dataclasses import dataclass\n",
    "from tastytrade import ProductionSession, DXLinkStreamer, DXFeedStreamer, instruments\n",
    "from tastytrade.dxfeed import EventType, Quote\n",
    "from typing import List, Dict\n",
    "from concurrent.futures import ThreadPoolExecutor"
   ]
  },
  {
   "cell_type": "code",
   "execution_count": 59,
   "metadata": {},
   "outputs": [],
   "source": [
    "df_secret = pd.read_csv(r\"C:\\Users\\chris\\trade\\curr_pos\\secret.txt\")\n",
    "my_email = df_secret.iloc[0][\"email\"]\n",
    "my_username = df_secret.iloc[0][\"username\"]\n",
    "my_password = df_secret.iloc[0][\"password\"]"
   ]
  },
  {
   "cell_type": "code",
   "execution_count": 60,
   "metadata": {},
   "outputs": [],
   "source": [
    "session = ProductionSession(my_username, my_password)"
   ]
  },
  {
   "cell_type": "code",
   "execution_count": 87,
   "metadata": {},
   "outputs": [],
   "source": [
    "def pp_json(value_dict):\n",
    "    return json.dumps(value_dict, indent=4, sort_keys=True, ensure_ascii=False, default=str)"
   ]
  },
  {
   "cell_type": "code",
   "execution_count": 88,
   "metadata": {},
   "outputs": [],
   "source": [
    "def get_all_contract_specs(product_code: List[str]):\n",
    "    all_futures_contracts = [\n",
    "        {\n",
    "            \"symbol\": contract.symbol,\n",
    "            \"dxslink_symbol\": contract.streamer_symbol,\n",
    "            \"tick_size\": contract.future_product.tick_size,\n",
    "            \"tick_val\": float(contract.future_product.tick_size) * float(contract.future_product.notional_multiplier),\n",
    "            \"multiplier\": contract.future_product.notional_multiplier,\n",
    "            \"exp_date\": contract.expires_at,\n",
    "        }\n",
    "        for contract in instruments.Future.get_futures(\n",
    "            session, product_codes=[product_code]\n",
    "        )\n",
    "    ]\n",
    "\n",
    "    return all_futures_contracts"
   ]
  },
  {
   "cell_type": "code",
   "execution_count": 106,
   "metadata": {},
   "outputs": [],
   "source": [
    "contracts = get_all_contract_specs(\"SR3\")\n",
    "\n",
    "symbols = [c[\"symbol\"].split(\":\")[0] for c in contracts]\n",
    "future_contracts = instruments.Future.get_futures(session, [c[\"symbol\"].split(\":\")[0] for c in contracts])\n",
    "start_time = datetime.now() - timedelta(days=30)\n",
    "\n",
    "# df_dict: Dict[str, pd.DataFrame] = {}\n",
    "# for future_contract in future_contracts: \n",
    "#     candles = [\n",
    "#         {\n",
    "#             \"eventSymbol\": curr_candle.eventSymbol,\n",
    "#             \"routeSymbol\": curr_candle.eventSymbol,\n",
    "#             \"index\": curr_candle.index,\n",
    "#             \"time\": curr_candle.time,\n",
    "#             \"count\": curr_candle.count,\n",
    "#             \"open\": curr_candle.open,\n",
    "#             \"high\": curr_candle.high,\n",
    "#             \"low\": curr_candle.low,\n",
    "#             \"close\": curr_candle.close,\n",
    "#             \"volume\": curr_candle.volume,\n",
    "#             \"vwap\": curr_candle.vwap,\n",
    "#             \"bidVolume\": curr_candle.bidVolume,\n",
    "#             \"askVolume\": curr_candle.askVolume,\n",
    "#             \"impVolatilityNaN'\": curr_candle.impVolatility,\n",
    "#             \"openInterest\": curr_candle.openInterest,\n",
    "#         }\n",
    "#         for curr_candle in session.get_candle(\n",
    "#             [future_contract.streamer_symbol], interval=\"1m\", start_time=start_time\n",
    "#         )\n",
    "#     ]\n",
    "#     df_candles = pd.DataFrame(candles)\n",
    "#     df_dict[candles[0][\"eventSymbol\"]] = df_candles\n",
    "    \n",
    "# with pd.ExcelWriter(r\"C:\\Users\\chris\\trade\\curr_pos\\futures\\temp.xlsx\") as writer:\n",
    "#     pd.DataFrame().to_excel(writer)\n",
    "#     for name, df in df_dict.items():\n",
    "#         name = name.replace(\"/\", \"\").split(\":\")[0]\n",
    "#         df.to_excel(writer, sheet_name=name, index=False)"
   ]
  },
  {
   "cell_type": "code",
   "execution_count": 110,
   "metadata": {},
   "outputs": [
    {
     "name": "stdout",
     "output_type": "stream",
     "text": [
      "31.920620679855347 seconds\n"
     ]
    }
   ],
   "source": [
    "t1 = time.time()\n",
    "\n",
    "def process_future_contract(future_contract):\n",
    "    candles = [\n",
    "        {\n",
    "            \"eventSymbol\": curr_candle.eventSymbol,\n",
    "            \"routeSymbol\": curr_candle.eventSymbol,\n",
    "            \"index\": curr_candle.index,\n",
    "            \"time\": curr_candle.time,\n",
    "            \"count\": curr_candle.count,\n",
    "            \"open\": curr_candle.open,\n",
    "            \"high\": curr_candle.high,\n",
    "            \"low\": curr_candle.low,\n",
    "            \"close\": curr_candle.close,\n",
    "            \"volume\": curr_candle.volume,\n",
    "            \"vwap\": curr_candle.vwap,\n",
    "            \"bidVolume\": curr_candle.bidVolume,\n",
    "            \"askVolume\": curr_candle.askVolume,\n",
    "            \"impVolatilityNaN'\": curr_candle.impVolatility,\n",
    "            \"openInterest\": curr_candle.openInterest,\n",
    "        }\n",
    "        for curr_candle in session.get_candle(\n",
    "            [future_contract.streamer_symbol], interval=\"1m\", start_time=start_time\n",
    "        )\n",
    "    ]\n",
    "    df_candles = pd.DataFrame(candles)\n",
    "    return df_candles, candles[0][\"eventSymbol\"]\n",
    "\n",
    "def write_to_xlsx(future_contracts):\n",
    "    with ThreadPoolExecutor(max_workers=16) as executor:  \n",
    "        futures = [executor.submit(process_future_contract, fc) for fc in future_contracts]\n",
    "    \n",
    "    df_dict = {result[1]: result[0] for future in futures for result in [future.result()]}\n",
    "\n",
    "    with pd.ExcelWriter(r\"C:\\Users\\chris\\trade\\curr_pos\\futures\\temp.xlsx\") as writer:\n",
    "        for name, df in df_dict.items():\n",
    "            name = name.replace(\"/\", \"\").split(\":\")[0]\n",
    "            df.to_excel(writer, sheet_name=name, index=False)\n",
    "            \n",
    "\n",
    "write_to_xlsx(future_contracts)\n",
    "\n",
    "print(f\"{time.time() - t1} seconds\")"
   ]
  },
  {
   "cell_type": "code",
   "execution_count": null,
   "metadata": {},
   "outputs": [],
   "source": []
  }
 ],
 "metadata": {
  "kernelspec": {
   "display_name": "Python 3",
   "language": "python",
   "name": "python3"
  },
  "language_info": {
   "codemirror_mode": {
    "name": "ipython",
    "version": 3
   },
   "file_extension": ".py",
   "mimetype": "text/x-python",
   "name": "python",
   "nbconvert_exporter": "python",
   "pygments_lexer": "ipython3",
   "version": "3.11.1"
  }
 },
 "nbformat": 4,
 "nbformat_minor": 2
}
