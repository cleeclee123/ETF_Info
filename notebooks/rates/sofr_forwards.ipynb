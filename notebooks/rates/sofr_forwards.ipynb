{
 "cells": [
  {
   "cell_type": "code",
   "execution_count": 1,
   "metadata": {},
   "outputs": [],
   "source": [
    "import pandas as pd\n",
    "import numpy as np\n",
    "import requests\n",
    "import time\n",
    "import plotly.graph_objs as go\n",
    "from scipy.optimize import minimize\n",
    "from datetime import datetime, timedelta, date\n",
    "from typing import Literal, Annotated, List"
   ]
  },
  {
   "cell_type": "code",
   "execution_count": 2,
   "metadata": {},
   "outputs": [],
   "source": [
    "def ny_fed_fetcher(url: str, ffp: str) -> pd.DataFrame:\n",
    "    try:    \n",
    "        response = requests.get(url)\n",
    "        if response.status_code == 200:\n",
    "            with open(ffp, \"wb\") as f:\n",
    "                for chunk in response.iter_content(chunk_size=8192): \n",
    "                    if not chunk:\n",
    "                        continue\n",
    "                    f.write(chunk) \n",
    "    \n",
    "            return pd.read_excel(ffp, parse_dates=[\"Effective Date\"])\n",
    "        else:\n",
    "            raise Exception(f\"Bad Status: {response.status}\")\n",
    "    except Exception as e:\n",
    "        print(e)\n",
    "        return pd.DataFrame()\n",
    "\n",
    "\n",
    "def get_sofr_spot() -> pd.DataFrame:\n",
    "    url = \"https://markets.newyorkfed.org/read?productCode=50&eventCodes=520&startPosition=0&sort=postDt:-1&format=xlsx\"\n",
    "    full_file_path = r\"C:\\Users\\chris\\trade\\curr_pos\\rates\\sofr_spot.xlsx\"\n",
    "    return ny_fed_fetcher(url, full_file_path)\n",
    "    \n",
    "    \n",
    "def get_sofr_averages_index() -> pd.DataFrame:\n",
    "    url = \"https://markets.newyorkfed.org/read?productCode=50&eventCodes=525&&startPosition=0&sort=postDt:-1&format=xlsx\" \n",
    "    full_file_path = r\"C:\\Users\\chris\\trade\\curr_pos\\rates\\sofr_averages.xlsx\"\n",
    "    return ny_fed_fetcher(url, full_file_path)\n",
    "\n",
    "    \n",
    "def get_effr_spot() -> pd.DataFrame:\n",
    "    url = \"https://markets.newyorkfed.org/read?productCode=50&eventCodes=500&startPosition=0&sort=postDt:-1&format=xlsx\"\n",
    "    full_file_path = r\"C:\\Users\\chris\\trade\\curr_pos\\rates\\effr_spot.xlsx\"\n",
    "    return ny_fed_fetcher(url, full_file_path)"
   ]
  },
  {
   "cell_type": "code",
   "execution_count": 3,
   "metadata": {},
   "outputs": [],
   "source": [
    "def plot_ref_rates(\n",
    "    df_sofr: pd.DataFrame = None,\n",
    "    df_effr: pd.DataFrame = None,\n",
    "    plot_spread=False,\n",
    "    date_subset_range: Annotated[List[date], 2] | None = None,\n",
    "):\n",
    "    df_sofr_copy = df_sofr.copy() if df_sofr is not None else None\n",
    "    df_effr_copy = df_effr.copy() if df_effr is not None else None\n",
    "\n",
    "    if date_subset_range:\n",
    "        df_sofr_copy = (\n",
    "            df_sofr_copy[\n",
    "                (df_sofr_copy[\"Effective Date\"] >= date_subset_range[0])\n",
    "                & (df_sofr_copy[\"Effective Date\"] <= date_subset_range[1])\n",
    "            ]\n",
    "            if df_sofr_copy is not None\n",
    "            else None\n",
    "        )\n",
    "        df_effr_copy = (\n",
    "            df_effr_copy[\n",
    "                (df_effr_copy[\"Effective Date\"] >= date_subset_range[0])\n",
    "                & (df_effr_copy[\"Effective Date\"] <= date_subset_range[1])\n",
    "            ]\n",
    "            if df_effr_copy is not None\n",
    "            else None\n",
    "        )\n",
    "\n",
    "    fig = go.Figure()\n",
    "\n",
    "    fig.add_trace(\n",
    "        go.Scatter(\n",
    "            x=df_sofr_copy[\"Effective Date\"],\n",
    "            y=df_sofr_copy[\"Rate (%)_x\"],\n",
    "            mode=\"lines\",\n",
    "            name=\"SOFR Spot\",\n",
    "        )\n",
    "    ) if df_sofr_copy is not None else None\n",
    "    fig.add_trace(\n",
    "        go.Scatter(\n",
    "            x=df_effr_copy[\"Effective Date\"],\n",
    "            y=df_effr_copy[\"Rate (%)\"],\n",
    "            mode=\"lines\",\n",
    "            name=\"EFFR Spot\",\n",
    "        )\n",
    "    ) if df_effr_copy is not None else None\n",
    "\n",
    "    if plot_spread:\n",
    "        merged_df = pd.merge(df_effr_copy, df_sofr_copy, on=\"Effective Date\", how=\"inner\")\n",
    "        merged_df[\"Spread\"] = merged_df[\"Rate (%)\"] - merged_df[\"Rate (%)_x\"]\n",
    "        fig.add_trace(\n",
    "            go.Scatter(\n",
    "                x=merged_df[\"Effective Date\"],\n",
    "                y=merged_df[\"Spread\"],\n",
    "                mode=\"lines\",\n",
    "                name=\"Spread\",\n",
    "                yaxis=\"y2\",\n",
    "            )\n",
    "        )\n",
    "\n",
    "    fig.update_layout(\n",
    "        title=f\"SOFR & EEFR Daily Rates\",\n",
    "        xaxis_title=\"Date\",\n",
    "        yaxis=dict(\n",
    "            title=\"Rate\",\n",
    "            titlefont=dict(color=\"blue\"),\n",
    "            tickfont=dict(color=\"blue\"),\n",
    "        ),\n",
    "        yaxis2=dict(\n",
    "            title=\"Spread\",\n",
    "            titlefont=dict(color=\"green\"),\n",
    "            tickfont=dict(color=\"green\"),\n",
    "            overlaying=\"y\",\n",
    "            side=\"right\",\n",
    "        ),\n",
    "        showlegend=True,\n",
    "    )\n",
    "\n",
    "    fig.show()"
   ]
  },
  {
   "cell_type": "code",
   "execution_count": 4,
   "metadata": {},
   "outputs": [
    {
     "name": "stderr",
     "output_type": "stream",
     "text": [
      "c:\\Users\\chris\\AppData\\Local\\Programs\\Python\\Python311\\Lib\\site-packages\\openpyxl\\styles\\stylesheet.py:226: UserWarning: Workbook contains no default style, apply openpyxl's default\n",
      "  warn(\"Workbook contains no default style, apply openpyxl's default\")\n"
     ]
    },
    {
     "data": {
      "text/html": [
       "<div>\n",
       "<style scoped>\n",
       "    .dataframe tbody tr th:only-of-type {\n",
       "        vertical-align: middle;\n",
       "    }\n",
       "\n",
       "    .dataframe tbody tr th {\n",
       "        vertical-align: top;\n",
       "    }\n",
       "\n",
       "    .dataframe thead th {\n",
       "        text-align: right;\n",
       "    }\n",
       "</style>\n",
       "<table border=\"1\" class=\"dataframe\">\n",
       "  <thead>\n",
       "    <tr style=\"text-align: right;\">\n",
       "      <th></th>\n",
       "      <th>Effective Date</th>\n",
       "      <th>Rate Type</th>\n",
       "      <th>Rate (%)</th>\n",
       "      <th>1st Percentile (%)</th>\n",
       "      <th>25th Percentile (%)</th>\n",
       "      <th>75th Percentile (%)</th>\n",
       "      <th>99th Percentile (%)</th>\n",
       "      <th>Volume ($Billions)</th>\n",
       "      <th>Target Rate From (%)</th>\n",
       "      <th>Target Rate To (%)</th>\n",
       "      <th>Intra Day - Low (%)</th>\n",
       "      <th>Intra Day - High (%)</th>\n",
       "      <th>Standard Deviation (%)</th>\n",
       "      <th>30-Day Average SOFR</th>\n",
       "      <th>90-Day Average SOFR</th>\n",
       "      <th>180-Day Average SOFR</th>\n",
       "      <th>SOFR Index</th>\n",
       "      <th>Revision Indicator (Y/N)</th>\n",
       "      <th>Footnote ID</th>\n",
       "    </tr>\n",
       "  </thead>\n",
       "  <tbody>\n",
       "    <tr>\n",
       "      <th>0</th>\n",
       "      <td>2023-12-05</td>\n",
       "      <td>EFFR</td>\n",
       "      <td>5.33</td>\n",
       "      <td>5.3</td>\n",
       "      <td>5.32</td>\n",
       "      <td>5.33</td>\n",
       "      <td>5.45</td>\n",
       "      <td>103.0</td>\n",
       "      <td>5.25</td>\n",
       "      <td>5.5</td>\n",
       "      <td>NaN</td>\n",
       "      <td>NaN</td>\n",
       "      <td>NaN</td>\n",
       "      <td>NaN</td>\n",
       "      <td>NaN</td>\n",
       "      <td>NaN</td>\n",
       "      <td>NaN</td>\n",
       "      <td>NaN</td>\n",
       "      <td>NaN</td>\n",
       "    </tr>\n",
       "    <tr>\n",
       "      <th>1</th>\n",
       "      <td>2023-12-04</td>\n",
       "      <td>EFFR</td>\n",
       "      <td>5.33</td>\n",
       "      <td>5.3</td>\n",
       "      <td>5.32</td>\n",
       "      <td>5.33</td>\n",
       "      <td>5.45</td>\n",
       "      <td>103.0</td>\n",
       "      <td>5.25</td>\n",
       "      <td>5.5</td>\n",
       "      <td>NaN</td>\n",
       "      <td>NaN</td>\n",
       "      <td>NaN</td>\n",
       "      <td>NaN</td>\n",
       "      <td>NaN</td>\n",
       "      <td>NaN</td>\n",
       "      <td>NaN</td>\n",
       "      <td>NaN</td>\n",
       "      <td>NaN</td>\n",
       "    </tr>\n",
       "    <tr>\n",
       "      <th>2</th>\n",
       "      <td>2023-12-01</td>\n",
       "      <td>EFFR</td>\n",
       "      <td>5.33</td>\n",
       "      <td>5.3</td>\n",
       "      <td>5.32</td>\n",
       "      <td>5.33</td>\n",
       "      <td>5.44</td>\n",
       "      <td>107.0</td>\n",
       "      <td>5.25</td>\n",
       "      <td>5.5</td>\n",
       "      <td>NaN</td>\n",
       "      <td>NaN</td>\n",
       "      <td>NaN</td>\n",
       "      <td>NaN</td>\n",
       "      <td>NaN</td>\n",
       "      <td>NaN</td>\n",
       "      <td>NaN</td>\n",
       "      <td>NaN</td>\n",
       "      <td>NaN</td>\n",
       "    </tr>\n",
       "    <tr>\n",
       "      <th>3</th>\n",
       "      <td>2023-11-30</td>\n",
       "      <td>EFFR</td>\n",
       "      <td>5.33</td>\n",
       "      <td>5.3</td>\n",
       "      <td>5.32</td>\n",
       "      <td>5.34</td>\n",
       "      <td>5.50</td>\n",
       "      <td>91.0</td>\n",
       "      <td>5.25</td>\n",
       "      <td>5.5</td>\n",
       "      <td>NaN</td>\n",
       "      <td>NaN</td>\n",
       "      <td>NaN</td>\n",
       "      <td>NaN</td>\n",
       "      <td>NaN</td>\n",
       "      <td>NaN</td>\n",
       "      <td>NaN</td>\n",
       "      <td>NaN</td>\n",
       "      <td>NaN</td>\n",
       "    </tr>\n",
       "    <tr>\n",
       "      <th>4</th>\n",
       "      <td>2023-11-29</td>\n",
       "      <td>EFFR</td>\n",
       "      <td>5.33</td>\n",
       "      <td>5.3</td>\n",
       "      <td>5.32</td>\n",
       "      <td>5.33</td>\n",
       "      <td>5.50</td>\n",
       "      <td>96.0</td>\n",
       "      <td>5.25</td>\n",
       "      <td>5.5</td>\n",
       "      <td>NaN</td>\n",
       "      <td>NaN</td>\n",
       "      <td>NaN</td>\n",
       "      <td>NaN</td>\n",
       "      <td>NaN</td>\n",
       "      <td>NaN</td>\n",
       "      <td>NaN</td>\n",
       "      <td>NaN</td>\n",
       "      <td>NaN</td>\n",
       "    </tr>\n",
       "  </tbody>\n",
       "</table>\n",
       "</div>"
      ],
      "text/plain": [
       "  Effective Date Rate Type  Rate (%)  1st Percentile (%)  25th Percentile (%)  \\\n",
       "0     2023-12-05      EFFR      5.33                 5.3                 5.32   \n",
       "1     2023-12-04      EFFR      5.33                 5.3                 5.32   \n",
       "2     2023-12-01      EFFR      5.33                 5.3                 5.32   \n",
       "3     2023-11-30      EFFR      5.33                 5.3                 5.32   \n",
       "4     2023-11-29      EFFR      5.33                 5.3                 5.32   \n",
       "\n",
       "   75th Percentile (%)  99th Percentile (%)  Volume ($Billions)  \\\n",
       "0                 5.33                 5.45               103.0   \n",
       "1                 5.33                 5.45               103.0   \n",
       "2                 5.33                 5.44               107.0   \n",
       "3                 5.34                 5.50                91.0   \n",
       "4                 5.33                 5.50                96.0   \n",
       "\n",
       "   Target Rate From (%)  Target Rate To (%)  Intra Day - Low (%)  \\\n",
       "0                  5.25                 5.5                  NaN   \n",
       "1                  5.25                 5.5                  NaN   \n",
       "2                  5.25                 5.5                  NaN   \n",
       "3                  5.25                 5.5                  NaN   \n",
       "4                  5.25                 5.5                  NaN   \n",
       "\n",
       "   Intra Day - High (%)  Standard Deviation (%)  30-Day Average SOFR  \\\n",
       "0                   NaN                     NaN                  NaN   \n",
       "1                   NaN                     NaN                  NaN   \n",
       "2                   NaN                     NaN                  NaN   \n",
       "3                   NaN                     NaN                  NaN   \n",
       "4                   NaN                     NaN                  NaN   \n",
       "\n",
       "   90-Day Average SOFR  180-Day Average SOFR  SOFR Index  \\\n",
       "0                  NaN                   NaN         NaN   \n",
       "1                  NaN                   NaN         NaN   \n",
       "2                  NaN                   NaN         NaN   \n",
       "3                  NaN                   NaN         NaN   \n",
       "4                  NaN                   NaN         NaN   \n",
       "\n",
       "  Revision Indicator (Y/N)  Footnote ID  \n",
       "0                      NaN          NaN  \n",
       "1                      NaN          NaN  \n",
       "2                      NaN          NaN  \n",
       "3                      NaN          NaN  \n",
       "4                      NaN          NaN  "
      ]
     },
     "execution_count": 4,
     "metadata": {},
     "output_type": "execute_result"
    }
   ],
   "source": [
    "df_effr = get_effr_spot()\n",
    "df_effr.head()"
   ]
  },
  {
   "cell_type": "code",
   "execution_count": 5,
   "metadata": {},
   "outputs": [
    {
     "name": "stderr",
     "output_type": "stream",
     "text": [
      "c:\\Users\\chris\\AppData\\Local\\Programs\\Python\\Python311\\Lib\\site-packages\\openpyxl\\styles\\stylesheet.py:226: UserWarning: Workbook contains no default style, apply openpyxl's default\n",
      "  warn(\"Workbook contains no default style, apply openpyxl's default\")\n",
      "c:\\Users\\chris\\AppData\\Local\\Programs\\Python\\Python311\\Lib\\site-packages\\openpyxl\\styles\\stylesheet.py:226: UserWarning: Workbook contains no default style, apply openpyxl's default\n",
      "  warn(\"Workbook contains no default style, apply openpyxl's default\")\n"
     ]
    },
    {
     "data": {
      "text/html": [
       "<div>\n",
       "<style scoped>\n",
       "    .dataframe tbody tr th:only-of-type {\n",
       "        vertical-align: middle;\n",
       "    }\n",
       "\n",
       "    .dataframe tbody tr th {\n",
       "        vertical-align: top;\n",
       "    }\n",
       "\n",
       "    .dataframe thead th {\n",
       "        text-align: right;\n",
       "    }\n",
       "</style>\n",
       "<table border=\"1\" class=\"dataframe\">\n",
       "  <thead>\n",
       "    <tr style=\"text-align: right;\">\n",
       "      <th></th>\n",
       "      <th>Effective Date</th>\n",
       "      <th>Rate Type_x</th>\n",
       "      <th>Rate (%)_x</th>\n",
       "      <th>1st Percentile (%)_x</th>\n",
       "      <th>25th Percentile (%)_x</th>\n",
       "      <th>75th Percentile (%)_x</th>\n",
       "      <th>99th Percentile (%)_x</th>\n",
       "      <th>Volume ($Billions)_x</th>\n",
       "      <th>Target Rate From (%)_x</th>\n",
       "      <th>Target Rate To (%)_x</th>\n",
       "      <th>...</th>\n",
       "      <th>Target Rate To (%)_y</th>\n",
       "      <th>Intra Day - Low (%)_y</th>\n",
       "      <th>Intra Day - High (%)_y</th>\n",
       "      <th>Standard Deviation (%)_y</th>\n",
       "      <th>30-Day Average SOFR_y</th>\n",
       "      <th>90-Day Average SOFR_y</th>\n",
       "      <th>180-Day Average SOFR_y</th>\n",
       "      <th>SOFR Index_y</th>\n",
       "      <th>Revision Indicator (Y/N)_y</th>\n",
       "      <th>Footnote ID_y</th>\n",
       "    </tr>\n",
       "  </thead>\n",
       "  <tbody>\n",
       "    <tr>\n",
       "      <th>0</th>\n",
       "      <td>2023-12-06</td>\n",
       "      <td>SOFR</td>\n",
       "      <td>5.32</td>\n",
       "      <td>5.28</td>\n",
       "      <td>5.31</td>\n",
       "      <td>5.41</td>\n",
       "      <td>5.45</td>\n",
       "      <td>1707</td>\n",
       "      <td>NaN</td>\n",
       "      <td>NaN</td>\n",
       "      <td>...</td>\n",
       "      <td>NaN</td>\n",
       "      <td>NaN</td>\n",
       "      <td>NaN</td>\n",
       "      <td>NaN</td>\n",
       "      <td>5.33877</td>\n",
       "      <td>5.35014</td>\n",
       "      <td>5.31178</td>\n",
       "      <td>1.110827</td>\n",
       "      <td>NaN</td>\n",
       "      <td>NaN</td>\n",
       "    </tr>\n",
       "    <tr>\n",
       "      <th>1</th>\n",
       "      <td>2023-12-05</td>\n",
       "      <td>SOFR</td>\n",
       "      <td>5.33</td>\n",
       "      <td>5.28</td>\n",
       "      <td>5.31</td>\n",
       "      <td>5.42</td>\n",
       "      <td>5.47</td>\n",
       "      <td>1792</td>\n",
       "      <td>NaN</td>\n",
       "      <td>NaN</td>\n",
       "      <td>...</td>\n",
       "      <td>NaN</td>\n",
       "      <td>NaN</td>\n",
       "      <td>NaN</td>\n",
       "      <td>NaN</td>\n",
       "      <td>5.33844</td>\n",
       "      <td>5.34980</td>\n",
       "      <td>5.31018</td>\n",
       "      <td>1.110662</td>\n",
       "      <td>NaN</td>\n",
       "      <td>NaN</td>\n",
       "    </tr>\n",
       "    <tr>\n",
       "      <th>2</th>\n",
       "      <td>2023-12-04</td>\n",
       "      <td>SOFR</td>\n",
       "      <td>5.37</td>\n",
       "      <td>5.28</td>\n",
       "      <td>5.31</td>\n",
       "      <td>5.44</td>\n",
       "      <td>5.48</td>\n",
       "      <td>1631</td>\n",
       "      <td>NaN</td>\n",
       "      <td>NaN</td>\n",
       "      <td>...</td>\n",
       "      <td>NaN</td>\n",
       "      <td>NaN</td>\n",
       "      <td>NaN</td>\n",
       "      <td>NaN</td>\n",
       "      <td>5.33674</td>\n",
       "      <td>5.34913</td>\n",
       "      <td>5.30835</td>\n",
       "      <td>1.110497</td>\n",
       "      <td>NaN</td>\n",
       "      <td>NaN</td>\n",
       "    </tr>\n",
       "    <tr>\n",
       "      <th>3</th>\n",
       "      <td>2023-12-01</td>\n",
       "      <td>SOFR</td>\n",
       "      <td>5.39</td>\n",
       "      <td>5.28</td>\n",
       "      <td>5.32</td>\n",
       "      <td>5.45</td>\n",
       "      <td>5.50</td>\n",
       "      <td>1650</td>\n",
       "      <td>NaN</td>\n",
       "      <td>NaN</td>\n",
       "      <td>...</td>\n",
       "      <td>NaN</td>\n",
       "      <td>NaN</td>\n",
       "      <td>NaN</td>\n",
       "      <td>NaN</td>\n",
       "      <td>5.33007</td>\n",
       "      <td>5.34643</td>\n",
       "      <td>5.30272</td>\n",
       "      <td>1.109998</td>\n",
       "      <td>NaN</td>\n",
       "      <td>NaN</td>\n",
       "    </tr>\n",
       "    <tr>\n",
       "      <th>4</th>\n",
       "      <td>2023-11-30</td>\n",
       "      <td>SOFR</td>\n",
       "      <td>5.33</td>\n",
       "      <td>5.28</td>\n",
       "      <td>5.31</td>\n",
       "      <td>5.44</td>\n",
       "      <td>5.51</td>\n",
       "      <td>1850</td>\n",
       "      <td>NaN</td>\n",
       "      <td>NaN</td>\n",
       "      <td>...</td>\n",
       "      <td>NaN</td>\n",
       "      <td>NaN</td>\n",
       "      <td>NaN</td>\n",
       "      <td>NaN</td>\n",
       "      <td>5.33074</td>\n",
       "      <td>5.34618</td>\n",
       "      <td>5.30124</td>\n",
       "      <td>1.109834</td>\n",
       "      <td>NaN</td>\n",
       "      <td>NaN</td>\n",
       "    </tr>\n",
       "  </tbody>\n",
       "</table>\n",
       "<p>5 rows × 37 columns</p>\n",
       "</div>"
      ],
      "text/plain": [
       "  Effective Date Rate Type_x  Rate (%)_x  1st Percentile (%)_x  \\\n",
       "0     2023-12-06        SOFR        5.32                  5.28   \n",
       "1     2023-12-05        SOFR        5.33                  5.28   \n",
       "2     2023-12-04        SOFR        5.37                  5.28   \n",
       "3     2023-12-01        SOFR        5.39                  5.28   \n",
       "4     2023-11-30        SOFR        5.33                  5.28   \n",
       "\n",
       "   25th Percentile (%)_x  75th Percentile (%)_x  99th Percentile (%)_x  \\\n",
       "0                   5.31                   5.41                   5.45   \n",
       "1                   5.31                   5.42                   5.47   \n",
       "2                   5.31                   5.44                   5.48   \n",
       "3                   5.32                   5.45                   5.50   \n",
       "4                   5.31                   5.44                   5.51   \n",
       "\n",
       "   Volume ($Billions)_x  Target Rate From (%)_x  Target Rate To (%)_x  ...  \\\n",
       "0                  1707                     NaN                   NaN  ...   \n",
       "1                  1792                     NaN                   NaN  ...   \n",
       "2                  1631                     NaN                   NaN  ...   \n",
       "3                  1650                     NaN                   NaN  ...   \n",
       "4                  1850                     NaN                   NaN  ...   \n",
       "\n",
       "   Target Rate To (%)_y  Intra Day - Low (%)_y  Intra Day - High (%)_y  \\\n",
       "0                   NaN                    NaN                     NaN   \n",
       "1                   NaN                    NaN                     NaN   \n",
       "2                   NaN                    NaN                     NaN   \n",
       "3                   NaN                    NaN                     NaN   \n",
       "4                   NaN                    NaN                     NaN   \n",
       "\n",
       "   Standard Deviation (%)_y  30-Day Average SOFR_y  90-Day Average SOFR_y  \\\n",
       "0                       NaN                5.33877                5.35014   \n",
       "1                       NaN                5.33844                5.34980   \n",
       "2                       NaN                5.33674                5.34913   \n",
       "3                       NaN                5.33007                5.34643   \n",
       "4                       NaN                5.33074                5.34618   \n",
       "\n",
       "   180-Day Average SOFR_y  SOFR Index_y  Revision Indicator (Y/N)_y  \\\n",
       "0                 5.31178      1.110827                         NaN   \n",
       "1                 5.31018      1.110662                         NaN   \n",
       "2                 5.30835      1.110497                         NaN   \n",
       "3                 5.30272      1.109998                         NaN   \n",
       "4                 5.30124      1.109834                         NaN   \n",
       "\n",
       "  Footnote ID_y  \n",
       "0           NaN  \n",
       "1           NaN  \n",
       "2           NaN  \n",
       "3           NaN  \n",
       "4           NaN  \n",
       "\n",
       "[5 rows x 37 columns]"
      ]
     },
     "execution_count": 5,
     "metadata": {},
     "output_type": "execute_result"
    }
   ],
   "source": [
    "df_sofr_spot = get_sofr_spot()\n",
    "df_sofr_avg_index = get_sofr_averages_index()\n",
    "df_sofr = pd.merge(df_sofr_spot, df_sofr_avg_index, on=\"Effective Date\")\n",
    "df_sofr.head()"
   ]
  },
  {
   "cell_type": "code",
   "execution_count": 8,
   "metadata": {},
   "outputs": [
    {
     "data": {
      "application/vnd.plotly.v1+json": {
       "config": {
        "plotlyServerURL": "https://plot.ly"
       },
       "data": [
        {
         "mode": "lines",
         "name": "SOFR Spot",
         "type": "scatter",
         "x": [
          "2023-12-06T00:00:00",
          "2023-12-05T00:00:00",
          "2023-12-04T00:00:00",
          "2023-12-01T00:00:00",
          "2023-11-30T00:00:00",
          "2023-11-29T00:00:00",
          "2023-11-28T00:00:00",
          "2023-11-27T00:00:00",
          "2023-11-24T00:00:00",
          "2023-11-22T00:00:00",
          "2023-11-21T00:00:00",
          "2023-11-20T00:00:00",
          "2023-11-17T00:00:00",
          "2023-11-16T00:00:00",
          "2023-11-15T00:00:00",
          "2023-11-14T00:00:00",
          "2023-11-13T00:00:00",
          "2023-11-10T00:00:00",
          "2023-11-09T00:00:00",
          "2023-11-08T00:00:00",
          "2023-11-07T00:00:00",
          "2023-11-06T00:00:00",
          "2023-11-03T00:00:00",
          "2023-11-02T00:00:00",
          "2023-11-01T00:00:00"
         ],
         "y": [
          5.32,
          5.33,
          5.37,
          5.39,
          5.33,
          5.31,
          5.32,
          5.32,
          5.32,
          5.31,
          5.31,
          5.31,
          5.32,
          5.32,
          5.32,
          5.32,
          5.32,
          5.32,
          5.32,
          5.32,
          5.32,
          5.32,
          5.32,
          5.33,
          5.32
         ]
        },
        {
         "mode": "lines",
         "name": "EFFR Spot",
         "type": "scatter",
         "x": [
          "2023-12-05T00:00:00",
          "2023-12-04T00:00:00",
          "2023-12-01T00:00:00",
          "2023-11-30T00:00:00",
          "2023-11-29T00:00:00",
          "2023-11-28T00:00:00",
          "2023-11-27T00:00:00",
          "2023-11-24T00:00:00",
          "2023-11-22T00:00:00",
          "2023-11-21T00:00:00",
          "2023-11-20T00:00:00",
          "2023-11-17T00:00:00",
          "2023-11-16T00:00:00",
          "2023-11-15T00:00:00",
          "2023-11-14T00:00:00",
          "2023-11-13T00:00:00",
          "2023-11-10T00:00:00",
          "2023-11-09T00:00:00",
          "2023-11-08T00:00:00",
          "2023-11-07T00:00:00",
          "2023-11-06T00:00:00",
          "2023-11-03T00:00:00",
          "2023-11-02T00:00:00",
          "2023-11-01T00:00:00"
         ],
         "y": [
          5.33,
          5.33,
          5.33,
          5.33,
          5.33,
          5.33,
          5.33,
          5.33,
          5.33,
          5.33,
          5.33,
          5.33,
          5.33,
          5.33,
          5.33,
          5.33,
          5.33,
          5.33,
          5.33,
          5.33,
          5.33,
          5.33,
          5.33,
          5.33
         ]
        },
        {
         "mode": "lines",
         "name": "Spread",
         "type": "scatter",
         "x": [
          "2023-12-05T00:00:00",
          "2023-12-04T00:00:00",
          "2023-12-01T00:00:00",
          "2023-11-30T00:00:00",
          "2023-11-29T00:00:00",
          "2023-11-28T00:00:00",
          "2023-11-27T00:00:00",
          "2023-11-24T00:00:00",
          "2023-11-22T00:00:00",
          "2023-11-21T00:00:00",
          "2023-11-20T00:00:00",
          "2023-11-17T00:00:00",
          "2023-11-16T00:00:00",
          "2023-11-15T00:00:00",
          "2023-11-14T00:00:00",
          "2023-11-13T00:00:00",
          "2023-11-10T00:00:00",
          "2023-11-09T00:00:00",
          "2023-11-08T00:00:00",
          "2023-11-07T00:00:00",
          "2023-11-06T00:00:00",
          "2023-11-03T00:00:00",
          "2023-11-02T00:00:00",
          "2023-11-01T00:00:00"
         ],
         "y": [
          0,
          -0.040000000000000036,
          -0.05999999999999961,
          0,
          0.020000000000000462,
          0.009999999999999787,
          0.009999999999999787,
          0.009999999999999787,
          0.020000000000000462,
          0.020000000000000462,
          0.020000000000000462,
          0.009999999999999787,
          0.009999999999999787,
          0.009999999999999787,
          0.009999999999999787,
          0.009999999999999787,
          0.009999999999999787,
          0.009999999999999787,
          0.009999999999999787,
          0.009999999999999787,
          0.009999999999999787,
          0.009999999999999787,
          0,
          0.009999999999999787
         ],
         "yaxis": "y2"
        }
       ],
       "layout": {
        "showlegend": true,
        "template": {
         "data": {
          "bar": [
           {
            "error_x": {
             "color": "#2a3f5f"
            },
            "error_y": {
             "color": "#2a3f5f"
            },
            "marker": {
             "line": {
              "color": "#E5ECF6",
              "width": 0.5
             },
             "pattern": {
              "fillmode": "overlay",
              "size": 10,
              "solidity": 0.2
             }
            },
            "type": "bar"
           }
          ],
          "barpolar": [
           {
            "marker": {
             "line": {
              "color": "#E5ECF6",
              "width": 0.5
             },
             "pattern": {
              "fillmode": "overlay",
              "size": 10,
              "solidity": 0.2
             }
            },
            "type": "barpolar"
           }
          ],
          "carpet": [
           {
            "aaxis": {
             "endlinecolor": "#2a3f5f",
             "gridcolor": "white",
             "linecolor": "white",
             "minorgridcolor": "white",
             "startlinecolor": "#2a3f5f"
            },
            "baxis": {
             "endlinecolor": "#2a3f5f",
             "gridcolor": "white",
             "linecolor": "white",
             "minorgridcolor": "white",
             "startlinecolor": "#2a3f5f"
            },
            "type": "carpet"
           }
          ],
          "choropleth": [
           {
            "colorbar": {
             "outlinewidth": 0,
             "ticks": ""
            },
            "type": "choropleth"
           }
          ],
          "contour": [
           {
            "colorbar": {
             "outlinewidth": 0,
             "ticks": ""
            },
            "colorscale": [
             [
              0,
              "#0d0887"
             ],
             [
              0.1111111111111111,
              "#46039f"
             ],
             [
              0.2222222222222222,
              "#7201a8"
             ],
             [
              0.3333333333333333,
              "#9c179e"
             ],
             [
              0.4444444444444444,
              "#bd3786"
             ],
             [
              0.5555555555555556,
              "#d8576b"
             ],
             [
              0.6666666666666666,
              "#ed7953"
             ],
             [
              0.7777777777777778,
              "#fb9f3a"
             ],
             [
              0.8888888888888888,
              "#fdca26"
             ],
             [
              1,
              "#f0f921"
             ]
            ],
            "type": "contour"
           }
          ],
          "contourcarpet": [
           {
            "colorbar": {
             "outlinewidth": 0,
             "ticks": ""
            },
            "type": "contourcarpet"
           }
          ],
          "heatmap": [
           {
            "colorbar": {
             "outlinewidth": 0,
             "ticks": ""
            },
            "colorscale": [
             [
              0,
              "#0d0887"
             ],
             [
              0.1111111111111111,
              "#46039f"
             ],
             [
              0.2222222222222222,
              "#7201a8"
             ],
             [
              0.3333333333333333,
              "#9c179e"
             ],
             [
              0.4444444444444444,
              "#bd3786"
             ],
             [
              0.5555555555555556,
              "#d8576b"
             ],
             [
              0.6666666666666666,
              "#ed7953"
             ],
             [
              0.7777777777777778,
              "#fb9f3a"
             ],
             [
              0.8888888888888888,
              "#fdca26"
             ],
             [
              1,
              "#f0f921"
             ]
            ],
            "type": "heatmap"
           }
          ],
          "heatmapgl": [
           {
            "colorbar": {
             "outlinewidth": 0,
             "ticks": ""
            },
            "colorscale": [
             [
              0,
              "#0d0887"
             ],
             [
              0.1111111111111111,
              "#46039f"
             ],
             [
              0.2222222222222222,
              "#7201a8"
             ],
             [
              0.3333333333333333,
              "#9c179e"
             ],
             [
              0.4444444444444444,
              "#bd3786"
             ],
             [
              0.5555555555555556,
              "#d8576b"
             ],
             [
              0.6666666666666666,
              "#ed7953"
             ],
             [
              0.7777777777777778,
              "#fb9f3a"
             ],
             [
              0.8888888888888888,
              "#fdca26"
             ],
             [
              1,
              "#f0f921"
             ]
            ],
            "type": "heatmapgl"
           }
          ],
          "histogram": [
           {
            "marker": {
             "pattern": {
              "fillmode": "overlay",
              "size": 10,
              "solidity": 0.2
             }
            },
            "type": "histogram"
           }
          ],
          "histogram2d": [
           {
            "colorbar": {
             "outlinewidth": 0,
             "ticks": ""
            },
            "colorscale": [
             [
              0,
              "#0d0887"
             ],
             [
              0.1111111111111111,
              "#46039f"
             ],
             [
              0.2222222222222222,
              "#7201a8"
             ],
             [
              0.3333333333333333,
              "#9c179e"
             ],
             [
              0.4444444444444444,
              "#bd3786"
             ],
             [
              0.5555555555555556,
              "#d8576b"
             ],
             [
              0.6666666666666666,
              "#ed7953"
             ],
             [
              0.7777777777777778,
              "#fb9f3a"
             ],
             [
              0.8888888888888888,
              "#fdca26"
             ],
             [
              1,
              "#f0f921"
             ]
            ],
            "type": "histogram2d"
           }
          ],
          "histogram2dcontour": [
           {
            "colorbar": {
             "outlinewidth": 0,
             "ticks": ""
            },
            "colorscale": [
             [
              0,
              "#0d0887"
             ],
             [
              0.1111111111111111,
              "#46039f"
             ],
             [
              0.2222222222222222,
              "#7201a8"
             ],
             [
              0.3333333333333333,
              "#9c179e"
             ],
             [
              0.4444444444444444,
              "#bd3786"
             ],
             [
              0.5555555555555556,
              "#d8576b"
             ],
             [
              0.6666666666666666,
              "#ed7953"
             ],
             [
              0.7777777777777778,
              "#fb9f3a"
             ],
             [
              0.8888888888888888,
              "#fdca26"
             ],
             [
              1,
              "#f0f921"
             ]
            ],
            "type": "histogram2dcontour"
           }
          ],
          "mesh3d": [
           {
            "colorbar": {
             "outlinewidth": 0,
             "ticks": ""
            },
            "type": "mesh3d"
           }
          ],
          "parcoords": [
           {
            "line": {
             "colorbar": {
              "outlinewidth": 0,
              "ticks": ""
             }
            },
            "type": "parcoords"
           }
          ],
          "pie": [
           {
            "automargin": true,
            "type": "pie"
           }
          ],
          "scatter": [
           {
            "fillpattern": {
             "fillmode": "overlay",
             "size": 10,
             "solidity": 0.2
            },
            "type": "scatter"
           }
          ],
          "scatter3d": [
           {
            "line": {
             "colorbar": {
              "outlinewidth": 0,
              "ticks": ""
             }
            },
            "marker": {
             "colorbar": {
              "outlinewidth": 0,
              "ticks": ""
             }
            },
            "type": "scatter3d"
           }
          ],
          "scattercarpet": [
           {
            "marker": {
             "colorbar": {
              "outlinewidth": 0,
              "ticks": ""
             }
            },
            "type": "scattercarpet"
           }
          ],
          "scattergeo": [
           {
            "marker": {
             "colorbar": {
              "outlinewidth": 0,
              "ticks": ""
             }
            },
            "type": "scattergeo"
           }
          ],
          "scattergl": [
           {
            "marker": {
             "colorbar": {
              "outlinewidth": 0,
              "ticks": ""
             }
            },
            "type": "scattergl"
           }
          ],
          "scattermapbox": [
           {
            "marker": {
             "colorbar": {
              "outlinewidth": 0,
              "ticks": ""
             }
            },
            "type": "scattermapbox"
           }
          ],
          "scatterpolar": [
           {
            "marker": {
             "colorbar": {
              "outlinewidth": 0,
              "ticks": ""
             }
            },
            "type": "scatterpolar"
           }
          ],
          "scatterpolargl": [
           {
            "marker": {
             "colorbar": {
              "outlinewidth": 0,
              "ticks": ""
             }
            },
            "type": "scatterpolargl"
           }
          ],
          "scatterternary": [
           {
            "marker": {
             "colorbar": {
              "outlinewidth": 0,
              "ticks": ""
             }
            },
            "type": "scatterternary"
           }
          ],
          "surface": [
           {
            "colorbar": {
             "outlinewidth": 0,
             "ticks": ""
            },
            "colorscale": [
             [
              0,
              "#0d0887"
             ],
             [
              0.1111111111111111,
              "#46039f"
             ],
             [
              0.2222222222222222,
              "#7201a8"
             ],
             [
              0.3333333333333333,
              "#9c179e"
             ],
             [
              0.4444444444444444,
              "#bd3786"
             ],
             [
              0.5555555555555556,
              "#d8576b"
             ],
             [
              0.6666666666666666,
              "#ed7953"
             ],
             [
              0.7777777777777778,
              "#fb9f3a"
             ],
             [
              0.8888888888888888,
              "#fdca26"
             ],
             [
              1,
              "#f0f921"
             ]
            ],
            "type": "surface"
           }
          ],
          "table": [
           {
            "cells": {
             "fill": {
              "color": "#EBF0F8"
             },
             "line": {
              "color": "white"
             }
            },
            "header": {
             "fill": {
              "color": "#C8D4E3"
             },
             "line": {
              "color": "white"
             }
            },
            "type": "table"
           }
          ]
         },
         "layout": {
          "annotationdefaults": {
           "arrowcolor": "#2a3f5f",
           "arrowhead": 0,
           "arrowwidth": 1
          },
          "autotypenumbers": "strict",
          "coloraxis": {
           "colorbar": {
            "outlinewidth": 0,
            "ticks": ""
           }
          },
          "colorscale": {
           "diverging": [
            [
             0,
             "#8e0152"
            ],
            [
             0.1,
             "#c51b7d"
            ],
            [
             0.2,
             "#de77ae"
            ],
            [
             0.3,
             "#f1b6da"
            ],
            [
             0.4,
             "#fde0ef"
            ],
            [
             0.5,
             "#f7f7f7"
            ],
            [
             0.6,
             "#e6f5d0"
            ],
            [
             0.7,
             "#b8e186"
            ],
            [
             0.8,
             "#7fbc41"
            ],
            [
             0.9,
             "#4d9221"
            ],
            [
             1,
             "#276419"
            ]
           ],
           "sequential": [
            [
             0,
             "#0d0887"
            ],
            [
             0.1111111111111111,
             "#46039f"
            ],
            [
             0.2222222222222222,
             "#7201a8"
            ],
            [
             0.3333333333333333,
             "#9c179e"
            ],
            [
             0.4444444444444444,
             "#bd3786"
            ],
            [
             0.5555555555555556,
             "#d8576b"
            ],
            [
             0.6666666666666666,
             "#ed7953"
            ],
            [
             0.7777777777777778,
             "#fb9f3a"
            ],
            [
             0.8888888888888888,
             "#fdca26"
            ],
            [
             1,
             "#f0f921"
            ]
           ],
           "sequentialminus": [
            [
             0,
             "#0d0887"
            ],
            [
             0.1111111111111111,
             "#46039f"
            ],
            [
             0.2222222222222222,
             "#7201a8"
            ],
            [
             0.3333333333333333,
             "#9c179e"
            ],
            [
             0.4444444444444444,
             "#bd3786"
            ],
            [
             0.5555555555555556,
             "#d8576b"
            ],
            [
             0.6666666666666666,
             "#ed7953"
            ],
            [
             0.7777777777777778,
             "#fb9f3a"
            ],
            [
             0.8888888888888888,
             "#fdca26"
            ],
            [
             1,
             "#f0f921"
            ]
           ]
          },
          "colorway": [
           "#636efa",
           "#EF553B",
           "#00cc96",
           "#ab63fa",
           "#FFA15A",
           "#19d3f3",
           "#FF6692",
           "#B6E880",
           "#FF97FF",
           "#FECB52"
          ],
          "font": {
           "color": "#2a3f5f"
          },
          "geo": {
           "bgcolor": "white",
           "lakecolor": "white",
           "landcolor": "#E5ECF6",
           "showlakes": true,
           "showland": true,
           "subunitcolor": "white"
          },
          "hoverlabel": {
           "align": "left"
          },
          "hovermode": "closest",
          "mapbox": {
           "style": "light"
          },
          "paper_bgcolor": "white",
          "plot_bgcolor": "#E5ECF6",
          "polar": {
           "angularaxis": {
            "gridcolor": "white",
            "linecolor": "white",
            "ticks": ""
           },
           "bgcolor": "#E5ECF6",
           "radialaxis": {
            "gridcolor": "white",
            "linecolor": "white",
            "ticks": ""
           }
          },
          "scene": {
           "xaxis": {
            "backgroundcolor": "#E5ECF6",
            "gridcolor": "white",
            "gridwidth": 2,
            "linecolor": "white",
            "showbackground": true,
            "ticks": "",
            "zerolinecolor": "white"
           },
           "yaxis": {
            "backgroundcolor": "#E5ECF6",
            "gridcolor": "white",
            "gridwidth": 2,
            "linecolor": "white",
            "showbackground": true,
            "ticks": "",
            "zerolinecolor": "white"
           },
           "zaxis": {
            "backgroundcolor": "#E5ECF6",
            "gridcolor": "white",
            "gridwidth": 2,
            "linecolor": "white",
            "showbackground": true,
            "ticks": "",
            "zerolinecolor": "white"
           }
          },
          "shapedefaults": {
           "line": {
            "color": "#2a3f5f"
           }
          },
          "ternary": {
           "aaxis": {
            "gridcolor": "white",
            "linecolor": "white",
            "ticks": ""
           },
           "baxis": {
            "gridcolor": "white",
            "linecolor": "white",
            "ticks": ""
           },
           "bgcolor": "#E5ECF6",
           "caxis": {
            "gridcolor": "white",
            "linecolor": "white",
            "ticks": ""
           }
          },
          "title": {
           "x": 0.05
          },
          "xaxis": {
           "automargin": true,
           "gridcolor": "white",
           "linecolor": "white",
           "ticks": "",
           "title": {
            "standoff": 15
           },
           "zerolinecolor": "white",
           "zerolinewidth": 2
          },
          "yaxis": {
           "automargin": true,
           "gridcolor": "white",
           "linecolor": "white",
           "ticks": "",
           "title": {
            "standoff": 15
           },
           "zerolinecolor": "white",
           "zerolinewidth": 2
          }
         }
        },
        "title": {
         "text": "SOFR & EEFR Daily Rates"
        },
        "xaxis": {
         "title": {
          "text": "Date"
         }
        },
        "yaxis": {
         "tickfont": {
          "color": "blue"
         },
         "title": {
          "font": {
           "color": "blue"
          },
          "text": "Rate"
         }
        },
        "yaxis2": {
         "overlaying": "y",
         "side": "right",
         "tickfont": {
          "color": "green"
         },
         "title": {
          "font": {
           "color": "green"
          },
          "text": "Spread"
         }
        }
       }
      }
     },
     "metadata": {},
     "output_type": "display_data"
    }
   ],
   "source": [
    "plot_ref_rates(df_sofr, df_effr, date_subset_range=[datetime(2023, 11, 1), datetime(2023, 12, 6)], plot_spread=True)\n",
    "# plot_ref_rates(df_sofr, df_effr, plot_spread=True)\n",
    "# plot_ref_rates(df_sofr, df_effr)"
   ]
  },
  {
   "cell_type": "code",
   "execution_count": 8,
   "metadata": {},
   "outputs": [],
   "source": [
    "today = datetime.today()\n",
    "diff = max(1, (today.weekday() + 6) % 7 - 3)\n",
    "most_recent_business_day = today - timedelta(days=diff)\n",
    "\n",
    "# Friday spot prices are updated on Monday, use Thursdays if running on weekend \n",
    "if today.weekday() in (5, 6):\n",
    "    most_recent_business_day = most_recent_business_day - timedelta(days=1)\n",
    "    \n",
    "date_range = [\n",
    "    most_recent_business_day,\n",
    "    most_recent_business_day + timedelta(weeks=52 * 40),\n",
    "]"
   ]
  },
  {
   "cell_type": "code",
   "execution_count": 9,
   "metadata": {},
   "outputs": [
    {
     "name": "stderr",
     "output_type": "stream",
     "text": [
      "C:\\Users\\chris\\AppData\\Local\\Temp\\ipykernel_53844\\569069278.py:1: UserWarning:\n",
      "\n",
      "Parsing dates in DD/MM/YYYY format when dayfirst=False (the default) was specified. This may lead to inconsistently parsed dates! Specify a format to ensure consistent parsing.\n",
      "\n"
     ]
    },
    {
     "data": {
      "text/plain": [
       "2023-05-12    0.0533\n",
       "2023-05-15    0.0000\n",
       "2023-05-16    0.0000\n",
       "2023-05-17    0.0000\n",
       "2023-05-18    0.0000\n",
       "Freq: B, dtype: float64"
      ]
     },
     "execution_count": 9,
     "metadata": {},
     "output_type": "execute_result"
    },
    {
     "data": {
      "image/png": "[encoded data removed]",
      "text/plain": [
       "<Figure size 640x480 with 1 Axes>"
      ]
     },
     "metadata": {},
     "output_type": "display_data"
    }
   ],
   "source": [
    "fwd_dates = pd.bdate_range(\n",
    "    start=date_range[0].strftime(\"%d/%m/%Y\"), end=date_range[1].strftime(\"%d/%m/%Y\")\n",
    ")\n",
    "fwd_rates = np.array([0] * len(fwd_dates))\n",
    "fwd_rates = pd.Series(fwd_rates, index=fwd_dates)\n",
    "row = df_sofr.loc[\n",
    "    df_sofr[\"Effective Date\"] == most_recent_business_day.strftime(\"%Y-%m-%d\")\n",
    "]\n",
    "fwd_rates.iloc[0] = row.iloc[0][\"Rate (%)_x\"] / 100\n",
    "\n",
    "fwd_rates[fwd_rates.index <= (date_range[0] + timedelta(weeks=52))].plot(\n",
    "    title=\"SOFR Fwd - Spot\"\n",
    ")\n",
    "\n",
    "fwd_rates.head()"
   ]
  },
  {
   "cell_type": "code",
   "execution_count": 96,
   "metadata": {},
   "outputs": [],
   "source": [
    "def flatten_json(y):\n",
    "    out = {}\n",
    "\n",
    "    def flatten(x, name=\"\"):\n",
    "        if type(x) is dict:\n",
    "            for a in x:\n",
    "                flatten(x[a], name + a + \"_\")\n",
    "        elif type(x) is list:\n",
    "            i = 0\n",
    "            for a in x:\n",
    "                flatten(a, name + str(i) + \"_\")\n",
    "                i += 1\n",
    "        else:\n",
    "            out[name[:-1]] = x\n",
    "\n",
    "    flatten(y)\n",
    "    return out\n",
    "\n",
    "\n",
    "SOFRProducts = Literal[\"SR1\", \"SR3\", \"ZQ\"]\n",
    "product_codes = {\"SR1\": 8463, \"SR3\": 8462, \"ZQ\": 305}\n",
    "\n",
    "\n",
    "def get_cme_sofr_futures(product: SOFRProducts, make_xlsx=False, parent_dir=None, set_contract_key=False) -> pd.DataFrame:\n",
    "    now = round(time.time() * 1000)\n",
    "    url = f\"https://www.cmegroup.com/CmeWS/mvc/Quotes/Future/{product_codes[product]}/G?isProtected&_t={now}\"\n",
    "    try:\n",
    "        res = requests.get(url)\n",
    "        if res.status_code != 200:\n",
    "            raise Exception(\"Bad Status Code\")\n",
    "        json = res.json()\n",
    "        as_of = json[\"tradeDate\"]\n",
    "        quotes = [flatten_json(o) for o in (json[\"quotes\"])]\n",
    "        df = pd.DataFrame(quotes)\n",
    "        file_name = f\"{parent_dir}/{product}_quotes.xlsx\" if parent_dir else f\"{product}_quotes.xlsx\" \n",
    "        df.to_excel(file_name, index=False, sheet_name=as_of) if make_xlsx else None\n",
    "        df = df.set_index(\"expirationMonth\") if set_contract_key else df\n",
    "        return df \n",
    "    except Exception as e:\n",
    "        print(e)\n",
    "        return pd.DataFrame()\n",
    "    \n",
    "    \n",
    "def get_cme_volume_date(product: SOFRProducts, dt: datetime):\n",
    "    now = round(time.time() * 1000)\n",
    "    dt_str = dt.strftime(\"%Y%m%d\")\n",
    "    url = f\"https://www.cmegroup.com/CmeWS/mvc/Volume/Details/F/{product_codes[product]}/{dt_str}/P?tradeDate={dt_str}&isProtected&_t={now}\"\n",
    "    print(url)"
   ]
  },
  {
   "cell_type": "code",
   "execution_count": 109,
   "metadata": {},
   "outputs": [
    {
     "name": "stdout",
     "output_type": "stream",
     "text": [
      "https://www.cmegroup.com/CmeWS/mvc/Volume/Details/F/8462/20231018/P?tradeDate=20231018&isProtected&_t=1701646056111\n"
     ]
    }
   ],
   "source": [
    "get_cme_volume_date(\"SR3\", datetime(2023, 10, 18))"
   ]
  },
  {
   "cell_type": "code",
   "execution_count": 86,
   "metadata": {},
   "outputs": [
    {
     "data": {
      "text/html": [
       "<div>\n",
       "<style scoped>\n",
       "    .dataframe tbody tr th:only-of-type {\n",
       "        vertical-align: middle;\n",
       "    }\n",
       "\n",
       "    .dataframe tbody tr th {\n",
       "        vertical-align: top;\n",
       "    }\n",
       "\n",
       "    .dataframe thead th {\n",
       "        text-align: right;\n",
       "    }\n",
       "</style>\n",
       "<table border=\"1\" class=\"dataframe\">\n",
       "  <thead>\n",
       "    <tr style=\"text-align: right;\">\n",
       "      <th></th>\n",
       "      <th>last</th>\n",
       "      <th>change</th>\n",
       "      <th>priorSettle</th>\n",
       "      <th>open</th>\n",
       "      <th>close</th>\n",
       "      <th>high</th>\n",
       "      <th>low</th>\n",
       "      <th>highLimit</th>\n",
       "      <th>lowLimit</th>\n",
       "      <th>volume</th>\n",
       "      <th>...</th>\n",
       "      <th>priceChart_code</th>\n",
       "      <th>priceChart_monthYear</th>\n",
       "      <th>priceChart_venue</th>\n",
       "      <th>priceChart_title</th>\n",
       "      <th>priceChart_year</th>\n",
       "      <th>group</th>\n",
       "      <th>netChangeStatus</th>\n",
       "      <th>highLowLimits</th>\n",
       "      <th>isFrontMonth</th>\n",
       "      <th>lastUpdated</th>\n",
       "    </tr>\n",
       "    <tr>\n",
       "      <th>expirationMonth</th>\n",
       "      <th></th>\n",
       "      <th></th>\n",
       "      <th></th>\n",
       "      <th></th>\n",
       "      <th></th>\n",
       "      <th></th>\n",
       "      <th></th>\n",
       "      <th></th>\n",
       "      <th></th>\n",
       "      <th></th>\n",
       "      <th></th>\n",
       "      <th></th>\n",
       "      <th></th>\n",
       "      <th></th>\n",
       "      <th></th>\n",
       "      <th></th>\n",
       "      <th></th>\n",
       "      <th></th>\n",
       "      <th></th>\n",
       "      <th></th>\n",
       "      <th></th>\n",
       "    </tr>\n",
       "  </thead>\n",
       "  <tbody>\n",
       "    <tr>\n",
       "      <th>DEC 2023</th>\n",
       "      <td>94.67</td>\n",
       "      <td>UNCH</td>\n",
       "      <td>94.67</td>\n",
       "      <td>94.67</td>\n",
       "      <td>-</td>\n",
       "      <td>94.6725</td>\n",
       "      <td>94.6675</td>\n",
       "      <td>-</td>\n",
       "      <td>0.0025</td>\n",
       "      <td>37,502</td>\n",
       "      <td>...</td>\n",
       "      <td>SR1</td>\n",
       "      <td>Z3</td>\n",
       "      <td>0</td>\n",
       "      <td>Chart+-+Dec+2023+One-Month+SOFR</td>\n",
       "      <td>2023</td>\n",
       "      <td>Interest Rate</td>\n",
       "      <td>statusNull</td>\n",
       "      <td>No Limit / 0.0025</td>\n",
       "      <td>False</td>\n",
       "      <td>2023-12-02T22:00:06.086</td>\n",
       "    </tr>\n",
       "    <tr>\n",
       "      <th>JAN 2024</th>\n",
       "      <td>94.665</td>\n",
       "      <td>+0.005</td>\n",
       "      <td>94.66</td>\n",
       "      <td>94.66</td>\n",
       "      <td>-</td>\n",
       "      <td>94.67</td>\n",
       "      <td>94.655</td>\n",
       "      <td>-</td>\n",
       "      <td>0.0025</td>\n",
       "      <td>72,158</td>\n",
       "      <td>...</td>\n",
       "      <td>SR1</td>\n",
       "      <td>F4</td>\n",
       "      <td>0</td>\n",
       "      <td>Chart+-+Jan+2024+One-Month+SOFR</td>\n",
       "      <td>2024</td>\n",
       "      <td>Interest Rate</td>\n",
       "      <td>statusOK</td>\n",
       "      <td>No Limit / 0.0025</td>\n",
       "      <td>False</td>\n",
       "      <td>2023-12-02T22:00:06.086</td>\n",
       "    </tr>\n",
       "    <tr>\n",
       "      <th>FEB 2024</th>\n",
       "      <td>94.70</td>\n",
       "      <td>+0.04</td>\n",
       "      <td>94.66</td>\n",
       "      <td>94.67</td>\n",
       "      <td>-</td>\n",
       "      <td>94.705</td>\n",
       "      <td>94.67</td>\n",
       "      <td>-</td>\n",
       "      <td>0.0025</td>\n",
       "      <td>101,613</td>\n",
       "      <td>...</td>\n",
       "      <td>SR1</td>\n",
       "      <td>G4</td>\n",
       "      <td>0</td>\n",
       "      <td>Chart+-+Feb+2024+One-Month+SOFR</td>\n",
       "      <td>2024</td>\n",
       "      <td>Interest Rate</td>\n",
       "      <td>statusOK</td>\n",
       "      <td>No Limit / 0.0025</td>\n",
       "      <td>False</td>\n",
       "      <td>2023-12-02T22:00:06.086</td>\n",
       "    </tr>\n",
       "    <tr>\n",
       "      <th>MAR 2024</th>\n",
       "      <td>94.745</td>\n",
       "      <td>+0.05</td>\n",
       "      <td>94.695</td>\n",
       "      <td>94.71</td>\n",
       "      <td>-</td>\n",
       "      <td>94.755</td>\n",
       "      <td>94.70</td>\n",
       "      <td>-</td>\n",
       "      <td>0.0025</td>\n",
       "      <td>28,068</td>\n",
       "      <td>...</td>\n",
       "      <td>SR1</td>\n",
       "      <td>H4</td>\n",
       "      <td>0</td>\n",
       "      <td>Chart+-+Mar+2024+One-Month+SOFR</td>\n",
       "      <td>2024</td>\n",
       "      <td>Interest Rate</td>\n",
       "      <td>statusOK</td>\n",
       "      <td>No Limit / 0.0025</td>\n",
       "      <td>False</td>\n",
       "      <td>2023-12-02T22:00:06.086</td>\n",
       "    </tr>\n",
       "    <tr>\n",
       "      <th>APR 2024</th>\n",
       "      <td>94.835</td>\n",
       "      <td>+0.07</td>\n",
       "      <td>94.765</td>\n",
       "      <td>94.775</td>\n",
       "      <td>-</td>\n",
       "      <td>94.85</td>\n",
       "      <td>94.77</td>\n",
       "      <td>-</td>\n",
       "      <td>0.0025</td>\n",
       "      <td>28,448</td>\n",
       "      <td>...</td>\n",
       "      <td>SR1</td>\n",
       "      <td>J4</td>\n",
       "      <td>0</td>\n",
       "      <td>Chart+-+Apr+2024+One-Month+SOFR</td>\n",
       "      <td>2024</td>\n",
       "      <td>Interest Rate</td>\n",
       "      <td>statusOK</td>\n",
       "      <td>No Limit / 0.0025</td>\n",
       "      <td>False</td>\n",
       "      <td>2023-12-02T22:00:06.086</td>\n",
       "    </tr>\n",
       "    <tr>\n",
       "      <th>MAY 2024</th>\n",
       "      <td>95.02</td>\n",
       "      <td>+0.115</td>\n",
       "      <td>94.905</td>\n",
       "      <td>94.93</td>\n",
       "      <td>-</td>\n",
       "      <td>95.035</td>\n",
       "      <td>94.915</td>\n",
       "      <td>-</td>\n",
       "      <td>0.0025</td>\n",
       "      <td>23,239</td>\n",
       "      <td>...</td>\n",
       "      <td>SR1</td>\n",
       "      <td>K4</td>\n",
       "      <td>0</td>\n",
       "      <td>Chart+-+May+2024+One-Month+SOFR</td>\n",
       "      <td>2024</td>\n",
       "      <td>Interest Rate</td>\n",
       "      <td>statusOK</td>\n",
       "      <td>No Limit / 0.0025</td>\n",
       "      <td>True</td>\n",
       "      <td>2023-12-02T22:00:06.086</td>\n",
       "    </tr>\n",
       "    <tr>\n",
       "      <th>JUN 2024</th>\n",
       "      <td>95.14</td>\n",
       "      <td>+0.13</td>\n",
       "      <td>95.01</td>\n",
       "      <td>95.04</td>\n",
       "      <td>-</td>\n",
       "      <td>95.155</td>\n",
       "      <td>95.015</td>\n",
       "      <td>-</td>\n",
       "      <td>0.0025</td>\n",
       "      <td>7,438</td>\n",
       "      <td>...</td>\n",
       "      <td>SR1</td>\n",
       "      <td>M4</td>\n",
       "      <td>0</td>\n",
       "      <td>Chart+-+Jun+2024+One-Month+SOFR</td>\n",
       "      <td>2024</td>\n",
       "      <td>Interest Rate</td>\n",
       "      <td>statusOK</td>\n",
       "      <td>No Limit / 0.0025</td>\n",
       "      <td>False</td>\n",
       "      <td>2023-12-02T22:00:06.086</td>\n",
       "    </tr>\n",
       "    <tr>\n",
       "      <th>JUL 2024</th>\n",
       "      <td>95.22</td>\n",
       "      <td>+0.145</td>\n",
       "      <td>95.075</td>\n",
       "      <td>95.11</td>\n",
       "      <td>-</td>\n",
       "      <td>95.245</td>\n",
       "      <td>95.08</td>\n",
       "      <td>-</td>\n",
       "      <td>0.0025</td>\n",
       "      <td>6,055</td>\n",
       "      <td>...</td>\n",
       "      <td>SR1</td>\n",
       "      <td>N4</td>\n",
       "      <td>0</td>\n",
       "      <td>Chart+-+Jul+2024+One-Month+SOFR</td>\n",
       "      <td>2024</td>\n",
       "      <td>Interest Rate</td>\n",
       "      <td>statusOK</td>\n",
       "      <td>No Limit / 0.0025</td>\n",
       "      <td>False</td>\n",
       "      <td>2023-12-02T22:00:06.086</td>\n",
       "    </tr>\n",
       "    <tr>\n",
       "      <th>AUG 2024</th>\n",
       "      <td>95.42</td>\n",
       "      <td>+0.18</td>\n",
       "      <td>95.24</td>\n",
       "      <td>95.275</td>\n",
       "      <td>-</td>\n",
       "      <td>95.435</td>\n",
       "      <td>95.245</td>\n",
       "      <td>-</td>\n",
       "      <td>0.0025</td>\n",
       "      <td>2,666</td>\n",
       "      <td>...</td>\n",
       "      <td>SR1</td>\n",
       "      <td>Q4</td>\n",
       "      <td>0</td>\n",
       "      <td>Chart+-+Aug+2024+One-Month+SOFR</td>\n",
       "      <td>2024</td>\n",
       "      <td>Interest Rate</td>\n",
       "      <td>statusOK</td>\n",
       "      <td>No Limit / 0.0025</td>\n",
       "      <td>False</td>\n",
       "      <td>2023-12-02T22:00:06.086</td>\n",
       "    </tr>\n",
       "    <tr>\n",
       "      <th>SEP 2024</th>\n",
       "      <td>95.50</td>\n",
       "      <td>+0.19</td>\n",
       "      <td>95.31</td>\n",
       "      <td>95.355</td>\n",
       "      <td>-</td>\n",
       "      <td>95.51</td>\n",
       "      <td>95.32</td>\n",
       "      <td>-</td>\n",
       "      <td>0.0025</td>\n",
       "      <td>560</td>\n",
       "      <td>...</td>\n",
       "      <td>SR1</td>\n",
       "      <td>U4</td>\n",
       "      <td>0</td>\n",
       "      <td>Chart+-+Sep+2024+One-Month+SOFR</td>\n",
       "      <td>2024</td>\n",
       "      <td>Interest Rate</td>\n",
       "      <td>statusOK</td>\n",
       "      <td>No Limit / 0.0025</td>\n",
       "      <td>False</td>\n",
       "      <td>2023-12-02T22:00:06.086</td>\n",
       "    </tr>\n",
       "    <tr>\n",
       "      <th>OCT 2024</th>\n",
       "      <td>95.625</td>\n",
       "      <td>+0.20</td>\n",
       "      <td>95.425</td>\n",
       "      <td>95.465</td>\n",
       "      <td>-</td>\n",
       "      <td>95.63</td>\n",
       "      <td>95.435</td>\n",
       "      <td>-</td>\n",
       "      <td>0.0025</td>\n",
       "      <td>333</td>\n",
       "      <td>...</td>\n",
       "      <td>SR1</td>\n",
       "      <td>V4</td>\n",
       "      <td>0</td>\n",
       "      <td>Chart+-+Oct+2024+One-Month+SOFR</td>\n",
       "      <td>2024</td>\n",
       "      <td>Interest Rate</td>\n",
       "      <td>statusOK</td>\n",
       "      <td>No Limit / 0.0025</td>\n",
       "      <td>False</td>\n",
       "      <td>2023-12-02T22:00:06.086</td>\n",
       "    </tr>\n",
       "    <tr>\n",
       "      <th>NOV 2024</th>\n",
       "      <td>95.785</td>\n",
       "      <td>+0.23</td>\n",
       "      <td>95.555</td>\n",
       "      <td>95.60</td>\n",
       "      <td>-</td>\n",
       "      <td>95.785</td>\n",
       "      <td>95.57</td>\n",
       "      <td>-</td>\n",
       "      <td>0.0025</td>\n",
       "      <td>95</td>\n",
       "      <td>...</td>\n",
       "      <td>SR1</td>\n",
       "      <td>X4</td>\n",
       "      <td>0</td>\n",
       "      <td>Chart+-+Nov+2024+One-Month+SOFR</td>\n",
       "      <td>2024</td>\n",
       "      <td>Interest Rate</td>\n",
       "      <td>statusOK</td>\n",
       "      <td>No Limit / 0.0025</td>\n",
       "      <td>False</td>\n",
       "      <td>2023-12-02T22:00:06.086</td>\n",
       "    </tr>\n",
       "    <tr>\n",
       "      <th>DEC 2024</th>\n",
       "      <td>-</td>\n",
       "      <td>-</td>\n",
       "      <td>95.545</td>\n",
       "      <td>-</td>\n",
       "      <td>-</td>\n",
       "      <td>-</td>\n",
       "      <td>-</td>\n",
       "      <td>-</td>\n",
       "      <td>0.0025</td>\n",
       "      <td>0</td>\n",
       "      <td>...</td>\n",
       "      <td>SR1</td>\n",
       "      <td>Z4</td>\n",
       "      <td>0</td>\n",
       "      <td>Chart+-+Dec+2024+One-Month+SOFR</td>\n",
       "      <td>2024</td>\n",
       "      <td>Interest Rate</td>\n",
       "      <td>statusNull</td>\n",
       "      <td>No Limit / 0.0025</td>\n",
       "      <td>False</td>\n",
       "      <td>2023-12-02T22:00:06.086</td>\n",
       "    </tr>\n",
       "    <tr>\n",
       "      <th>JAN 2025</th>\n",
       "      <td>-</td>\n",
       "      <td>-</td>\n",
       "      <td>-</td>\n",
       "      <td>-</td>\n",
       "      <td>-</td>\n",
       "      <td>-</td>\n",
       "      <td>-</td>\n",
       "      <td>-</td>\n",
       "      <td>-</td>\n",
       "      <td>0</td>\n",
       "      <td>...</td>\n",
       "      <td>SR1</td>\n",
       "      <td>F5</td>\n",
       "      <td>0</td>\n",
       "      <td>Chart+-+Jan+2025+One-Month+SOFR</td>\n",
       "      <td>2025</td>\n",
       "      <td>Interest Rate</td>\n",
       "      <td>statusNull</td>\n",
       "      <td>No Limit / No Limit</td>\n",
       "      <td>False</td>\n",
       "      <td>2023-12-02T22:00:06.086</td>\n",
       "    </tr>\n",
       "  </tbody>\n",
       "</table>\n",
       "<p>14 rows × 41 columns</p>\n",
       "</div>"
      ],
      "text/plain": [
       "                   last  change priorSettle    open close     high      low  \\\n",
       "expirationMonth                                                               \n",
       "DEC 2023          94.67    UNCH       94.67   94.67     -  94.6725  94.6675   \n",
       "JAN 2024         94.665  +0.005       94.66   94.66     -    94.67   94.655   \n",
       "FEB 2024          94.70   +0.04       94.66   94.67     -   94.705    94.67   \n",
       "MAR 2024         94.745   +0.05      94.695   94.71     -   94.755    94.70   \n",
       "APR 2024         94.835   +0.07      94.765  94.775     -    94.85    94.77   \n",
       "MAY 2024          95.02  +0.115      94.905   94.93     -   95.035   94.915   \n",
       "JUN 2024          95.14   +0.13       95.01   95.04     -   95.155   95.015   \n",
       "JUL 2024          95.22  +0.145      95.075   95.11     -   95.245    95.08   \n",
       "AUG 2024          95.42   +0.18       95.24  95.275     -   95.435   95.245   \n",
       "SEP 2024          95.50   +0.19       95.31  95.355     -    95.51    95.32   \n",
       "OCT 2024         95.625   +0.20      95.425  95.465     -    95.63   95.435   \n",
       "NOV 2024         95.785   +0.23      95.555   95.60     -   95.785    95.57   \n",
       "DEC 2024              -       -      95.545       -     -        -        -   \n",
       "JAN 2025              -       -           -       -     -        -        -   \n",
       "\n",
       "                highLimit lowLimit   volume  ... priceChart_code  \\\n",
       "expirationMonth                              ...                   \n",
       "DEC 2023                -   0.0025   37,502  ...             SR1   \n",
       "JAN 2024                -   0.0025   72,158  ...             SR1   \n",
       "FEB 2024                -   0.0025  101,613  ...             SR1   \n",
       "MAR 2024                -   0.0025   28,068  ...             SR1   \n",
       "APR 2024                -   0.0025   28,448  ...             SR1   \n",
       "MAY 2024                -   0.0025   23,239  ...             SR1   \n",
       "JUN 2024                -   0.0025    7,438  ...             SR1   \n",
       "JUL 2024                -   0.0025    6,055  ...             SR1   \n",
       "AUG 2024                -   0.0025    2,666  ...             SR1   \n",
       "SEP 2024                -   0.0025      560  ...             SR1   \n",
       "OCT 2024                -   0.0025      333  ...             SR1   \n",
       "NOV 2024                -   0.0025       95  ...             SR1   \n",
       "DEC 2024                -   0.0025        0  ...             SR1   \n",
       "JAN 2025                -        -        0  ...             SR1   \n",
       "\n",
       "                priceChart_monthYear priceChart_venue  \\\n",
       "expirationMonth                                         \n",
       "DEC 2023                          Z3                0   \n",
       "JAN 2024                          F4                0   \n",
       "FEB 2024                          G4                0   \n",
       "MAR 2024                          H4                0   \n",
       "APR 2024                          J4                0   \n",
       "MAY 2024                          K4                0   \n",
       "JUN 2024                          M4                0   \n",
       "JUL 2024                          N4                0   \n",
       "AUG 2024                          Q4                0   \n",
       "SEP 2024                          U4                0   \n",
       "OCT 2024                          V4                0   \n",
       "NOV 2024                          X4                0   \n",
       "DEC 2024                          Z4                0   \n",
       "JAN 2025                          F5                0   \n",
       "\n",
       "                                priceChart_title priceChart_year  \\\n",
       "expirationMonth                                                    \n",
       "DEC 2023         Chart+-+Dec+2023+One-Month+SOFR            2023   \n",
       "JAN 2024         Chart+-+Jan+2024+One-Month+SOFR            2024   \n",
       "FEB 2024         Chart+-+Feb+2024+One-Month+SOFR            2024   \n",
       "MAR 2024         Chart+-+Mar+2024+One-Month+SOFR            2024   \n",
       "APR 2024         Chart+-+Apr+2024+One-Month+SOFR            2024   \n",
       "MAY 2024         Chart+-+May+2024+One-Month+SOFR            2024   \n",
       "JUN 2024         Chart+-+Jun+2024+One-Month+SOFR            2024   \n",
       "JUL 2024         Chart+-+Jul+2024+One-Month+SOFR            2024   \n",
       "AUG 2024         Chart+-+Aug+2024+One-Month+SOFR            2024   \n",
       "SEP 2024         Chart+-+Sep+2024+One-Month+SOFR            2024   \n",
       "OCT 2024         Chart+-+Oct+2024+One-Month+SOFR            2024   \n",
       "NOV 2024         Chart+-+Nov+2024+One-Month+SOFR            2024   \n",
       "DEC 2024         Chart+-+Dec+2024+One-Month+SOFR            2024   \n",
       "JAN 2025         Chart+-+Jan+2025+One-Month+SOFR            2025   \n",
       "\n",
       "                         group netChangeStatus        highLowLimits  \\\n",
       "expirationMonth                                                       \n",
       "DEC 2023         Interest Rate      statusNull    No Limit / 0.0025   \n",
       "JAN 2024         Interest Rate        statusOK    No Limit / 0.0025   \n",
       "FEB 2024         Interest Rate        statusOK    No Limit / 0.0025   \n",
       "MAR 2024         Interest Rate        statusOK    No Limit / 0.0025   \n",
       "APR 2024         Interest Rate        statusOK    No Limit / 0.0025   \n",
       "MAY 2024         Interest Rate        statusOK    No Limit / 0.0025   \n",
       "JUN 2024         Interest Rate        statusOK    No Limit / 0.0025   \n",
       "JUL 2024         Interest Rate        statusOK    No Limit / 0.0025   \n",
       "AUG 2024         Interest Rate        statusOK    No Limit / 0.0025   \n",
       "SEP 2024         Interest Rate        statusOK    No Limit / 0.0025   \n",
       "OCT 2024         Interest Rate        statusOK    No Limit / 0.0025   \n",
       "NOV 2024         Interest Rate        statusOK    No Limit / 0.0025   \n",
       "DEC 2024         Interest Rate      statusNull    No Limit / 0.0025   \n",
       "JAN 2025         Interest Rate      statusNull  No Limit / No Limit   \n",
       "\n",
       "                isFrontMonth              lastUpdated  \n",
       "expirationMonth                                        \n",
       "DEC 2023               False  2023-12-02T22:00:06.086  \n",
       "JAN 2024               False  2023-12-02T22:00:06.086  \n",
       "FEB 2024               False  2023-12-02T22:00:06.086  \n",
       "MAR 2024               False  2023-12-02T22:00:06.086  \n",
       "APR 2024               False  2023-12-02T22:00:06.086  \n",
       "MAY 2024                True  2023-12-02T22:00:06.086  \n",
       "JUN 2024               False  2023-12-02T22:00:06.086  \n",
       "JUL 2024               False  2023-12-02T22:00:06.086  \n",
       "AUG 2024               False  2023-12-02T22:00:06.086  \n",
       "SEP 2024               False  2023-12-02T22:00:06.086  \n",
       "OCT 2024               False  2023-12-02T22:00:06.086  \n",
       "NOV 2024               False  2023-12-02T22:00:06.086  \n",
       "DEC 2024               False  2023-12-02T22:00:06.086  \n",
       "JAN 2025               False  2023-12-02T22:00:06.086  \n",
       "\n",
       "[14 rows x 41 columns]"
      ]
     },
     "execution_count": 86,
     "metadata": {},
     "output_type": "execute_result"
    }
   ],
   "source": [
    "sr1_df = get_cme_sofr_futures(\"SR1\", True, r'C:\\Users\\chris\\trade\\curr_pos\\futures', set_contract_key=True)\n",
    "sr1_df"
   ]
  },
  {
   "cell_type": "code",
   "execution_count": null,
   "metadata": {},
   "outputs": [],
   "source": [
    "def plot_impiled_yield(df_sofr: pd.DataFrame):\n",
    "    df_sofr_copy = df_sofr.copy()\n",
    "    \n",
    "    fig = go.Figure()\n",
    "    for date in date_range:\n",
    "        formatted_date = date.strftime('%Y-%m-%d')\n",
    "        tooltip_formatted_date = date.strftime('%m/%d/%Y') \n",
    "        yields = df.loc[df[\"Date\"] == formatted_date]\n",
    "        yields = yields.values.tolist()[0]\n",
    "        del yields[0]\n",
    "\n",
    "        if reverse_mats:\n",
    "            yields.reverse()\n",
    "            maturities.reverse()\n",
    "\n",
    "        fig.add_trace(\n",
    "            go.Scatter(x=adjusted_months, y=yields, mode=\"lines+markers\", name=f\"{tooltip_formatted_date}\")\n",
    "        )\n",
    "\n",
    "    formatted_title = f\"{date_range[0].strftime('%Y-%m-%d')} vs {date_range[1].strftime('%Y-%m-%d')} Yield Curve\"\n",
    "    fig.update_layout(\n",
    "        title=formatted_title if not real_yields else f\"{formatted_title} (Real)\",\n",
    "        xaxis_title=\"Maturity (Months)\",\n",
    "        yaxis_title=\"Yield (%)\",\n",
    "        xaxis=dict(tickvals=adjusted_months, ticktext=maturities),\n",
    "        showlegend=False,\n",
    "    )\n",
    "\n",
    "    fig.show()"
   ]
  },
  {
   "cell_type": "code",
   "execution_count": 87,
   "metadata": {},
   "outputs": [],
   "source": [
    "def set_rates(fwd_rates, rate, start, end):\n",
    "    fwd_rates[(fwd_rates.index >= start) & (fwd_rates.index <= end)] = rate\n",
    "    return fwd_rates\n",
    "\n",
    "\n",
    "def sr1_pricer(sofr_fwd, N_days, days_passed=0, sr1_rzd=0):\n",
    "    return 100 - (sr1_rzd + (N_days - days_passed) * sofr_fwd) / N_days\n",
    "\n",
    "\n",
    "def sr1_boot(quote, N_days, days_passed=0, sr1_rzd=0):\n",
    "    return ((100 - quote) * N_days - sr1_rzd) / (N_days - days_passed)"
   ]
  },
  {
   "cell_type": "code",
   "execution_count": 93,
   "metadata": {},
   "outputs": [
    {
     "data": {
      "text/plain": [
       "<AxesSubplot: title={'center': 'SOFR Fwd - Spot and SR1'}>"
      ]
     },
     "execution_count": 93,
     "metadata": {},
     "output_type": "execute_result"
    },
    {
     "data": {
      "image/png": "[encoded data removed]",
      "text/plain": [
       "<Figure size 640x480 with 1 Axes>"
      ]
     },
     "metadata": {},
     "output_type": "display_data"
    }
   ],
   "source": [
    "fwd_rates = set_rates(fwd_rates, sr1_boot(94.67, 2), '12/01/2024', '01/31/2024')\n",
    "fwd_rates[fwd_rates.index <='12/1/2025'].plot(title='SOFR Fwd - Spot and SR1')"
   ]
  },
  {
   "cell_type": "code",
   "execution_count": null,
   "metadata": {},
   "outputs": [],
   "source": []
  }
 ],
 "metadata": {
  "kernelspec": {
   "display_name": "Python 3",
   "language": "python",
   "name": "python3"
  },
  "language_info": {
   "codemirror_mode": {
    "name": "ipython",
    "version": 3
   },
   "file_extension": ".py",
   "mimetype": "text/x-python",
   "name": "python",
   "nbconvert_exporter": "python",
   "pygments_lexer": "ipython3",
   "version": "3.11.1"
  }
 },
 "nbformat": 4,
 "nbformat_minor": 2
}
