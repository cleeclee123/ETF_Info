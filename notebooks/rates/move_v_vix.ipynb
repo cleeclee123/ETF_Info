{
 "cells": [
  {
   "cell_type": "code",
   "execution_count": 12,
   "metadata": {},
   "outputs": [],
   "source": [
    "import pandas as pd\n",
    "from datetime import datetime\n",
    "import yield_curve"
   ]
  },
  {
   "cell_type": "code",
   "execution_count": 1,
   "metadata": {},
   "outputs": [
    {
     "name": "stdout",
     "output_type": "stream",
     "text": [
      "{'^MOVE':             Date        Open        High  ...       Close   Adj Close  Volume\n",
      "0     2002-11-12  120.209999  120.209999  ...  120.209999  120.209999     0.0\n",
      "1     2002-11-13  122.879997  122.879997  ...  122.879997  122.879997     0.0\n",
      "2     2002-11-14  130.289993  130.289993  ...  130.289993  130.289993     0.0\n",
      "3     2002-11-15  132.350006  132.350006  ...  132.350006  132.350006     0.0\n",
      "4     2002-11-18  129.139999  129.139999  ...  129.139999  129.139999     0.0\n",
      "...          ...         ...         ...  ...         ...         ...     ...\n",
      "5295  2023-11-27  111.570000  111.570000  ...  109.309998  109.309998     0.0\n",
      "5296  2023-11-28  109.309998  110.059998  ...  110.059998  110.059998     0.0\n",
      "5297  2023-11-29  110.059998  114.589996  ...  114.589996  114.589996     0.0\n",
      "5298  2023-11-30  114.589996  115.320000  ...  115.320000  115.320000     0.0\n",
      "5299  2023-12-01  115.320000  115.320000  ...  111.510002  111.510002     0.0\n",
      "\n",
      "[5300 rows x 7 columns], '^VIX':             Date       Open       High        Low      Close  Adj Close  Volume\n",
      "0     1990-01-02  17.240000  17.240000  17.240000  17.240000  17.240000     0.0\n",
      "1     1990-01-03  18.190001  18.190001  18.190001  18.190001  18.190001     0.0\n",
      "2     1990-01-04  19.219999  19.219999  19.219999  19.219999  19.219999     0.0\n",
      "3     1990-01-05  20.110001  20.110001  20.110001  20.110001  20.110001     0.0\n",
      "4     1990-01-08  20.260000  20.260000  20.260000  20.260000  20.260000     0.0\n",
      "...          ...        ...        ...        ...        ...        ...     ...\n",
      "8844  2023-11-27  13.140000  13.280000  12.640000  12.690000  12.690000     0.0\n",
      "8845  2023-11-28  12.780000  14.300000  12.560000  12.690000  12.690000     0.0\n",
      "8846  2023-11-29  12.710000  13.100000  12.480000  12.980000  12.980000     0.0\n",
      "8847  2023-11-30  13.070000  13.390000  12.820000  12.920000  12.920000     0.0\n",
      "8848  2023-12-01  12.940000  12.960000  12.480000  12.630000  12.630000     0.0\n",
      "\n",
      "[8849 rows x 7 columns]}\n",
      "\u001b[94m 3.444955587387085\u001b[00m  seconds\n"
     ]
    }
   ],
   "source": [
    "# ! python C:/Users/chris/trade/curr_pos/common/yahoofinance.py"
   ]
  },
  {
   "cell_type": "code",
   "execution_count": 3,
   "metadata": {},
   "outputs": [
    {
     "data": {
      "text/html": [
       "<div>\n",
       "<style scoped>\n",
       "    .dataframe tbody tr th:only-of-type {\n",
       "        vertical-align: middle;\n",
       "    }\n",
       "\n",
       "    .dataframe tbody tr th {\n",
       "        vertical-align: top;\n",
       "    }\n",
       "\n",
       "    .dataframe thead th {\n",
       "        text-align: right;\n",
       "    }\n",
       "</style>\n",
       "<table border=\"1\" class=\"dataframe\">\n",
       "  <thead>\n",
       "    <tr style=\"text-align: right;\">\n",
       "      <th></th>\n",
       "      <th>Date</th>\n",
       "      <th>MOVE Open</th>\n",
       "      <th>MOVE High</th>\n",
       "      <th>MOVE Low</th>\n",
       "      <th>MOVE Close</th>\n",
       "      <th>MOVE Adj Close</th>\n",
       "      <th>MOVE Volume</th>\n",
       "      <th>MOVE Delta</th>\n",
       "      <th>VIX Open</th>\n",
       "      <th>VIX High</th>\n",
       "      <th>VIX Low</th>\n",
       "      <th>VIX Close</th>\n",
       "      <th>VIX Adj Close</th>\n",
       "      <th>VIX Volume</th>\n",
       "      <th>VIX Delta</th>\n",
       "    </tr>\n",
       "  </thead>\n",
       "  <tbody>\n",
       "    <tr>\n",
       "      <th>0</th>\n",
       "      <td>2002-11-12</td>\n",
       "      <td>120.209999</td>\n",
       "      <td>120.209999</td>\n",
       "      <td>120.209999</td>\n",
       "      <td>120.209999</td>\n",
       "      <td>120.209999</td>\n",
       "      <td>0.0</td>\n",
       "      <td>NaN</td>\n",
       "      <td>31.090000</td>\n",
       "      <td>31.200001</td>\n",
       "      <td>29.750000</td>\n",
       "      <td>30.58</td>\n",
       "      <td>30.58</td>\n",
       "      <td>0.0</td>\n",
       "      <td>-0.023003</td>\n",
       "    </tr>\n",
       "    <tr>\n",
       "      <th>1</th>\n",
       "      <td>2002-11-13</td>\n",
       "      <td>122.879997</td>\n",
       "      <td>122.879997</td>\n",
       "      <td>122.879997</td>\n",
       "      <td>122.879997</td>\n",
       "      <td>122.879997</td>\n",
       "      <td>0.0</td>\n",
       "      <td>0.022211</td>\n",
       "      <td>31.209999</td>\n",
       "      <td>31.900000</td>\n",
       "      <td>30.500000</td>\n",
       "      <td>31.24</td>\n",
       "      <td>31.24</td>\n",
       "      <td>0.0</td>\n",
       "      <td>0.021583</td>\n",
       "    </tr>\n",
       "    <tr>\n",
       "      <th>2</th>\n",
       "      <td>2002-11-14</td>\n",
       "      <td>130.289993</td>\n",
       "      <td>130.289993</td>\n",
       "      <td>130.289993</td>\n",
       "      <td>130.289993</td>\n",
       "      <td>130.289993</td>\n",
       "      <td>0.0</td>\n",
       "      <td>0.060303</td>\n",
       "      <td>29.690001</td>\n",
       "      <td>29.760000</td>\n",
       "      <td>28.650000</td>\n",
       "      <td>28.67</td>\n",
       "      <td>28.67</td>\n",
       "      <td>0.0</td>\n",
       "      <td>-0.082266</td>\n",
       "    </tr>\n",
       "    <tr>\n",
       "      <th>3</th>\n",
       "      <td>2002-11-15</td>\n",
       "      <td>132.350006</td>\n",
       "      <td>132.350006</td>\n",
       "      <td>132.350006</td>\n",
       "      <td>132.350006</td>\n",
       "      <td>132.350006</td>\n",
       "      <td>0.0</td>\n",
       "      <td>0.015811</td>\n",
       "      <td>27.920000</td>\n",
       "      <td>28.230000</td>\n",
       "      <td>26.440001</td>\n",
       "      <td>26.65</td>\n",
       "      <td>26.65</td>\n",
       "      <td>0.0</td>\n",
       "      <td>-0.070457</td>\n",
       "    </tr>\n",
       "    <tr>\n",
       "      <th>4</th>\n",
       "      <td>2002-11-18</td>\n",
       "      <td>129.139999</td>\n",
       "      <td>129.139999</td>\n",
       "      <td>129.139999</td>\n",
       "      <td>129.139999</td>\n",
       "      <td>129.139999</td>\n",
       "      <td>0.0</td>\n",
       "      <td>-0.024254</td>\n",
       "      <td>27.090000</td>\n",
       "      <td>27.660000</td>\n",
       "      <td>26.730000</td>\n",
       "      <td>27.66</td>\n",
       "      <td>27.66</td>\n",
       "      <td>0.0</td>\n",
       "      <td>0.037899</td>\n",
       "    </tr>\n",
       "  </tbody>\n",
       "</table>\n",
       "</div>"
      ],
      "text/plain": [
       "        Date   MOVE Open   MOVE High    MOVE Low  MOVE Close  MOVE Adj Close  \\\n",
       "0 2002-11-12  120.209999  120.209999  120.209999  120.209999      120.209999   \n",
       "1 2002-11-13  122.879997  122.879997  122.879997  122.879997      122.879997   \n",
       "2 2002-11-14  130.289993  130.289993  130.289993  130.289993      130.289993   \n",
       "3 2002-11-15  132.350006  132.350006  132.350006  132.350006      132.350006   \n",
       "4 2002-11-18  129.139999  129.139999  129.139999  129.139999      129.139999   \n",
       "\n",
       "   MOVE Volume  MOVE Delta   VIX Open   VIX High    VIX Low  VIX Close  \\\n",
       "0          0.0         NaN  31.090000  31.200001  29.750000      30.58   \n",
       "1          0.0    0.022211  31.209999  31.900000  30.500000      31.24   \n",
       "2          0.0    0.060303  29.690001  29.760000  28.650000      28.67   \n",
       "3          0.0    0.015811  27.920000  28.230000  26.440001      26.65   \n",
       "4          0.0   -0.024254  27.090000  27.660000  26.730000      27.66   \n",
       "\n",
       "   VIX Adj Close  VIX Volume  VIX Delta  \n",
       "0          30.58         0.0  -0.023003  \n",
       "1          31.24         0.0   0.021583  \n",
       "2          28.67         0.0  -0.082266  \n",
       "3          26.65         0.0  -0.070457  \n",
       "4          27.66         0.0   0.037899  "
      ]
     },
     "execution_count": 3,
     "metadata": {},
     "output_type": "execute_result"
    }
   ],
   "source": [
    "df_move = pd.read_excel(r'C:\\Users\\chris\\trade\\curr_pos\\yahoofinance\\^MOVE_yahoofin_historical_data.xlsx', parse_dates=[\"Date\"])\n",
    "df_move[\"Delta\"] = df_move[\"Adj Close\"].pct_change()\n",
    "df_move = df_move.rename(columns=lambda x: \"MOVE \" + x if x != \"Date\" else x)\n",
    "df_vix = pd.read_excel(r'C:\\Users\\chris\\trade\\curr_pos\\yahoofinance\\^VIX_yahoofin_historical_data.xlsx', parse_dates=[\"Date\"])\n",
    "df_vix[\"Delta\"] = df_vix[\"Adj Close\"].pct_change()\n",
    "df_vix = df_vix.rename(columns=lambda x: \"VIX \" + x if x != \"Date\" else x)\n",
    "df_vol = pd.merge(df_move, df_vix, on=\"Date\")\n",
    "\n",
    "df_vol.head()"
   ]
  },
  {
   "cell_type": "code",
   "execution_count": 4,
   "metadata": {},
   "outputs": [
    {
     "name": "stderr",
     "output_type": "stream",
     "text": [
      "C:\\Users\\chris\\AppData\\Local\\Temp\\ipykernel_35992\\1031913300.py:1: FutureWarning: The default value of numeric_only in DataFrame.corr is deprecated. In a future version, it will default to False. Select only valid columns or specify the value of numeric_only to silence this warning.\n",
      "  df_vol.corr()\n"
     ]
    },
    {
     "data": {
      "text/html": [
       "<div>\n",
       "<style scoped>\n",
       "    .dataframe tbody tr th:only-of-type {\n",
       "        vertical-align: middle;\n",
       "    }\n",
       "\n",
       "    .dataframe tbody tr th {\n",
       "        vertical-align: top;\n",
       "    }\n",
       "\n",
       "    .dataframe thead th {\n",
       "        text-align: right;\n",
       "    }\n",
       "</style>\n",
       "<table border=\"1\" class=\"dataframe\">\n",
       "  <thead>\n",
       "    <tr style=\"text-align: right;\">\n",
       "      <th></th>\n",
       "      <th>MOVE Open</th>\n",
       "      <th>MOVE High</th>\n",
       "      <th>MOVE Low</th>\n",
       "      <th>MOVE Close</th>\n",
       "      <th>MOVE Adj Close</th>\n",
       "      <th>MOVE Volume</th>\n",
       "      <th>MOVE Delta</th>\n",
       "      <th>VIX Open</th>\n",
       "      <th>VIX High</th>\n",
       "      <th>VIX Low</th>\n",
       "      <th>VIX Close</th>\n",
       "      <th>VIX Adj Close</th>\n",
       "      <th>VIX Volume</th>\n",
       "      <th>VIX Delta</th>\n",
       "    </tr>\n",
       "  </thead>\n",
       "  <tbody>\n",
       "    <tr>\n",
       "      <th>MOVE Open</th>\n",
       "      <td>1.000000</td>\n",
       "      <td>0.998845</td>\n",
       "      <td>0.999042</td>\n",
       "      <td>0.997763</td>\n",
       "      <td>0.997763</td>\n",
       "      <td>NaN</td>\n",
       "      <td>0.038135</td>\n",
       "      <td>0.608772</td>\n",
       "      <td>0.592336</td>\n",
       "      <td>0.623295</td>\n",
       "      <td>0.608468</td>\n",
       "      <td>0.608468</td>\n",
       "      <td>NaN</td>\n",
       "      <td>-0.000080</td>\n",
       "    </tr>\n",
       "    <tr>\n",
       "      <th>MOVE High</th>\n",
       "      <td>0.998845</td>\n",
       "      <td>1.000000</td>\n",
       "      <td>0.998006</td>\n",
       "      <td>0.999052</td>\n",
       "      <td>0.999052</td>\n",
       "      <td>NaN</td>\n",
       "      <td>0.053711</td>\n",
       "      <td>0.608307</td>\n",
       "      <td>0.592538</td>\n",
       "      <td>0.622951</td>\n",
       "      <td>0.608397</td>\n",
       "      <td>0.608397</td>\n",
       "      <td>NaN</td>\n",
       "      <td>0.004537</td>\n",
       "    </tr>\n",
       "    <tr>\n",
       "      <th>MOVE Low</th>\n",
       "      <td>0.999042</td>\n",
       "      <td>0.998006</td>\n",
       "      <td>1.000000</td>\n",
       "      <td>0.998830</td>\n",
       "      <td>0.998830</td>\n",
       "      <td>NaN</td>\n",
       "      <td>0.050252</td>\n",
       "      <td>0.610074</td>\n",
       "      <td>0.593891</td>\n",
       "      <td>0.625118</td>\n",
       "      <td>0.610475</td>\n",
       "      <td>0.610475</td>\n",
       "      <td>NaN</td>\n",
       "      <td>0.003845</td>\n",
       "    </tr>\n",
       "    <tr>\n",
       "      <th>MOVE Close</th>\n",
       "      <td>0.997763</td>\n",
       "      <td>0.999052</td>\n",
       "      <td>0.998830</td>\n",
       "      <td>1.000000</td>\n",
       "      <td>1.000000</td>\n",
       "      <td>NaN</td>\n",
       "      <td>0.065856</td>\n",
       "      <td>0.609524</td>\n",
       "      <td>0.594013</td>\n",
       "      <td>0.624686</td>\n",
       "      <td>0.610318</td>\n",
       "      <td>0.610318</td>\n",
       "      <td>NaN</td>\n",
       "      <td>0.008470</td>\n",
       "    </tr>\n",
       "    <tr>\n",
       "      <th>MOVE Adj Close</th>\n",
       "      <td>0.997763</td>\n",
       "      <td>0.999052</td>\n",
       "      <td>0.998830</td>\n",
       "      <td>1.000000</td>\n",
       "      <td>1.000000</td>\n",
       "      <td>NaN</td>\n",
       "      <td>0.065856</td>\n",
       "      <td>0.609524</td>\n",
       "      <td>0.594013</td>\n",
       "      <td>0.624686</td>\n",
       "      <td>0.610318</td>\n",
       "      <td>0.610318</td>\n",
       "      <td>NaN</td>\n",
       "      <td>0.008470</td>\n",
       "    </tr>\n",
       "    <tr>\n",
       "      <th>MOVE Volume</th>\n",
       "      <td>NaN</td>\n",
       "      <td>NaN</td>\n",
       "      <td>NaN</td>\n",
       "      <td>NaN</td>\n",
       "      <td>NaN</td>\n",
       "      <td>NaN</td>\n",
       "      <td>NaN</td>\n",
       "      <td>NaN</td>\n",
       "      <td>NaN</td>\n",
       "      <td>NaN</td>\n",
       "      <td>NaN</td>\n",
       "      <td>NaN</td>\n",
       "      <td>NaN</td>\n",
       "      <td>NaN</td>\n",
       "    </tr>\n",
       "    <tr>\n",
       "      <th>MOVE Delta</th>\n",
       "      <td>0.038135</td>\n",
       "      <td>0.053711</td>\n",
       "      <td>0.050252</td>\n",
       "      <td>0.065856</td>\n",
       "      <td>0.065856</td>\n",
       "      <td>NaN</td>\n",
       "      <td>1.000000</td>\n",
       "      <td>0.010877</td>\n",
       "      <td>0.042603</td>\n",
       "      <td>0.025397</td>\n",
       "      <td>0.042799</td>\n",
       "      <td>0.042799</td>\n",
       "      <td>NaN</td>\n",
       "      <td>0.266587</td>\n",
       "    </tr>\n",
       "    <tr>\n",
       "      <th>VIX Open</th>\n",
       "      <td>0.608772</td>\n",
       "      <td>0.608307</td>\n",
       "      <td>0.610074</td>\n",
       "      <td>0.609524</td>\n",
       "      <td>0.609524</td>\n",
       "      <td>NaN</td>\n",
       "      <td>0.010877</td>\n",
       "      <td>1.000000</td>\n",
       "      <td>0.989096</td>\n",
       "      <td>0.992920</td>\n",
       "      <td>0.983560</td>\n",
       "      <td>0.983560</td>\n",
       "      <td>NaN</td>\n",
       "      <td>-0.028403</td>\n",
       "    </tr>\n",
       "    <tr>\n",
       "      <th>VIX High</th>\n",
       "      <td>0.592336</td>\n",
       "      <td>0.592538</td>\n",
       "      <td>0.593891</td>\n",
       "      <td>0.594013</td>\n",
       "      <td>0.594013</td>\n",
       "      <td>NaN</td>\n",
       "      <td>0.042603</td>\n",
       "      <td>0.989096</td>\n",
       "      <td>1.000000</td>\n",
       "      <td>0.986652</td>\n",
       "      <td>0.992665</td>\n",
       "      <td>0.992665</td>\n",
       "      <td>NaN</td>\n",
       "      <td>0.060874</td>\n",
       "    </tr>\n",
       "    <tr>\n",
       "      <th>VIX Low</th>\n",
       "      <td>0.623295</td>\n",
       "      <td>0.622951</td>\n",
       "      <td>0.625118</td>\n",
       "      <td>0.624686</td>\n",
       "      <td>0.624686</td>\n",
       "      <td>NaN</td>\n",
       "      <td>0.025397</td>\n",
       "      <td>0.992920</td>\n",
       "      <td>0.986652</td>\n",
       "      <td>1.000000</td>\n",
       "      <td>0.989911</td>\n",
       "      <td>0.989911</td>\n",
       "      <td>NaN</td>\n",
       "      <td>0.019441</td>\n",
       "    </tr>\n",
       "    <tr>\n",
       "      <th>VIX Close</th>\n",
       "      <td>0.608468</td>\n",
       "      <td>0.608397</td>\n",
       "      <td>0.610475</td>\n",
       "      <td>0.610318</td>\n",
       "      <td>0.610318</td>\n",
       "      <td>NaN</td>\n",
       "      <td>0.042799</td>\n",
       "      <td>0.983560</td>\n",
       "      <td>0.992665</td>\n",
       "      <td>0.989911</td>\n",
       "      <td>1.000000</td>\n",
       "      <td>1.000000</td>\n",
       "      <td>NaN</td>\n",
       "      <td>0.109723</td>\n",
       "    </tr>\n",
       "    <tr>\n",
       "      <th>VIX Adj Close</th>\n",
       "      <td>0.608468</td>\n",
       "      <td>0.608397</td>\n",
       "      <td>0.610475</td>\n",
       "      <td>0.610318</td>\n",
       "      <td>0.610318</td>\n",
       "      <td>NaN</td>\n",
       "      <td>0.042799</td>\n",
       "      <td>0.983560</td>\n",
       "      <td>0.992665</td>\n",
       "      <td>0.989911</td>\n",
       "      <td>1.000000</td>\n",
       "      <td>1.000000</td>\n",
       "      <td>NaN</td>\n",
       "      <td>0.109723</td>\n",
       "    </tr>\n",
       "    <tr>\n",
       "      <th>VIX Volume</th>\n",
       "      <td>NaN</td>\n",
       "      <td>NaN</td>\n",
       "      <td>NaN</td>\n",
       "      <td>NaN</td>\n",
       "      <td>NaN</td>\n",
       "      <td>NaN</td>\n",
       "      <td>NaN</td>\n",
       "      <td>NaN</td>\n",
       "      <td>NaN</td>\n",
       "      <td>NaN</td>\n",
       "      <td>NaN</td>\n",
       "      <td>NaN</td>\n",
       "      <td>NaN</td>\n",
       "      <td>NaN</td>\n",
       "    </tr>\n",
       "    <tr>\n",
       "      <th>VIX Delta</th>\n",
       "      <td>-0.000080</td>\n",
       "      <td>0.004537</td>\n",
       "      <td>0.003845</td>\n",
       "      <td>0.008470</td>\n",
       "      <td>0.008470</td>\n",
       "      <td>NaN</td>\n",
       "      <td>0.266587</td>\n",
       "      <td>-0.028403</td>\n",
       "      <td>0.060874</td>\n",
       "      <td>0.019441</td>\n",
       "      <td>0.109723</td>\n",
       "      <td>0.109723</td>\n",
       "      <td>NaN</td>\n",
       "      <td>1.000000</td>\n",
       "    </tr>\n",
       "  </tbody>\n",
       "</table>\n",
       "</div>"
      ],
      "text/plain": [
       "                MOVE Open  MOVE High  MOVE Low  MOVE Close  MOVE Adj Close  \\\n",
       "MOVE Open        1.000000   0.998845  0.999042    0.997763        0.997763   \n",
       "MOVE High        0.998845   1.000000  0.998006    0.999052        0.999052   \n",
       "MOVE Low         0.999042   0.998006  1.000000    0.998830        0.998830   \n",
       "MOVE Close       0.997763   0.999052  0.998830    1.000000        1.000000   \n",
       "MOVE Adj Close   0.997763   0.999052  0.998830    1.000000        1.000000   \n",
       "MOVE Volume           NaN        NaN       NaN         NaN             NaN   \n",
       "MOVE Delta       0.038135   0.053711  0.050252    0.065856        0.065856   \n",
       "VIX Open         0.608772   0.608307  0.610074    0.609524        0.609524   \n",
       "VIX High         0.592336   0.592538  0.593891    0.594013        0.594013   \n",
       "VIX Low          0.623295   0.622951  0.625118    0.624686        0.624686   \n",
       "VIX Close        0.608468   0.608397  0.610475    0.610318        0.610318   \n",
       "VIX Adj Close    0.608468   0.608397  0.610475    0.610318        0.610318   \n",
       "VIX Volume            NaN        NaN       NaN         NaN             NaN   \n",
       "VIX Delta       -0.000080   0.004537  0.003845    0.008470        0.008470   \n",
       "\n",
       "                MOVE Volume  MOVE Delta  VIX Open  VIX High   VIX Low  \\\n",
       "MOVE Open               NaN    0.038135  0.608772  0.592336  0.623295   \n",
       "MOVE High               NaN    0.053711  0.608307  0.592538  0.622951   \n",
       "MOVE Low                NaN    0.050252  0.610074  0.593891  0.625118   \n",
       "MOVE Close              NaN    0.065856  0.609524  0.594013  0.624686   \n",
       "MOVE Adj Close          NaN    0.065856  0.609524  0.594013  0.624686   \n",
       "MOVE Volume             NaN         NaN       NaN       NaN       NaN   \n",
       "MOVE Delta              NaN    1.000000  0.010877  0.042603  0.025397   \n",
       "VIX Open                NaN    0.010877  1.000000  0.989096  0.992920   \n",
       "VIX High                NaN    0.042603  0.989096  1.000000  0.986652   \n",
       "VIX Low                 NaN    0.025397  0.992920  0.986652  1.000000   \n",
       "VIX Close               NaN    0.042799  0.983560  0.992665  0.989911   \n",
       "VIX Adj Close           NaN    0.042799  0.983560  0.992665  0.989911   \n",
       "VIX Volume              NaN         NaN       NaN       NaN       NaN   \n",
       "VIX Delta               NaN    0.266587 -0.028403  0.060874  0.019441   \n",
       "\n",
       "                VIX Close  VIX Adj Close  VIX Volume  VIX Delta  \n",
       "MOVE Open        0.608468       0.608468         NaN  -0.000080  \n",
       "MOVE High        0.608397       0.608397         NaN   0.004537  \n",
       "MOVE Low         0.610475       0.610475         NaN   0.003845  \n",
       "MOVE Close       0.610318       0.610318         NaN   0.008470  \n",
       "MOVE Adj Close   0.610318       0.610318         NaN   0.008470  \n",
       "MOVE Volume           NaN            NaN         NaN        NaN  \n",
       "MOVE Delta       0.042799       0.042799         NaN   0.266587  \n",
       "VIX Open         0.983560       0.983560         NaN  -0.028403  \n",
       "VIX High         0.992665       0.992665         NaN   0.060874  \n",
       "VIX Low          0.989911       0.989911         NaN   0.019441  \n",
       "VIX Close        1.000000       1.000000         NaN   0.109723  \n",
       "VIX Adj Close    1.000000       1.000000         NaN   0.109723  \n",
       "VIX Volume            NaN            NaN         NaN        NaN  \n",
       "VIX Delta        0.109723       0.109723         NaN   1.000000  "
      ]
     },
     "execution_count": 4,
     "metadata": {},
     "output_type": "execute_result"
    }
   ],
   "source": [
    "df_vol.corr()"
   ]
  },
  {
   "cell_type": "code",
   "execution_count": 13,
   "metadata": {},
   "outputs": [],
   "source": [
    "date_range = [datetime(2023, 10, 2), datetime(2023, 12, 1)]"
   ]
  },
  {
   "cell_type": "code",
   "execution_count": 14,
   "metadata": {},
   "outputs": [
    {
     "data": {
      "application/vnd.plotly.v1+json": {
       "config": {
        "plotlyServerURL": "https://plot.ly"
       },
       "data": [
        {
         "mode": "lines",
         "name": "MOVE Delta",
         "type": "scatter",
         "x": [
          "2023-10-02T00:00:00",
          "2023-10-03T00:00:00",
          "2023-10-04T00:00:00",
          "2023-10-05T00:00:00",
          "2023-10-06T00:00:00",
          "2023-10-09T00:00:00",
          "2023-10-10T00:00:00",
          "2023-10-11T00:00:00",
          "2023-10-12T00:00:00",
          "2023-10-13T00:00:00",
          "2023-10-16T00:00:00",
          "2023-10-17T00:00:00",
          "2023-10-18T00:00:00",
          "2023-10-19T00:00:00",
          "2023-10-20T00:00:00",
          "2023-10-23T00:00:00",
          "2023-10-24T00:00:00",
          "2023-10-25T00:00:00",
          "2023-10-26T00:00:00",
          "2023-10-27T00:00:00",
          "2023-10-30T00:00:00",
          "2023-10-31T00:00:00",
          "2023-11-01T00:00:00",
          "2023-11-02T00:00:00",
          "2023-11-03T00:00:00",
          "2023-11-06T00:00:00",
          "2023-11-07T00:00:00",
          "2023-11-08T00:00:00",
          "2023-11-09T00:00:00",
          "2023-11-10T00:00:00",
          "2023-11-13T00:00:00",
          "2023-11-14T00:00:00",
          "2023-11-15T00:00:00",
          "2023-11-16T00:00:00",
          "2023-11-17T00:00:00",
          "2023-11-20T00:00:00",
          "2023-11-21T00:00:00",
          "2023-11-22T00:00:00",
          "2023-11-24T00:00:00",
          "2023-11-27T00:00:00",
          "2023-11-28T00:00:00",
          "2023-11-29T00:00:00",
          "2023-11-30T00:00:00",
          "2023-12-01T00:00:00"
         ],
         "y": [
          0.12364590602432646,
          0.11035349511257908,
          -0.09486837149528293,
          0.01520702691123832,
          -0.027193072594496104,
          0,
          0.07525267747356823,
          -0.06602040193905256,
          -0.006368902343135807,
          0.01551000200577679,
          0.01426012601480342,
          0.00007678241927533414,
          -0.007682261775866395,
          0.042192436977509296,
          0.0061655179826742845,
          -0.026725692729251183,
          -0.028066426032520297,
          0.024038100989693945,
          -0.0020578079841120367,
          -0.013593997043012118,
          0.021213920061507574,
          -0.03821071439927437,
          -0.04973985456613694,
          -0.01584408089977407,
          0.0008428776200513077,
          0.025265285923282477,
          -0.013553491269155393,
          -0.02489797734692234,
          -0.0004269427912372281,
          -0.002221289990056663,
          0.06575905415053462,
          -0.0028922631727141823,
          -0.0154701392678257,
          -0.05000409116942328,
          -0.02558581106847324,
          0.017505039187472038,
          -0.01998431731633732,
          -0.01081657052206264,
          -0.03710674912610901,
          0.017499748673554638,
          0.006861220507935695,
          0.04115935019370087,
          0.006370573570837701,
          -0.03303848421782862
         ]
        },
        {
         "mode": "lines",
         "name": "VIX Delta",
         "type": "scatter",
         "x": [
          "2023-10-02T00:00:00",
          "2023-10-03T00:00:00",
          "2023-10-04T00:00:00",
          "2023-10-05T00:00:00",
          "2023-10-06T00:00:00",
          "2023-10-09T00:00:00",
          "2023-10-10T00:00:00",
          "2023-10-11T00:00:00",
          "2023-10-12T00:00:00",
          "2023-10-13T00:00:00",
          "2023-10-16T00:00:00",
          "2023-10-17T00:00:00",
          "2023-10-18T00:00:00",
          "2023-10-19T00:00:00",
          "2023-10-20T00:00:00",
          "2023-10-23T00:00:00",
          "2023-10-24T00:00:00",
          "2023-10-25T00:00:00",
          "2023-10-26T00:00:00",
          "2023-10-27T00:00:00",
          "2023-10-30T00:00:00",
          "2023-10-31T00:00:00",
          "2023-11-01T00:00:00",
          "2023-11-02T00:00:00",
          "2023-11-03T00:00:00",
          "2023-11-06T00:00:00",
          "2023-11-07T00:00:00",
          "2023-11-08T00:00:00",
          "2023-11-09T00:00:00",
          "2023-11-10T00:00:00",
          "2023-11-13T00:00:00",
          "2023-11-14T00:00:00",
          "2023-11-15T00:00:00",
          "2023-11-16T00:00:00",
          "2023-11-17T00:00:00",
          "2023-11-20T00:00:00",
          "2023-11-21T00:00:00",
          "2023-11-22T00:00:00",
          "2023-11-24T00:00:00",
          "2023-11-27T00:00:00",
          "2023-11-28T00:00:00",
          "2023-11-29T00:00:00",
          "2023-11-30T00:00:00",
          "2023-12-01T00:00:00"
         ],
         "y": [
          0.005137043378995454,
          0.12322543309338818,
          -0.06066738823724027,
          -0.004843918191603902,
          -0.05624656571119513,
          0.014326646743458626,
          -0.03785310520603935,
          -0.055196767164018334,
          0.03729030453697946,
          0.1575793194979438,
          -0.10921330227743276,
          0.03893085641666816,
          0.07494407577987006,
          0.11342357510008183,
          0.014485934579439252,
          -0.06172261914890009,
          -0.06872861714636136,
          0.06431218051197574,
          0.024269389585468648,
          0.02852998065764023,
          -0.07146215326751293,
          -0.08151903797468352,
          -0.0700109189642183,
          -0.07172501056757485,
          -0.04789272030651337,
          -0.0013413816230717357,
          -0.005372733378106065,
          -0.024307900067522037,
          0.05813148788927336,
          -0.07325049051667754,
          0.04163726182074812,
          -0.04065040650406504,
          0.0014124293785311437,
          0.009873060648801113,
          -0.03631284916201116,
          -0.02826086956521745,
          -0.004474272930648837,
          -0.03745318352059923,
          -0.030350194552529075,
          0.01845906902086658,
          0,
          0.022852639873916614,
          -0.0046224961479198745,
          -0.02244582043343646
         ]
        }
       ],
       "layout": {
        "showlegend": true,
        "template": {
         "data": {
          "bar": [
           {
            "error_x": {
             "color": "#2a3f5f"
            },
            "error_y": {
             "color": "#2a3f5f"
            },
            "marker": {
             "line": {
              "color": "#E5ECF6",
              "width": 0.5
             },
             "pattern": {
              "fillmode": "overlay",
              "size": 10,
              "solidity": 0.2
             }
            },
            "type": "bar"
           }
          ],
          "barpolar": [
           {
            "marker": {
             "line": {
              "color": "#E5ECF6",
              "width": 0.5
             },
             "pattern": {
              "fillmode": "overlay",
              "size": 10,
              "solidity": 0.2
             }
            },
            "type": "barpolar"
           }
          ],
          "carpet": [
           {
            "aaxis": {
             "endlinecolor": "#2a3f5f",
             "gridcolor": "white",
             "linecolor": "white",
             "minorgridcolor": "white",
             "startlinecolor": "#2a3f5f"
            },
            "baxis": {
             "endlinecolor": "#2a3f5f",
             "gridcolor": "white",
             "linecolor": "white",
             "minorgridcolor": "white",
             "startlinecolor": "#2a3f5f"
            },
            "type": "carpet"
           }
          ],
          "choropleth": [
           {
            "colorbar": {
             "outlinewidth": 0,
             "ticks": ""
            },
            "type": "choropleth"
           }
          ],
          "contour": [
           {
            "colorbar": {
             "outlinewidth": 0,
             "ticks": ""
            },
            "colorscale": [
             [
              0,
              "#0d0887"
             ],
             [
              0.1111111111111111,
              "#46039f"
             ],
             [
              0.2222222222222222,
              "#7201a8"
             ],
             [
              0.3333333333333333,
              "#9c179e"
             ],
             [
              0.4444444444444444,
              "#bd3786"
             ],
             [
              0.5555555555555556,
              "#d8576b"
             ],
             [
              0.6666666666666666,
              "#ed7953"
             ],
             [
              0.7777777777777778,
              "#fb9f3a"
             ],
             [
              0.8888888888888888,
              "#fdca26"
             ],
             [
              1,
              "#f0f921"
             ]
            ],
            "type": "contour"
           }
          ],
          "contourcarpet": [
           {
            "colorbar": {
             "outlinewidth": 0,
             "ticks": ""
            },
            "type": "contourcarpet"
           }
          ],
          "heatmap": [
           {
            "colorbar": {
             "outlinewidth": 0,
             "ticks": ""
            },
            "colorscale": [
             [
              0,
              "#0d0887"
             ],
             [
              0.1111111111111111,
              "#46039f"
             ],
             [
              0.2222222222222222,
              "#7201a8"
             ],
             [
              0.3333333333333333,
              "#9c179e"
             ],
             [
              0.4444444444444444,
              "#bd3786"
             ],
             [
              0.5555555555555556,
              "#d8576b"
             ],
             [
              0.6666666666666666,
              "#ed7953"
             ],
             [
              0.7777777777777778,
              "#fb9f3a"
             ],
             [
              0.8888888888888888,
              "#fdca26"
             ],
             [
              1,
              "#f0f921"
             ]
            ],
            "type": "heatmap"
           }
          ],
          "heatmapgl": [
           {
            "colorbar": {
             "outlinewidth": 0,
             "ticks": ""
            },
            "colorscale": [
             [
              0,
              "#0d0887"
             ],
             [
              0.1111111111111111,
              "#46039f"
             ],
             [
              0.2222222222222222,
              "#7201a8"
             ],
             [
              0.3333333333333333,
              "#9c179e"
             ],
             [
              0.4444444444444444,
              "#bd3786"
             ],
             [
              0.5555555555555556,
              "#d8576b"
             ],
             [
              0.6666666666666666,
              "#ed7953"
             ],
             [
              0.7777777777777778,
              "#fb9f3a"
             ],
             [
              0.8888888888888888,
              "#fdca26"
             ],
             [
              1,
              "#f0f921"
             ]
            ],
            "type": "heatmapgl"
           }
          ],
          "histogram": [
           {
            "marker": {
             "pattern": {
              "fillmode": "overlay",
              "size": 10,
              "solidity": 0.2
             }
            },
            "type": "histogram"
           }
          ],
          "histogram2d": [
           {
            "colorbar": {
             "outlinewidth": 0,
             "ticks": ""
            },
            "colorscale": [
             [
              0,
              "#0d0887"
             ],
             [
              0.1111111111111111,
              "#46039f"
             ],
             [
              0.2222222222222222,
              "#7201a8"
             ],
             [
              0.3333333333333333,
              "#9c179e"
             ],
             [
              0.4444444444444444,
              "#bd3786"
             ],
             [
              0.5555555555555556,
              "#d8576b"
             ],
             [
              0.6666666666666666,
              "#ed7953"
             ],
             [
              0.7777777777777778,
              "#fb9f3a"
             ],
             [
              0.8888888888888888,
              "#fdca26"
             ],
             [
              1,
              "#f0f921"
             ]
            ],
            "type": "histogram2d"
           }
          ],
          "histogram2dcontour": [
           {
            "colorbar": {
             "outlinewidth": 0,
             "ticks": ""
            },
            "colorscale": [
             [
              0,
              "#0d0887"
             ],
             [
              0.1111111111111111,
              "#46039f"
             ],
             [
              0.2222222222222222,
              "#7201a8"
             ],
             [
              0.3333333333333333,
              "#9c179e"
             ],
             [
              0.4444444444444444,
              "#bd3786"
             ],
             [
              0.5555555555555556,
              "#d8576b"
             ],
             [
              0.6666666666666666,
              "#ed7953"
             ],
             [
              0.7777777777777778,
              "#fb9f3a"
             ],
             [
              0.8888888888888888,
              "#fdca26"
             ],
             [
              1,
              "#f0f921"
             ]
            ],
            "type": "histogram2dcontour"
           }
          ],
          "mesh3d": [
           {
            "colorbar": {
             "outlinewidth": 0,
             "ticks": ""
            },
            "type": "mesh3d"
           }
          ],
          "parcoords": [
           {
            "line": {
             "colorbar": {
              "outlinewidth": 0,
              "ticks": ""
             }
            },
            "type": "parcoords"
           }
          ],
          "pie": [
           {
            "automargin": true,
            "type": "pie"
           }
          ],
          "scatter": [
           {
            "fillpattern": {
             "fillmode": "overlay",
             "size": 10,
             "solidity": 0.2
            },
            "type": "scatter"
           }
          ],
          "scatter3d": [
           {
            "line": {
             "colorbar": {
              "outlinewidth": 0,
              "ticks": ""
             }
            },
            "marker": {
             "colorbar": {
              "outlinewidth": 0,
              "ticks": ""
             }
            },
            "type": "scatter3d"
           }
          ],
          "scattercarpet": [
           {
            "marker": {
             "colorbar": {
              "outlinewidth": 0,
              "ticks": ""
             }
            },
            "type": "scattercarpet"
           }
          ],
          "scattergeo": [
           {
            "marker": {
             "colorbar": {
              "outlinewidth": 0,
              "ticks": ""
             }
            },
            "type": "scattergeo"
           }
          ],
          "scattergl": [
           {
            "marker": {
             "colorbar": {
              "outlinewidth": 0,
              "ticks": ""
             }
            },
            "type": "scattergl"
           }
          ],
          "scattermapbox": [
           {
            "marker": {
             "colorbar": {
              "outlinewidth": 0,
              "ticks": ""
             }
            },
            "type": "scattermapbox"
           }
          ],
          "scatterpolar": [
           {
            "marker": {
             "colorbar": {
              "outlinewidth": 0,
              "ticks": ""
             }
            },
            "type": "scatterpolar"
           }
          ],
          "scatterpolargl": [
           {
            "marker": {
             "colorbar": {
              "outlinewidth": 0,
              "ticks": ""
             }
            },
            "type": "scatterpolargl"
           }
          ],
          "scatterternary": [
           {
            "marker": {
             "colorbar": {
              "outlinewidth": 0,
              "ticks": ""
             }
            },
            "type": "scatterternary"
           }
          ],
          "surface": [
           {
            "colorbar": {
             "outlinewidth": 0,
             "ticks": ""
            },
            "colorscale": [
             [
              0,
              "#0d0887"
             ],
             [
              0.1111111111111111,
              "#46039f"
             ],
             [
              0.2222222222222222,
              "#7201a8"
             ],
             [
              0.3333333333333333,
              "#9c179e"
             ],
             [
              0.4444444444444444,
              "#bd3786"
             ],
             [
              0.5555555555555556,
              "#d8576b"
             ],
             [
              0.6666666666666666,
              "#ed7953"
             ],
             [
              0.7777777777777778,
              "#fb9f3a"
             ],
             [
              0.8888888888888888,
              "#fdca26"
             ],
             [
              1,
              "#f0f921"
             ]
            ],
            "type": "surface"
           }
          ],
          "table": [
           {
            "cells": {
             "fill": {
              "color": "#EBF0F8"
             },
             "line": {
              "color": "white"
             }
            },
            "header": {
             "fill": {
              "color": "#C8D4E3"
             },
             "line": {
              "color": "white"
             }
            },
            "type": "table"
           }
          ]
         },
         "layout": {
          "annotationdefaults": {
           "arrowcolor": "#2a3f5f",
           "arrowhead": 0,
           "arrowwidth": 1
          },
          "autotypenumbers": "strict",
          "coloraxis": {
           "colorbar": {
            "outlinewidth": 0,
            "ticks": ""
           }
          },
          "colorscale": {
           "diverging": [
            [
             0,
             "#8e0152"
            ],
            [
             0.1,
             "#c51b7d"
            ],
            [
             0.2,
             "#de77ae"
            ],
            [
             0.3,
             "#f1b6da"
            ],
            [
             0.4,
             "#fde0ef"
            ],
            [
             0.5,
             "#f7f7f7"
            ],
            [
             0.6,
             "#e6f5d0"
            ],
            [
             0.7,
             "#b8e186"
            ],
            [
             0.8,
             "#7fbc41"
            ],
            [
             0.9,
             "#4d9221"
            ],
            [
             1,
             "#276419"
            ]
           ],
           "sequential": [
            [
             0,
             "#0d0887"
            ],
            [
             0.1111111111111111,
             "#46039f"
            ],
            [
             0.2222222222222222,
             "#7201a8"
            ],
            [
             0.3333333333333333,
             "#9c179e"
            ],
            [
             0.4444444444444444,
             "#bd3786"
            ],
            [
             0.5555555555555556,
             "#d8576b"
            ],
            [
             0.6666666666666666,
             "#ed7953"
            ],
            [
             0.7777777777777778,
             "#fb9f3a"
            ],
            [
             0.8888888888888888,
             "#fdca26"
            ],
            [
             1,
             "#f0f921"
            ]
           ],
           "sequentialminus": [
            [
             0,
             "#0d0887"
            ],
            [
             0.1111111111111111,
             "#46039f"
            ],
            [
             0.2222222222222222,
             "#7201a8"
            ],
            [
             0.3333333333333333,
             "#9c179e"
            ],
            [
             0.4444444444444444,
             "#bd3786"
            ],
            [
             0.5555555555555556,
             "#d8576b"
            ],
            [
             0.6666666666666666,
             "#ed7953"
            ],
            [
             0.7777777777777778,
             "#fb9f3a"
            ],
            [
             0.8888888888888888,
             "#fdca26"
            ],
            [
             1,
             "#f0f921"
            ]
           ]
          },
          "colorway": [
           "#636efa",
           "#EF553B",
           "#00cc96",
           "#ab63fa",
           "#FFA15A",
           "#19d3f3",
           "#FF6692",
           "#B6E880",
           "#FF97FF",
           "#FECB52"
          ],
          "font": {
           "color": "#2a3f5f"
          },
          "geo": {
           "bgcolor": "white",
           "lakecolor": "white",
           "landcolor": "#E5ECF6",
           "showlakes": true,
           "showland": true,
           "subunitcolor": "white"
          },
          "hoverlabel": {
           "align": "left"
          },
          "hovermode": "closest",
          "mapbox": {
           "style": "light"
          },
          "paper_bgcolor": "white",
          "plot_bgcolor": "#E5ECF6",
          "polar": {
           "angularaxis": {
            "gridcolor": "white",
            "linecolor": "white",
            "ticks": ""
           },
           "bgcolor": "#E5ECF6",
           "radialaxis": {
            "gridcolor": "white",
            "linecolor": "white",
            "ticks": ""
           }
          },
          "scene": {
           "xaxis": {
            "backgroundcolor": "#E5ECF6",
            "gridcolor": "white",
            "gridwidth": 2,
            "linecolor": "white",
            "showbackground": true,
            "ticks": "",
            "zerolinecolor": "white"
           },
           "yaxis": {
            "backgroundcolor": "#E5ECF6",
            "gridcolor": "white",
            "gridwidth": 2,
            "linecolor": "white",
            "showbackground": true,
            "ticks": "",
            "zerolinecolor": "white"
           },
           "zaxis": {
            "backgroundcolor": "#E5ECF6",
            "gridcolor": "white",
            "gridwidth": 2,
            "linecolor": "white",
            "showbackground": true,
            "ticks": "",
            "zerolinecolor": "white"
           }
          },
          "shapedefaults": {
           "line": {
            "color": "#2a3f5f"
           }
          },
          "ternary": {
           "aaxis": {
            "gridcolor": "white",
            "linecolor": "white",
            "ticks": ""
           },
           "baxis": {
            "gridcolor": "white",
            "linecolor": "white",
            "ticks": ""
           },
           "bgcolor": "#E5ECF6",
           "caxis": {
            "gridcolor": "white",
            "linecolor": "white",
            "ticks": ""
           }
          },
          "title": {
           "x": 0.05
          },
          "xaxis": {
           "automargin": true,
           "gridcolor": "white",
           "linecolor": "white",
           "ticks": "",
           "title": {
            "standoff": 15
           },
           "zerolinecolor": "white",
           "zerolinewidth": 2
          },
          "yaxis": {
           "automargin": true,
           "gridcolor": "white",
           "linecolor": "white",
           "ticks": "",
           "title": {
            "standoff": 15
           },
           "zerolinecolor": "white",
           "zerolinewidth": 2
          }
         }
        },
        "title": {
         "text": "MOVE vs VIX (del)"
        },
        "xaxis": {
         "nticks": 10,
         "title": {
          "text": "Date"
         }
        },
        "yaxis": {
         "title": {
          "text": "MOVE Delta, VIX Delta"
         }
        }
       }
      }
     },
     "metadata": {},
     "output_type": "display_data"
    },
    {
     "data": {
      "application/vnd.plotly.v1+json": {
       "config": {
        "plotlyServerURL": "https://plot.ly"
       },
       "data": [
        {
         "line": {
          "color": "blue",
          "dash": "dash"
         },
         "mode": "lines+markers",
         "name": "MOVE Adj Close",
         "type": "scatter",
         "x": [
          "2023-10-02T00:00:00",
          "2023-10-03T00:00:00",
          "2023-10-04T00:00:00",
          "2023-10-05T00:00:00",
          "2023-10-06T00:00:00",
          "2023-10-09T00:00:00",
          "2023-10-10T00:00:00",
          "2023-10-11T00:00:00",
          "2023-10-12T00:00:00",
          "2023-10-13T00:00:00",
          "2023-10-16T00:00:00",
          "2023-10-17T00:00:00",
          "2023-10-18T00:00:00",
          "2023-10-19T00:00:00",
          "2023-10-20T00:00:00",
          "2023-10-23T00:00:00",
          "2023-10-24T00:00:00",
          "2023-10-25T00:00:00",
          "2023-10-26T00:00:00",
          "2023-10-27T00:00:00",
          "2023-10-30T00:00:00",
          "2023-10-31T00:00:00",
          "2023-11-01T00:00:00",
          "2023-11-02T00:00:00",
          "2023-11-03T00:00:00",
          "2023-11-06T00:00:00",
          "2023-11-07T00:00:00",
          "2023-11-08T00:00:00",
          "2023-11-09T00:00:00",
          "2023-11-10T00:00:00",
          "2023-11-13T00:00:00",
          "2023-11-14T00:00:00",
          "2023-11-15T00:00:00",
          "2023-11-16T00:00:00",
          "2023-11-17T00:00:00",
          "2023-11-20T00:00:00",
          "2023-11-21T00:00:00",
          "2023-11-22T00:00:00",
          "2023-11-24T00:00:00",
          "2023-11-27T00:00:00",
          "2023-11-28T00:00:00",
          "2023-11-29T00:00:00",
          "2023-11-30T00:00:00",
          "2023-12-01T00:00:00"
         ],
         "y": [
          127.589996,
          141.669998,
          128.229996,
          130.179993,
          126.639999,
          null,
          136.169998,
          127.18,
          126.370003,
          128.330002,
          130.160004,
          130.169998,
          129.169998,
          134.619995,
          135.449997,
          131.830002,
          128.130005,
          131.210007,
          130.940002,
          129.160004,
          131.899994,
          126.860001,
          120.550003,
          118.639999,
          118.739998,
          121.739998,
          120.089996,
          117.099998,
          117.050003,
          116.790001,
          124.470001,
          124.110001,
          122.190002,
          116.080002,
          113.110001,
          115.089996,
          112.790001,
          111.57,
          107.43,
          109.309998,
          110.059998,
          114.589996,
          115.32,
          111.510002
         ]
        },
        {
         "line": {
          "color": "green",
          "dash": "dash"
         },
         "mode": "lines+markers",
         "name": "VIX Adj Close",
         "type": "scatter",
         "x": [
          "2023-10-02T00:00:00",
          "2023-10-03T00:00:00",
          "2023-10-04T00:00:00",
          "2023-10-05T00:00:00",
          "2023-10-06T00:00:00",
          "2023-10-09T00:00:00",
          "2023-10-10T00:00:00",
          "2023-10-11T00:00:00",
          "2023-10-12T00:00:00",
          "2023-10-13T00:00:00",
          "2023-10-16T00:00:00",
          "2023-10-17T00:00:00",
          "2023-10-18T00:00:00",
          "2023-10-19T00:00:00",
          "2023-10-20T00:00:00",
          "2023-10-23T00:00:00",
          "2023-10-24T00:00:00",
          "2023-10-25T00:00:00",
          "2023-10-26T00:00:00",
          "2023-10-27T00:00:00",
          "2023-10-30T00:00:00",
          "2023-10-31T00:00:00",
          "2023-11-01T00:00:00",
          "2023-11-02T00:00:00",
          "2023-11-03T00:00:00",
          "2023-11-06T00:00:00",
          "2023-11-07T00:00:00",
          "2023-11-08T00:00:00",
          "2023-11-09T00:00:00",
          "2023-11-10T00:00:00",
          "2023-11-13T00:00:00",
          "2023-11-14T00:00:00",
          "2023-11-15T00:00:00",
          "2023-11-16T00:00:00",
          "2023-11-17T00:00:00",
          "2023-11-20T00:00:00",
          "2023-11-21T00:00:00",
          "2023-11-22T00:00:00",
          "2023-11-24T00:00:00",
          "2023-11-27T00:00:00",
          "2023-11-28T00:00:00",
          "2023-11-29T00:00:00",
          "2023-11-30T00:00:00",
          "2023-12-01T00:00:00"
         ],
         "y": [
          17.610001,
          19.780001,
          18.58,
          18.49,
          17.450001,
          17.700001,
          17.030001,
          16.09,
          16.690001,
          19.32,
          17.209999,
          17.879999,
          19.219999,
          21.4,
          21.709999,
          20.370001,
          18.969999,
          20.190001,
          20.68,
          21.27,
          19.75,
          18.139999,
          16.870001,
          15.66,
          14.91,
          14.89,
          14.81,
          14.45,
          15.29,
          14.17,
          14.76,
          14.16,
          14.18,
          14.32,
          13.8,
          13.41,
          13.35,
          12.85,
          12.46,
          12.69,
          12.69,
          12.98,
          12.92,
          12.63
         ],
         "yaxis": "y2"
        }
       ],
       "layout": {
        "showlegend": true,
        "template": {
         "data": {
          "bar": [
           {
            "error_x": {
             "color": "#2a3f5f"
            },
            "error_y": {
             "color": "#2a3f5f"
            },
            "marker": {
             "line": {
              "color": "#E5ECF6",
              "width": 0.5
             },
             "pattern": {
              "fillmode": "overlay",
              "size": 10,
              "solidity": 0.2
             }
            },
            "type": "bar"
           }
          ],
          "barpolar": [
           {
            "marker": {
             "line": {
              "color": "#E5ECF6",
              "width": 0.5
             },
             "pattern": {
              "fillmode": "overlay",
              "size": 10,
              "solidity": 0.2
             }
            },
            "type": "barpolar"
           }
          ],
          "carpet": [
           {
            "aaxis": {
             "endlinecolor": "#2a3f5f",
             "gridcolor": "white",
             "linecolor": "white",
             "minorgridcolor": "white",
             "startlinecolor": "#2a3f5f"
            },
            "baxis": {
             "endlinecolor": "#2a3f5f",
             "gridcolor": "white",
             "linecolor": "white",
             "minorgridcolor": "white",
             "startlinecolor": "#2a3f5f"
            },
            "type": "carpet"
           }
          ],
          "choropleth": [
           {
            "colorbar": {
             "outlinewidth": 0,
             "ticks": ""
            },
            "type": "choropleth"
           }
          ],
          "contour": [
           {
            "colorbar": {
             "outlinewidth": 0,
             "ticks": ""
            },
            "colorscale": [
             [
              0,
              "#0d0887"
             ],
             [
              0.1111111111111111,
              "#46039f"
             ],
             [
              0.2222222222222222,
              "#7201a8"
             ],
             [
              0.3333333333333333,
              "#9c179e"
             ],
             [
              0.4444444444444444,
              "#bd3786"
             ],
             [
              0.5555555555555556,
              "#d8576b"
             ],
             [
              0.6666666666666666,
              "#ed7953"
             ],
             [
              0.7777777777777778,
              "#fb9f3a"
             ],
             [
              0.8888888888888888,
              "#fdca26"
             ],
             [
              1,
              "#f0f921"
             ]
            ],
            "type": "contour"
           }
          ],
          "contourcarpet": [
           {
            "colorbar": {
             "outlinewidth": 0,
             "ticks": ""
            },
            "type": "contourcarpet"
           }
          ],
          "heatmap": [
           {
            "colorbar": {
             "outlinewidth": 0,
             "ticks": ""
            },
            "colorscale": [
             [
              0,
              "#0d0887"
             ],
             [
              0.1111111111111111,
              "#46039f"
             ],
             [
              0.2222222222222222,
              "#7201a8"
             ],
             [
              0.3333333333333333,
              "#9c179e"
             ],
             [
              0.4444444444444444,
              "#bd3786"
             ],
             [
              0.5555555555555556,
              "#d8576b"
             ],
             [
              0.6666666666666666,
              "#ed7953"
             ],
             [
              0.7777777777777778,
              "#fb9f3a"
             ],
             [
              0.8888888888888888,
              "#fdca26"
             ],
             [
              1,
              "#f0f921"
             ]
            ],
            "type": "heatmap"
           }
          ],
          "heatmapgl": [
           {
            "colorbar": {
             "outlinewidth": 0,
             "ticks": ""
            },
            "colorscale": [
             [
              0,
              "#0d0887"
             ],
             [
              0.1111111111111111,
              "#46039f"
             ],
             [
              0.2222222222222222,
              "#7201a8"
             ],
             [
              0.3333333333333333,
              "#9c179e"
             ],
             [
              0.4444444444444444,
              "#bd3786"
             ],
             [
              0.5555555555555556,
              "#d8576b"
             ],
             [
              0.6666666666666666,
              "#ed7953"
             ],
             [
              0.7777777777777778,
              "#fb9f3a"
             ],
             [
              0.8888888888888888,
              "#fdca26"
             ],
             [
              1,
              "#f0f921"
             ]
            ],
            "type": "heatmapgl"
           }
          ],
          "histogram": [
           {
            "marker": {
             "pattern": {
              "fillmode": "overlay",
              "size": 10,
              "solidity": 0.2
             }
            },
            "type": "histogram"
           }
          ],
          "histogram2d": [
           {
            "colorbar": {
             "outlinewidth": 0,
             "ticks": ""
            },
            "colorscale": [
             [
              0,
              "#0d0887"
             ],
             [
              0.1111111111111111,
              "#46039f"
             ],
             [
              0.2222222222222222,
              "#7201a8"
             ],
             [
              0.3333333333333333,
              "#9c179e"
             ],
             [
              0.4444444444444444,
              "#bd3786"
             ],
             [
              0.5555555555555556,
              "#d8576b"
             ],
             [
              0.6666666666666666,
              "#ed7953"
             ],
             [
              0.7777777777777778,
              "#fb9f3a"
             ],
             [
              0.8888888888888888,
              "#fdca26"
             ],
             [
              1,
              "#f0f921"
             ]
            ],
            "type": "histogram2d"
           }
          ],
          "histogram2dcontour": [
           {
            "colorbar": {
             "outlinewidth": 0,
             "ticks": ""
            },
            "colorscale": [
             [
              0,
              "#0d0887"
             ],
             [
              0.1111111111111111,
              "#46039f"
             ],
             [
              0.2222222222222222,
              "#7201a8"
             ],
             [
              0.3333333333333333,
              "#9c179e"
             ],
             [
              0.4444444444444444,
              "#bd3786"
             ],
             [
              0.5555555555555556,
              "#d8576b"
             ],
             [
              0.6666666666666666,
              "#ed7953"
             ],
             [
              0.7777777777777778,
              "#fb9f3a"
             ],
             [
              0.8888888888888888,
              "#fdca26"
             ],
             [
              1,
              "#f0f921"
             ]
            ],
            "type": "histogram2dcontour"
           }
          ],
          "mesh3d": [
           {
            "colorbar": {
             "outlinewidth": 0,
             "ticks": ""
            },
            "type": "mesh3d"
           }
          ],
          "parcoords": [
           {
            "line": {
             "colorbar": {
              "outlinewidth": 0,
              "ticks": ""
             }
            },
            "type": "parcoords"
           }
          ],
          "pie": [
           {
            "automargin": true,
            "type": "pie"
           }
          ],
          "scatter": [
           {
            "fillpattern": {
             "fillmode": "overlay",
             "size": 10,
             "solidity": 0.2
            },
            "type": "scatter"
           }
          ],
          "scatter3d": [
           {
            "line": {
             "colorbar": {
              "outlinewidth": 0,
              "ticks": ""
             }
            },
            "marker": {
             "colorbar": {
              "outlinewidth": 0,
              "ticks": ""
             }
            },
            "type": "scatter3d"
           }
          ],
          "scattercarpet": [
           {
            "marker": {
             "colorbar": {
              "outlinewidth": 0,
              "ticks": ""
             }
            },
            "type": "scattercarpet"
           }
          ],
          "scattergeo": [
           {
            "marker": {
             "colorbar": {
              "outlinewidth": 0,
              "ticks": ""
             }
            },
            "type": "scattergeo"
           }
          ],
          "scattergl": [
           {
            "marker": {
             "colorbar": {
              "outlinewidth": 0,
              "ticks": ""
             }
            },
            "type": "scattergl"
           }
          ],
          "scattermapbox": [
           {
            "marker": {
             "colorbar": {
              "outlinewidth": 0,
              "ticks": ""
             }
            },
            "type": "scattermapbox"
           }
          ],
          "scatterpolar": [
           {
            "marker": {
             "colorbar": {
              "outlinewidth": 0,
              "ticks": ""
             }
            },
            "type": "scatterpolar"
           }
          ],
          "scatterpolargl": [
           {
            "marker": {
             "colorbar": {
              "outlinewidth": 0,
              "ticks": ""
             }
            },
            "type": "scatterpolargl"
           }
          ],
          "scatterternary": [
           {
            "marker": {
             "colorbar": {
              "outlinewidth": 0,
              "ticks": ""
             }
            },
            "type": "scatterternary"
           }
          ],
          "surface": [
           {
            "colorbar": {
             "outlinewidth": 0,
             "ticks": ""
            },
            "colorscale": [
             [
              0,
              "#0d0887"
             ],
             [
              0.1111111111111111,
              "#46039f"
             ],
             [
              0.2222222222222222,
              "#7201a8"
             ],
             [
              0.3333333333333333,
              "#9c179e"
             ],
             [
              0.4444444444444444,
              "#bd3786"
             ],
             [
              0.5555555555555556,
              "#d8576b"
             ],
             [
              0.6666666666666666,
              "#ed7953"
             ],
             [
              0.7777777777777778,
              "#fb9f3a"
             ],
             [
              0.8888888888888888,
              "#fdca26"
             ],
             [
              1,
              "#f0f921"
             ]
            ],
            "type": "surface"
           }
          ],
          "table": [
           {
            "cells": {
             "fill": {
              "color": "#EBF0F8"
             },
             "line": {
              "color": "white"
             }
            },
            "header": {
             "fill": {
              "color": "#C8D4E3"
             },
             "line": {
              "color": "white"
             }
            },
            "type": "table"
           }
          ]
         },
         "layout": {
          "annotationdefaults": {
           "arrowcolor": "#2a3f5f",
           "arrowhead": 0,
           "arrowwidth": 1
          },
          "autotypenumbers": "strict",
          "coloraxis": {
           "colorbar": {
            "outlinewidth": 0,
            "ticks": ""
           }
          },
          "colorscale": {
           "diverging": [
            [
             0,
             "#8e0152"
            ],
            [
             0.1,
             "#c51b7d"
            ],
            [
             0.2,
             "#de77ae"
            ],
            [
             0.3,
             "#f1b6da"
            ],
            [
             0.4,
             "#fde0ef"
            ],
            [
             0.5,
             "#f7f7f7"
            ],
            [
             0.6,
             "#e6f5d0"
            ],
            [
             0.7,
             "#b8e186"
            ],
            [
             0.8,
             "#7fbc41"
            ],
            [
             0.9,
             "#4d9221"
            ],
            [
             1,
             "#276419"
            ]
           ],
           "sequential": [
            [
             0,
             "#0d0887"
            ],
            [
             0.1111111111111111,
             "#46039f"
            ],
            [
             0.2222222222222222,
             "#7201a8"
            ],
            [
             0.3333333333333333,
             "#9c179e"
            ],
            [
             0.4444444444444444,
             "#bd3786"
            ],
            [
             0.5555555555555556,
             "#d8576b"
            ],
            [
             0.6666666666666666,
             "#ed7953"
            ],
            [
             0.7777777777777778,
             "#fb9f3a"
            ],
            [
             0.8888888888888888,
             "#fdca26"
            ],
            [
             1,
             "#f0f921"
            ]
           ],
           "sequentialminus": [
            [
             0,
             "#0d0887"
            ],
            [
             0.1111111111111111,
             "#46039f"
            ],
            [
             0.2222222222222222,
             "#7201a8"
            ],
            [
             0.3333333333333333,
             "#9c179e"
            ],
            [
             0.4444444444444444,
             "#bd3786"
            ],
            [
             0.5555555555555556,
             "#d8576b"
            ],
            [
             0.6666666666666666,
             "#ed7953"
            ],
            [
             0.7777777777777778,
             "#fb9f3a"
            ],
            [
             0.8888888888888888,
             "#fdca26"
            ],
            [
             1,
             "#f0f921"
            ]
           ]
          },
          "colorway": [
           "#636efa",
           "#EF553B",
           "#00cc96",
           "#ab63fa",
           "#FFA15A",
           "#19d3f3",
           "#FF6692",
           "#B6E880",
           "#FF97FF",
           "#FECB52"
          ],
          "font": {
           "color": "#2a3f5f"
          },
          "geo": {
           "bgcolor": "white",
           "lakecolor": "white",
           "landcolor": "#E5ECF6",
           "showlakes": true,
           "showland": true,
           "subunitcolor": "white"
          },
          "hoverlabel": {
           "align": "left"
          },
          "hovermode": "closest",
          "mapbox": {
           "style": "light"
          },
          "paper_bgcolor": "white",
          "plot_bgcolor": "#E5ECF6",
          "polar": {
           "angularaxis": {
            "gridcolor": "white",
            "linecolor": "white",
            "ticks": ""
           },
           "bgcolor": "#E5ECF6",
           "radialaxis": {
            "gridcolor": "white",
            "linecolor": "white",
            "ticks": ""
           }
          },
          "scene": {
           "xaxis": {
            "backgroundcolor": "#E5ECF6",
            "gridcolor": "white",
            "gridwidth": 2,
            "linecolor": "white",
            "showbackground": true,
            "ticks": "",
            "zerolinecolor": "white"
           },
           "yaxis": {
            "backgroundcolor": "#E5ECF6",
            "gridcolor": "white",
            "gridwidth": 2,
            "linecolor": "white",
            "showbackground": true,
            "ticks": "",
            "zerolinecolor": "white"
           },
           "zaxis": {
            "backgroundcolor": "#E5ECF6",
            "gridcolor": "white",
            "gridwidth": 2,
            "linecolor": "white",
            "showbackground": true,
            "ticks": "",
            "zerolinecolor": "white"
           }
          },
          "shapedefaults": {
           "line": {
            "color": "#2a3f5f"
           }
          },
          "ternary": {
           "aaxis": {
            "gridcolor": "white",
            "linecolor": "white",
            "ticks": ""
           },
           "baxis": {
            "gridcolor": "white",
            "linecolor": "white",
            "ticks": ""
           },
           "bgcolor": "#E5ECF6",
           "caxis": {
            "gridcolor": "white",
            "linecolor": "white",
            "ticks": ""
           }
          },
          "title": {
           "x": 0.05
          },
          "xaxis": {
           "automargin": true,
           "gridcolor": "white",
           "linecolor": "white",
           "ticks": "",
           "title": {
            "standoff": 15
           },
           "zerolinecolor": "white",
           "zerolinewidth": 2
          },
          "yaxis": {
           "automargin": true,
           "gridcolor": "white",
           "linecolor": "white",
           "ticks": "",
           "title": {
            "standoff": 15
           },
           "zerolinecolor": "white",
           "zerolinewidth": 2
          }
         }
        },
        "title": {
         "text": "Plot of MOVE Adj Close and VIX Adj Close vs Date"
        },
        "xaxis": {
         "title": {
          "text": "Date"
         }
        },
        "yaxis": {
         "tickfont": {
          "color": "blue"
         },
         "title": {
          "font": {
           "color": "blue"
          },
          "text": "MOVE Adj Close"
         }
        },
        "yaxis2": {
         "overlaying": "y",
         "side": "right",
         "tickfont": {
          "color": "green"
         },
         "title": {
          "font": {
           "color": "green"
          },
          "text": "VIX Adj Close"
         }
        }
       }
      }
     },
     "metadata": {},
     "output_type": "display_data"
    }
   ],
   "source": [
    "yield_curve.plot_yields_p(df_vol, ['MOVE Delta', 'VIX Delta'], custom_title='MOVE vs VIX (del)', date_subset_range=date_range)\n",
    "yield_curve.plot_dataframe_columns_with_secondary_y_plotly(df_vol, \"Date\", \"MOVE Adj Close\", \"VIX Adj Close\", date_subset_range=date_range)"
   ]
  },
  {
   "cell_type": "code",
   "execution_count": null,
   "metadata": {},
   "outputs": [],
   "source": []
  }
 ],
 "metadata": {
  "kernelspec": {
   "display_name": "Python 3",
   "language": "python",
   "name": "python3"
  },
  "language_info": {
   "codemirror_mode": {
    "name": "ipython",
    "version": 3
   },
   "file_extension": ".py",
   "mimetype": "text/x-python",
   "name": "python",
   "nbconvert_exporter": "python",
   "pygments_lexer": "ipython3",
   "version": "3.11.1"
  }
 },
 "nbformat": 4,
 "nbformat_minor": 2
}
