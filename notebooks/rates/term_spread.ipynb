{
 "cells": [
  {
   "cell_type": "code",
   "execution_count": 1,
   "metadata": {},
   "outputs": [],
   "source": [
    "import requests\n",
    "import pandas as pd\n",
    "import plotly.graph_objs as go\n",
    "from typing import Annotated, List\n",
    "from datetime import datetime, date"
   ]
  },
  {
   "cell_type": "code",
   "execution_count": 2,
   "metadata": {},
   "outputs": [],
   "source": [
    "def nyfed_recession_prob():\n",
    "    url = \"https://www.newyorkfed.org/medialibrary/media/research/capital_markets/allmonth.xls\"\n",
    "    full_file_path = r\"C:\\Users\\chris\\trade\\curr_pos\\treasuries\\nyfed_recession_prob.xlsx\"\n",
    "    try:    \n",
    "        response = requests.get(url)\n",
    "        if response.status_code == 200:\n",
    "            with open(full_file_path, \"wb\") as f:\n",
    "                chunk = response.content\n",
    "                f.write(chunk)\n",
    "            return pd.read_excel(full_file_path, parse_dates=[\"Date\"])\n",
    "        else:\n",
    "            raise Exception(f\"Bad Status: {response.status}\")\n",
    "    except Exception as e:\n",
    "        print(e)\n",
    "        return pd.DataFrame()"
   ]
  },
  {
   "cell_type": "code",
   "execution_count": 3,
   "metadata": {},
   "outputs": [],
   "source": [
    "def plot_term_spread(df: pd.DataFrame, date_subset_range: Annotated[List[date], 2] | None = None):\n",
    "    df_copy = df.copy()\n",
    "    df_copy[\"Date\"] = pd.to_datetime(df_copy[\"Date\"])\n",
    "    if date_subset_range:\n",
    "        df_copy = df_copy[\n",
    "            (df_copy[\"Date\"] >= date_subset_range[0])\n",
    "            & (df_copy[\"Date\"] <= date_subset_range[1])\n",
    "        ]\n",
    "        \n",
    "    df_copy[\"term_spread\"] = df_copy[\"10 Year Treasury Yield\"] - df_copy[\"3 Month Treasury Yield\"]\n",
    "    df_copy[\"term_spread_beb\"] = df_copy[\"10 Year Treasury Yield\"] - df_copy[\"3 Month Treasury Yield (Bond Equivalent Basis)\"]\n",
    "    fig = go.Figure()\n",
    "    \n",
    "    dates = df_copy[\"Date\"].tolist()\n",
    "    term_spread = df_copy[\"term_spread\"].tolist()\n",
    "    term_spread_beb = df_copy[\"term_spread_beb\"].tolist()\n",
    "    \n",
    "    fig.add_trace(\n",
    "        go.Scatter(x=dates, y=term_spread, mode=\"lines+markers\", name=f\"Spread\")\n",
    "    )\n",
    "    fig.add_trace(\n",
    "        go.Scatter(x=dates, y=term_spread_beb, mode=\"lines+markers\", name=\"BEB\")\n",
    "    )\n",
    "\n",
    "    fig.update_layout(\n",
    "        title=\"Treasury Spread: 10 yr bond rate-3 month bill rate\",\n",
    "        xaxis_title=\"Date\",\n",
    "        yaxis_title=\"Spread (basis points)\",\n",
    "        showlegend=False,\n",
    "    )\n",
    "\n",
    "    fig.show()\n",
    "    return df_copy\n",
    "\n",
    "\n",
    "def plot_recession_prob(df: pd.DataFrame, date_subset_range: Annotated[List[date], 2] | None = None):\n",
    "    df_copy = df.copy()\n",
    "    df_copy[\"Date\"] = pd.to_datetime(df_copy[\"Date\"])\n",
    "    if date_subset_range:\n",
    "        df_copy = df_copy[\n",
    "            (df_copy[\"Date\"] >= date_subset_range[0])\n",
    "            & (df_copy[\"Date\"] <= date_subset_range[1])\n",
    "        ]\n",
    "        \n",
    "    dates = df_copy[\"Date\"].tolist()\n",
    "    term_spread = df_copy[\"Rec_prob\"].tolist()\n",
    "    fig = go.Figure()\n",
    "    fig.add_trace(\n",
    "        go.Scatter(x=dates, y=term_spread, mode=\"lines+markers\", name=f\"Treasury Spread\")\n",
    "    )\n",
    "\n",
    "    fig.update_layout(\n",
    "        title=\"Probability of U.S. Recession, Twelve Months Ahead of Term Spread Readings\",\n",
    "        xaxis_title=\"Date\",\n",
    "        yaxis_title=\"Percent (monthly average)\",\n",
    "        showlegend=False,\n",
    "    )\n",
    "\n",
    "    fig.show()\n",
    "    return df_copy"
   ]
  },
  {
   "cell_type": "code",
   "execution_count": 5,
   "metadata": {},
   "outputs": [
    {
     "data": {
      "text/html": [
       "<div>\n",
       "<style scoped>\n",
       "    .dataframe tbody tr th:only-of-type {\n",
       "        vertical-align: middle;\n",
       "    }\n",
       "\n",
       "    .dataframe tbody tr th {\n",
       "        vertical-align: top;\n",
       "    }\n",
       "\n",
       "    .dataframe thead th {\n",
       "        text-align: right;\n",
       "    }\n",
       "</style>\n",
       "<table border=\"1\" class=\"dataframe\">\n",
       "  <thead>\n",
       "    <tr style=\"text-align: right;\">\n",
       "      <th></th>\n",
       "      <th>Date</th>\n",
       "      <th>10 Year Treasury Yield</th>\n",
       "      <th>3 Month Treasury Yield</th>\n",
       "      <th>3 Month Treasury Yield (Bond Equivalent Basis)</th>\n",
       "      <th>Spread</th>\n",
       "      <th>Rec_prob</th>\n",
       "      <th>NBER_Rec</th>\n",
       "    </tr>\n",
       "  </thead>\n",
       "  <tbody>\n",
       "    <tr>\n",
       "      <th>0</th>\n",
       "      <td>1959-01-31</td>\n",
       "      <td>4.02</td>\n",
       "      <td>2.82</td>\n",
       "      <td>2.879694</td>\n",
       "      <td>1.140306</td>\n",
       "      <td>NaN</td>\n",
       "      <td>0.0</td>\n",
       "    </tr>\n",
       "    <tr>\n",
       "      <th>1</th>\n",
       "      <td>1959-02-28</td>\n",
       "      <td>3.96</td>\n",
       "      <td>2.70</td>\n",
       "      <td>2.756312</td>\n",
       "      <td>1.203688</td>\n",
       "      <td>NaN</td>\n",
       "      <td>0.0</td>\n",
       "    </tr>\n",
       "    <tr>\n",
       "      <th>2</th>\n",
       "      <td>1959-03-31</td>\n",
       "      <td>3.99</td>\n",
       "      <td>2.80</td>\n",
       "      <td>2.859125</td>\n",
       "      <td>1.130875</td>\n",
       "      <td>NaN</td>\n",
       "      <td>0.0</td>\n",
       "    </tr>\n",
       "    <tr>\n",
       "      <th>3</th>\n",
       "      <td>1959-04-30</td>\n",
       "      <td>4.12</td>\n",
       "      <td>2.95</td>\n",
       "      <td>3.013443</td>\n",
       "      <td>1.106557</td>\n",
       "      <td>NaN</td>\n",
       "      <td>0.0</td>\n",
       "    </tr>\n",
       "    <tr>\n",
       "      <th>4</th>\n",
       "      <td>1959-05-31</td>\n",
       "      <td>4.31</td>\n",
       "      <td>2.84</td>\n",
       "      <td>2.900265</td>\n",
       "      <td>1.409735</td>\n",
       "      <td>NaN</td>\n",
       "      <td>0.0</td>\n",
       "    </tr>\n",
       "  </tbody>\n",
       "</table>\n",
       "</div>"
      ],
      "text/plain": [
       "        Date  10 Year Treasury Yield  3 Month Treasury Yield  \\\n",
       "0 1959-01-31                    4.02                    2.82   \n",
       "1 1959-02-28                    3.96                    2.70   \n",
       "2 1959-03-31                    3.99                    2.80   \n",
       "3 1959-04-30                    4.12                    2.95   \n",
       "4 1959-05-31                    4.31                    2.84   \n",
       "\n",
       "   3 Month Treasury Yield (Bond Equivalent Basis)    Spread  Rec_prob  \\\n",
       "0                                        2.879694  1.140306       NaN   \n",
       "1                                        2.756312  1.203688       NaN   \n",
       "2                                        2.859125  1.130875       NaN   \n",
       "3                                        3.013443  1.106557       NaN   \n",
       "4                                        2.900265  1.409735       NaN   \n",
       "\n",
       "   NBER_Rec  \n",
       "0       0.0  \n",
       "1       0.0  \n",
       "2       0.0  \n",
       "3       0.0  \n",
       "4       0.0  "
      ]
     },
     "execution_count": 5,
     "metadata": {},
     "output_type": "execute_result"
    }
   ],
   "source": [
    "df = nyfed_recession_prob()\n",
    "df.head()"
   ]
  },
  {
   "cell_type": "code",
   "execution_count": 6,
   "metadata": {},
   "outputs": [],
   "source": [
    "date_range = [datetime(2020, 1, 1), datetime(2023, 12, 1)]"
   ]
  },
  {
   "cell_type": "code",
   "execution_count": 7,
   "metadata": {},
   "outputs": [
    {
     "data": {
      "application/vnd.plotly.v1+json": {
       "config": {
        "plotlyServerURL": "https://plot.ly"
       },
       "data": [
        {
         "mode": "lines+markers",
         "name": "Spread",
         "type": "scatter",
         "x": [
          "2020-01-31T00:00:00",
          "2020-02-28T00:00:00",
          "2020-03-31T00:00:00",
          "2020-04-30T00:00:00",
          "2020-05-31T00:00:00",
          "2020-06-30T00:00:00",
          "2020-07-31T00:00:00",
          "2020-08-31T00:00:00",
          "2020-09-30T00:00:00",
          "2020-10-31T00:00:00",
          "2020-11-30T00:00:00",
          "2020-12-31T00:00:00",
          "2021-01-31T00:00:00",
          "2021-02-28T00:00:00",
          "2021-03-31T00:00:00",
          "2021-04-30T00:00:00",
          "2021-05-31T00:00:00",
          "2021-06-30T00:00:00",
          "2021-07-31T00:00:00",
          "2021-08-31T00:00:00",
          "2021-09-30T00:00:00",
          "2021-10-31T00:00:00",
          "2021-11-30T00:00:00",
          "2021-12-31T00:00:00",
          "2022-01-31T00:00:00",
          "2022-02-28T00:00:00",
          "2022-03-31T00:00:00",
          "2022-04-30T00:00:00",
          "2022-05-31T00:00:00",
          "2022-06-30T00:00:00",
          "2022-07-31T00:00:00",
          "2022-08-31T00:00:00",
          "2022-09-30T00:00:00",
          "2022-10-31T00:00:00",
          "2022-11-30T00:00:00",
          "2022-12-31T00:00:00",
          "2023-01-31T00:00:00",
          "2023-02-28T00:00:00",
          "2023-03-31T00:00:00",
          "2023-04-30T00:00:00",
          "2023-05-31T00:00:00",
          "2023-06-30T00:00:00",
          "2023-07-31T00:00:00",
          "2023-08-31T00:00:00",
          "2023-09-30T00:00:00",
          "2023-10-31T00:00:00",
          "2023-11-30T00:00:00"
         ],
         "y": [
          0.24,
          -0.020000000000000018,
          0.5800000000000001,
          0.52,
          0.54,
          0.57,
          0.49,
          0.55,
          0.5700000000000001,
          0.6900000000000001,
          0.78,
          0.8400000000000001,
          1,
          1.22,
          1.58,
          1.6199999999999999,
          1.6,
          1.48,
          1.27,
          1.23,
          1.33,
          1.53,
          1.51,
          1.41,
          1.61,
          1.5999999999999999,
          1.69,
          1.99,
          1.92,
          1.6500000000000001,
          0.6699999999999999,
          0.27,
          0.3900000000000001,
          0.2599999999999998,
          -0.26000000000000023,
          -0.6299999999999999,
          -1.0100000000000002,
          -0.9000000000000004,
          -1.0300000000000002,
          -1.46,
          -1.5699999999999998,
          -1.4100000000000001,
          -1.35,
          -1.13,
          -0.9400000000000004,
          -0.54,
          null
         ]
        },
        {
         "mode": "lines+markers",
         "name": "BEB",
         "type": "scatter",
         "x": [
          "2020-01-31T00:00:00",
          "2020-02-28T00:00:00",
          "2020-03-31T00:00:00",
          "2020-04-30T00:00:00",
          "2020-05-31T00:00:00",
          "2020-06-30T00:00:00",
          "2020-07-31T00:00:00",
          "2020-08-31T00:00:00",
          "2020-09-30T00:00:00",
          "2020-10-31T00:00:00",
          "2020-11-30T00:00:00",
          "2020-12-31T00:00:00",
          "2021-01-31T00:00:00",
          "2021-02-28T00:00:00",
          "2021-03-31T00:00:00",
          "2021-04-30T00:00:00",
          "2021-05-31T00:00:00",
          "2021-06-30T00:00:00",
          "2021-07-31T00:00:00",
          "2021-08-31T00:00:00",
          "2021-09-30T00:00:00",
          "2021-10-31T00:00:00",
          "2021-11-30T00:00:00",
          "2021-12-31T00:00:00",
          "2022-01-31T00:00:00",
          "2022-02-28T00:00:00",
          "2022-03-31T00:00:00",
          "2022-04-30T00:00:00",
          "2022-05-31T00:00:00",
          "2022-06-30T00:00:00",
          "2022-07-31T00:00:00",
          "2022-08-31T00:00:00",
          "2022-09-30T00:00:00",
          "2022-10-31T00:00:00",
          "2022-11-30T00:00:00",
          "2022-12-31T00:00:00",
          "2023-01-31T00:00:00",
          "2023-02-28T00:00:00",
          "2023-03-31T00:00:00",
          "2023-04-30T00:00:00",
          "2023-05-31T00:00:00",
          "2023-06-30T00:00:00",
          "2023-07-31T00:00:00",
          "2023-08-31T00:00:00",
          "2023-09-30T00:00:00",
          "2023-10-31T00:00:00",
          "2023-11-30T00:00:00"
         ],
         "y": [
          0.21294475886238473,
          -0.04705524113761528,
          0.575756525408487,
          0.5180053052107885,
          0.5381511174366466,
          0.567712141354948,
          0.4881511174366465,
          0.5485854757730426,
          0.568441202678856,
          0.6885854757730426,
          0.7787292359011675,
          0.8387292359011675,
          0.9988724831021385,
          1.2194403434125005,
          1.579581026561181,
          1.6197211970160712,
          1.5997211970160714,
          1.4794403434125005,
          1.2692991475311464,
          1.2292991475311463,
          1.3294403434125006,
          1.5292991475311464,
          1.5092991475311464,
          1.4091574388782298,
          1.6078589798631981,
          1.595137335393941,
          1.6833921617265424,
          1.9779612722663873,
          1.9039213807983222,
          1.623594181529823,
          0.6262105529865991,
          0.21562635711243683,
          0.32121920181256325,
          0.1725304277893116,
          -0.36224613199297684,
          -0.7358226221981985,
          -1.1264939980655782,
          -1.0206584478389749,
          -1.152188722918174,
          -1.5911528374551498,
          -1.7099906338634239,
          -1.550806857443927,
          -1.4945062601608856,
          -1.2765801558096381,
          -1.0874134499835009,
          -0.6882488794578823,
          null
         ]
        }
       ],
       "layout": {
        "showlegend": false,
        "template": {
         "data": {
          "bar": [
           {
            "error_x": {
             "color": "#2a3f5f"
            },
            "error_y": {
             "color": "#2a3f5f"
            },
            "marker": {
             "line": {
              "color": "#E5ECF6",
              "width": 0.5
             },
             "pattern": {
              "fillmode": "overlay",
              "size": 10,
              "solidity": 0.2
             }
            },
            "type": "bar"
           }
          ],
          "barpolar": [
           {
            "marker": {
             "line": {
              "color": "#E5ECF6",
              "width": 0.5
             },
             "pattern": {
              "fillmode": "overlay",
              "size": 10,
              "solidity": 0.2
             }
            },
            "type": "barpolar"
           }
          ],
          "carpet": [
           {
            "aaxis": {
             "endlinecolor": "#2a3f5f",
             "gridcolor": "white",
             "linecolor": "white",
             "minorgridcolor": "white",
             "startlinecolor": "#2a3f5f"
            },
            "baxis": {
             "endlinecolor": "#2a3f5f",
             "gridcolor": "white",
             "linecolor": "white",
             "minorgridcolor": "white",
             "startlinecolor": "#2a3f5f"
            },
            "type": "carpet"
           }
          ],
          "choropleth": [
           {
            "colorbar": {
             "outlinewidth": 0,
             "ticks": ""
            },
            "type": "choropleth"
           }
          ],
          "contour": [
           {
            "colorbar": {
             "outlinewidth": 0,
             "ticks": ""
            },
            "colorscale": [
             [
              0,
              "#0d0887"
             ],
             [
              0.1111111111111111,
              "#46039f"
             ],
             [
              0.2222222222222222,
              "#7201a8"
             ],
             [
              0.3333333333333333,
              "#9c179e"
             ],
             [
              0.4444444444444444,
              "#bd3786"
             ],
             [
              0.5555555555555556,
              "#d8576b"
             ],
             [
              0.6666666666666666,
              "#ed7953"
             ],
             [
              0.7777777777777778,
              "#fb9f3a"
             ],
             [
              0.8888888888888888,
              "#fdca26"
             ],
             [
              1,
              "#f0f921"
             ]
            ],
            "type": "contour"
           }
          ],
          "contourcarpet": [
           {
            "colorbar": {
             "outlinewidth": 0,
             "ticks": ""
            },
            "type": "contourcarpet"
           }
          ],
          "heatmap": [
           {
            "colorbar": {
             "outlinewidth": 0,
             "ticks": ""
            },
            "colorscale": [
             [
              0,
              "#0d0887"
             ],
             [
              0.1111111111111111,
              "#46039f"
             ],
             [
              0.2222222222222222,
              "#7201a8"
             ],
             [
              0.3333333333333333,
              "#9c179e"
             ],
             [
              0.4444444444444444,
              "#bd3786"
             ],
             [
              0.5555555555555556,
              "#d8576b"
             ],
             [
              0.6666666666666666,
              "#ed7953"
             ],
             [
              0.7777777777777778,
              "#fb9f3a"
             ],
             [
              0.8888888888888888,
              "#fdca26"
             ],
             [
              1,
              "#f0f921"
             ]
            ],
            "type": "heatmap"
           }
          ],
          "heatmapgl": [
           {
            "colorbar": {
             "outlinewidth": 0,
             "ticks": ""
            },
            "colorscale": [
             [
              0,
              "#0d0887"
             ],
             [
              0.1111111111111111,
              "#46039f"
             ],
             [
              0.2222222222222222,
              "#7201a8"
             ],
             [
              0.3333333333333333,
              "#9c179e"
             ],
             [
              0.4444444444444444,
              "#bd3786"
             ],
             [
              0.5555555555555556,
              "#d8576b"
             ],
             [
              0.6666666666666666,
              "#ed7953"
             ],
             [
              0.7777777777777778,
              "#fb9f3a"
             ],
             [
              0.8888888888888888,
              "#fdca26"
             ],
             [
              1,
              "#f0f921"
             ]
            ],
            "type": "heatmapgl"
           }
          ],
          "histogram": [
           {
            "marker": {
             "pattern": {
              "fillmode": "overlay",
              "size": 10,
              "solidity": 0.2
             }
            },
            "type": "histogram"
           }
          ],
          "histogram2d": [
           {
            "colorbar": {
             "outlinewidth": 0,
             "ticks": ""
            },
            "colorscale": [
             [
              0,
              "#0d0887"
             ],
             [
              0.1111111111111111,
              "#46039f"
             ],
             [
              0.2222222222222222,
              "#7201a8"
             ],
             [
              0.3333333333333333,
              "#9c179e"
             ],
             [
              0.4444444444444444,
              "#bd3786"
             ],
             [
              0.5555555555555556,
              "#d8576b"
             ],
             [
              0.6666666666666666,
              "#ed7953"
             ],
             [
              0.7777777777777778,
              "#fb9f3a"
             ],
             [
              0.8888888888888888,
              "#fdca26"
             ],
             [
              1,
              "#f0f921"
             ]
            ],
            "type": "histogram2d"
           }
          ],
          "histogram2dcontour": [
           {
            "colorbar": {
             "outlinewidth": 0,
             "ticks": ""
            },
            "colorscale": [
             [
              0,
              "#0d0887"
             ],
             [
              0.1111111111111111,
              "#46039f"
             ],
             [
              0.2222222222222222,
              "#7201a8"
             ],
             [
              0.3333333333333333,
              "#9c179e"
             ],
             [
              0.4444444444444444,
              "#bd3786"
             ],
             [
              0.5555555555555556,
              "#d8576b"
             ],
             [
              0.6666666666666666,
              "#ed7953"
             ],
             [
              0.7777777777777778,
              "#fb9f3a"
             ],
             [
              0.8888888888888888,
              "#fdca26"
             ],
             [
              1,
              "#f0f921"
             ]
            ],
            "type": "histogram2dcontour"
           }
          ],
          "mesh3d": [
           {
            "colorbar": {
             "outlinewidth": 0,
             "ticks": ""
            },
            "type": "mesh3d"
           }
          ],
          "parcoords": [
           {
            "line": {
             "colorbar": {
              "outlinewidth": 0,
              "ticks": ""
             }
            },
            "type": "parcoords"
           }
          ],
          "pie": [
           {
            "automargin": true,
            "type": "pie"
           }
          ],
          "scatter": [
           {
            "fillpattern": {
             "fillmode": "overlay",
             "size": 10,
             "solidity": 0.2
            },
            "type": "scatter"
           }
          ],
          "scatter3d": [
           {
            "line": {
             "colorbar": {
              "outlinewidth": 0,
              "ticks": ""
             }
            },
            "marker": {
             "colorbar": {
              "outlinewidth": 0,
              "ticks": ""
             }
            },
            "type": "scatter3d"
           }
          ],
          "scattercarpet": [
           {
            "marker": {
             "colorbar": {
              "outlinewidth": 0,
              "ticks": ""
             }
            },
            "type": "scattercarpet"
           }
          ],
          "scattergeo": [
           {
            "marker": {
             "colorbar": {
              "outlinewidth": 0,
              "ticks": ""
             }
            },
            "type": "scattergeo"
           }
          ],
          "scattergl": [
           {
            "marker": {
             "colorbar": {
              "outlinewidth": 0,
              "ticks": ""
             }
            },
            "type": "scattergl"
           }
          ],
          "scattermapbox": [
           {
            "marker": {
             "colorbar": {
              "outlinewidth": 0,
              "ticks": ""
             }
            },
            "type": "scattermapbox"
           }
          ],
          "scatterpolar": [
           {
            "marker": {
             "colorbar": {
              "outlinewidth": 0,
              "ticks": ""
             }
            },
            "type": "scatterpolar"
           }
          ],
          "scatterpolargl": [
           {
            "marker": {
             "colorbar": {
              "outlinewidth": 0,
              "ticks": ""
             }
            },
            "type": "scatterpolargl"
           }
          ],
          "scatterternary": [
           {
            "marker": {
             "colorbar": {
              "outlinewidth": 0,
              "ticks": ""
             }
            },
            "type": "scatterternary"
           }
          ],
          "surface": [
           {
            "colorbar": {
             "outlinewidth": 0,
             "ticks": ""
            },
            "colorscale": [
             [
              0,
              "#0d0887"
             ],
             [
              0.1111111111111111,
              "#46039f"
             ],
             [
              0.2222222222222222,
              "#7201a8"
             ],
             [
              0.3333333333333333,
              "#9c179e"
             ],
             [
              0.4444444444444444,
              "#bd3786"
             ],
             [
              0.5555555555555556,
              "#d8576b"
             ],
             [
              0.6666666666666666,
              "#ed7953"
             ],
             [
              0.7777777777777778,
              "#fb9f3a"
             ],
             [
              0.8888888888888888,
              "#fdca26"
             ],
             [
              1,
              "#f0f921"
             ]
            ],
            "type": "surface"
           }
          ],
          "table": [
           {
            "cells": {
             "fill": {
              "color": "#EBF0F8"
             },
             "line": {
              "color": "white"
             }
            },
            "header": {
             "fill": {
              "color": "#C8D4E3"
             },
             "line": {
              "color": "white"
             }
            },
            "type": "table"
           }
          ]
         },
         "layout": {
          "annotationdefaults": {
           "arrowcolor": "#2a3f5f",
           "arrowhead": 0,
           "arrowwidth": 1
          },
          "autotypenumbers": "strict",
          "coloraxis": {
           "colorbar": {
            "outlinewidth": 0,
            "ticks": ""
           }
          },
          "colorscale": {
           "diverging": [
            [
             0,
             "#8e0152"
            ],
            [
             0.1,
             "#c51b7d"
            ],
            [
             0.2,
             "#de77ae"
            ],
            [
             0.3,
             "#f1b6da"
            ],
            [
             0.4,
             "#fde0ef"
            ],
            [
             0.5,
             "#f7f7f7"
            ],
            [
             0.6,
             "#e6f5d0"
            ],
            [
             0.7,
             "#b8e186"
            ],
            [
             0.8,
             "#7fbc41"
            ],
            [
             0.9,
             "#4d9221"
            ],
            [
             1,
             "#276419"
            ]
           ],
           "sequential": [
            [
             0,
             "#0d0887"
            ],
            [
             0.1111111111111111,
             "#46039f"
            ],
            [
             0.2222222222222222,
             "#7201a8"
            ],
            [
             0.3333333333333333,
             "#9c179e"
            ],
            [
             0.4444444444444444,
             "#bd3786"
            ],
            [
             0.5555555555555556,
             "#d8576b"
            ],
            [
             0.6666666666666666,
             "#ed7953"
            ],
            [
             0.7777777777777778,
             "#fb9f3a"
            ],
            [
             0.8888888888888888,
             "#fdca26"
            ],
            [
             1,
             "#f0f921"
            ]
           ],
           "sequentialminus": [
            [
             0,
             "#0d0887"
            ],
            [
             0.1111111111111111,
             "#46039f"
            ],
            [
             0.2222222222222222,
             "#7201a8"
            ],
            [
             0.3333333333333333,
             "#9c179e"
            ],
            [
             0.4444444444444444,
             "#bd3786"
            ],
            [
             0.5555555555555556,
             "#d8576b"
            ],
            [
             0.6666666666666666,
             "#ed7953"
            ],
            [
             0.7777777777777778,
             "#fb9f3a"
            ],
            [
             0.8888888888888888,
             "#fdca26"
            ],
            [
             1,
             "#f0f921"
            ]
           ]
          },
          "colorway": [
           "#636efa",
           "#EF553B",
           "#00cc96",
           "#ab63fa",
           "#FFA15A",
           "#19d3f3",
           "#FF6692",
           "#B6E880",
           "#FF97FF",
           "#FECB52"
          ],
          "font": {
           "color": "#2a3f5f"
          },
          "geo": {
           "bgcolor": "white",
           "lakecolor": "white",
           "landcolor": "#E5ECF6",
           "showlakes": true,
           "showland": true,
           "subunitcolor": "white"
          },
          "hoverlabel": {
           "align": "left"
          },
          "hovermode": "closest",
          "mapbox": {
           "style": "light"
          },
          "paper_bgcolor": "white",
          "plot_bgcolor": "#E5ECF6",
          "polar": {
           "angularaxis": {
            "gridcolor": "white",
            "linecolor": "white",
            "ticks": ""
           },
           "bgcolor": "#E5ECF6",
           "radialaxis": {
            "gridcolor": "white",
            "linecolor": "white",
            "ticks": ""
           }
          },
          "scene": {
           "xaxis": {
            "backgroundcolor": "#E5ECF6",
            "gridcolor": "white",
            "gridwidth": 2,
            "linecolor": "white",
            "showbackground": true,
            "ticks": "",
            "zerolinecolor": "white"
           },
           "yaxis": {
            "backgroundcolor": "#E5ECF6",
            "gridcolor": "white",
            "gridwidth": 2,
            "linecolor": "white",
            "showbackground": true,
            "ticks": "",
            "zerolinecolor": "white"
           },
           "zaxis": {
            "backgroundcolor": "#E5ECF6",
            "gridcolor": "white",
            "gridwidth": 2,
            "linecolor": "white",
            "showbackground": true,
            "ticks": "",
            "zerolinecolor": "white"
           }
          },
          "shapedefaults": {
           "line": {
            "color": "#2a3f5f"
           }
          },
          "ternary": {
           "aaxis": {
            "gridcolor": "white",
            "linecolor": "white",
            "ticks": ""
           },
           "baxis": {
            "gridcolor": "white",
            "linecolor": "white",
            "ticks": ""
           },
           "bgcolor": "#E5ECF6",
           "caxis": {
            "gridcolor": "white",
            "linecolor": "white",
            "ticks": ""
           }
          },
          "title": {
           "x": 0.05
          },
          "xaxis": {
           "automargin": true,
           "gridcolor": "white",
           "linecolor": "white",
           "ticks": "",
           "title": {
            "standoff": 15
           },
           "zerolinecolor": "white",
           "zerolinewidth": 2
          },
          "yaxis": {
           "automargin": true,
           "gridcolor": "white",
           "linecolor": "white",
           "ticks": "",
           "title": {
            "standoff": 15
           },
           "zerolinecolor": "white",
           "zerolinewidth": 2
          }
         }
        },
        "title": {
         "text": "Treasury Spread: 10 yr bond rate-3 month bill rate"
        },
        "xaxis": {
         "title": {
          "text": "Date"
         }
        },
        "yaxis": {
         "title": {
          "text": "Spread (basis points)"
         }
        }
       }
      }
     },
     "metadata": {},
     "output_type": "display_data"
    }
   ],
   "source": [
    "df_term_spread = plot_term_spread(df, date_range)"
   ]
  },
  {
   "cell_type": "code",
   "execution_count": 8,
   "metadata": {},
   "outputs": [
    {
     "data": {
      "application/vnd.plotly.v1+json": {
       "config": {
        "plotlyServerURL": "https://plot.ly"
       },
       "data": [
        {
         "mode": "lines+markers",
         "name": "Treasury Spread",
         "type": "scatter",
         "x": [
          "1959-01-31T00:00:00",
          "1959-02-28T00:00:00",
          "1959-03-31T00:00:00",
          "1959-04-30T00:00:00",
          "1959-05-31T00:00:00",
          "1959-06-30T00:00:00",
          "1959-07-31T00:00:00",
          "1959-08-31T00:00:00",
          "1959-09-30T00:00:00",
          "1959-10-31T00:00:00",
          "1959-11-30T00:00:00",
          "1959-12-31T00:00:00",
          "1960-01-31T00:00:00",
          "1960-02-28T00:00:00",
          "1960-03-31T00:00:00",
          "1960-04-30T00:00:00",
          "1960-05-31T00:00:00",
          "1960-06-30T00:00:00",
          "1960-07-31T00:00:00",
          "1960-08-31T00:00:00",
          "1960-09-30T00:00:00",
          "1960-10-31T00:00:00",
          "1960-11-30T00:00:00",
          "1960-12-31T00:00:00",
          "1961-01-31T00:00:00",
          "1961-02-28T00:00:00",
          "1961-03-31T00:00:00",
          "1961-04-30T00:00:00",
          "1961-05-31T00:00:00",
          "1961-06-30T00:00:00",
          "1961-07-31T00:00:00",
          "1961-08-31T00:00:00",
          "1961-09-30T00:00:00",
          "1961-10-31T00:00:00",
          "1961-11-30T00:00:00",
          "1961-12-31T00:00:00",
          "1962-01-31T00:00:00",
          "1962-02-28T00:00:00",
          "1962-03-31T00:00:00",
          "1962-04-30T00:00:00",
          "1962-05-31T00:00:00",
          "1962-06-30T00:00:00",
          "1962-07-31T00:00:00",
          "1962-08-31T00:00:00",
          "1962-09-30T00:00:00",
          "1962-10-31T00:00:00",
          "1962-11-30T00:00:00",
          "1962-12-31T00:00:00",
          "1963-01-31T00:00:00",
          "1963-02-28T00:00:00",
          "1963-03-31T00:00:00",
          "1963-04-30T00:00:00",
          "1963-05-31T00:00:00",
          "1963-06-30T00:00:00",
          "1963-07-31T00:00:00",
          "1963-08-31T00:00:00",
          "1963-09-30T00:00:00",
          "1963-10-31T00:00:00",
          "1963-11-30T00:00:00",
          "1963-12-31T00:00:00",
          "1964-01-31T00:00:00",
          "1964-02-28T00:00:00",
          "1964-03-31T00:00:00",
          "1964-04-30T00:00:00",
          "1964-05-31T00:00:00",
          "1964-06-30T00:00:00",
          "1964-07-31T00:00:00",
          "1964-08-31T00:00:00",
          "1964-09-30T00:00:00",
          "1964-10-31T00:00:00",
          "1964-11-30T00:00:00",
          "1964-12-31T00:00:00",
          "1965-01-31T00:00:00",
          "1965-02-28T00:00:00",
          "1965-03-31T00:00:00",
          "1965-04-30T00:00:00",
          "1965-05-31T00:00:00",
          "1965-06-30T00:00:00",
          "1965-07-31T00:00:00",
          "1965-08-31T00:00:00",
          "1965-09-30T00:00:00",
          "1965-10-31T00:00:00",
          "1965-11-30T00:00:00",
          "1965-12-31T00:00:00",
          "1966-01-31T00:00:00",
          "1966-02-28T00:00:00",
          "1966-03-31T00:00:00",
          "1966-04-30T00:00:00",
          "1966-05-31T00:00:00",
          "1966-06-30T00:00:00",
          "1966-07-31T00:00:00",
          "1966-08-31T00:00:00",
          "1966-09-30T00:00:00",
          "1966-10-31T00:00:00",
          "1966-11-30T00:00:00",
          "1966-12-31T00:00:00",
          "1967-01-31T00:00:00",
          "1967-02-28T00:00:00",
          "1967-03-31T00:00:00",
          "1967-04-30T00:00:00",
          "1967-05-31T00:00:00",
          "1967-06-30T00:00:00",
          "1967-07-31T00:00:00",
          "1967-08-31T00:00:00",
          "1967-09-30T00:00:00",
          "1967-10-31T00:00:00",
          "1967-11-30T00:00:00",
          "1967-12-31T00:00:00",
          "1968-01-31T00:00:00",
          "1968-02-28T00:00:00",
          "1968-03-31T00:00:00",
          "1968-04-30T00:00:00",
          "1968-05-31T00:00:00",
          "1968-06-30T00:00:00",
          "1968-07-31T00:00:00",
          "1968-08-31T00:00:00",
          "1968-09-30T00:00:00",
          "1968-10-31T00:00:00",
          "1968-11-30T00:00:00",
          "1968-12-31T00:00:00",
          "1969-01-31T00:00:00",
          "1969-02-28T00:00:00",
          "1969-03-31T00:00:00",
          "1969-04-30T00:00:00",
          "1969-05-31T00:00:00",
          "1969-06-30T00:00:00",
          "1969-07-31T00:00:00",
          "1969-08-31T00:00:00",
          "1969-09-30T00:00:00",
          "1969-10-31T00:00:00",
          "1969-11-30T00:00:00",
          "1969-12-31T00:00:00",
          "1970-01-31T00:00:00",
          "1970-02-28T00:00:00",
          "1970-03-31T00:00:00",
          "1970-04-30T00:00:00",
          "1970-05-31T00:00:00",
          "1970-06-30T00:00:00",
          "1970-07-31T00:00:00",
          "1970-08-31T00:00:00",
          "1970-09-30T00:00:00",
          "1970-10-31T00:00:00",
          "1970-11-30T00:00:00",
          "1970-12-31T00:00:00",
          "1971-01-31T00:00:00",
          "1971-02-28T00:00:00",
          "1971-03-31T00:00:00",
          "1971-04-30T00:00:00",
          "1971-05-31T00:00:00",
          "1971-06-30T00:00:00",
          "1971-07-31T00:00:00",
          "1971-08-31T00:00:00",
          "1971-09-30T00:00:00",
          "1971-10-31T00:00:00",
          "1971-11-30T00:00:00",
          "1971-12-31T00:00:00",
          "1972-01-31T00:00:00",
          "1972-02-28T00:00:00",
          "1972-03-31T00:00:00",
          "1972-04-30T00:00:00",
          "1972-05-31T00:00:00",
          "1972-06-30T00:00:00",
          "1972-07-31T00:00:00",
          "1972-08-31T00:00:00",
          "1972-09-30T00:00:00",
          "1972-10-31T00:00:00",
          "1972-11-30T00:00:00",
          "1972-12-31T00:00:00",
          "1973-01-31T00:00:00",
          "1973-02-28T00:00:00",
          "1973-03-31T00:00:00",
          "1973-04-30T00:00:00",
          "1973-05-31T00:00:00",
          "1973-06-30T00:00:00",
          "1973-07-31T00:00:00",
          "1973-08-31T00:00:00",
          "1973-09-30T00:00:00",
          "1973-10-31T00:00:00",
          "1973-11-30T00:00:00",
          "1973-12-31T00:00:00",
          "1974-01-31T00:00:00",
          "1974-02-28T00:00:00",
          "1974-03-31T00:00:00",
          "1974-04-30T00:00:00",
          "1974-05-31T00:00:00",
          "1974-06-30T00:00:00",
          "1974-07-31T00:00:00",
          "1974-08-31T00:00:00",
          "1974-09-30T00:00:00",
          "1974-10-31T00:00:00",
          "1974-11-30T00:00:00",
          "1974-12-31T00:00:00",
          "1975-01-31T00:00:00",
          "1975-02-28T00:00:00",
          "1975-03-31T00:00:00",
          "1975-04-30T00:00:00",
          "1975-05-31T00:00:00",
          "1975-06-30T00:00:00",
          "1975-07-31T00:00:00",
          "1975-08-31T00:00:00",
          "1975-09-30T00:00:00",
          "1975-10-31T00:00:00",
          "1975-11-30T00:00:00",
          "1975-12-31T00:00:00",
          "1976-01-31T00:00:00",
          "1976-02-28T00:00:00",
          "1976-03-31T00:00:00",
          "1976-04-30T00:00:00",
          "1976-05-31T00:00:00",
          "1976-06-30T00:00:00",
          "1976-07-31T00:00:00",
          "1976-08-31T00:00:00",
          "1976-09-30T00:00:00",
          "1976-10-31T00:00:00",
          "1976-11-30T00:00:00",
          "1976-12-31T00:00:00",
          "1977-01-31T00:00:00",
          "1977-02-28T00:00:00",
          "1977-03-31T00:00:00",
          "1977-04-30T00:00:00",
          "1977-05-31T00:00:00",
          "1977-06-30T00:00:00",
          "1977-07-31T00:00:00",
          "1977-08-31T00:00:00",
          "1977-09-30T00:00:00",
          "1977-10-31T00:00:00",
          "1977-11-30T00:00:00",
          "1977-12-31T00:00:00",
          "1978-01-31T00:00:00",
          "1978-02-28T00:00:00",
          "1978-03-31T00:00:00",
          "1978-04-30T00:00:00",
          "1978-05-31T00:00:00",
          "1978-06-30T00:00:00",
          "1978-07-31T00:00:00",
          "1978-08-31T00:00:00",
          "1978-09-30T00:00:00",
          "1978-10-31T00:00:00",
          "1978-11-30T00:00:00",
          "1978-12-31T00:00:00",
          "1979-01-31T00:00:00",
          "1979-02-28T00:00:00",
          "1979-03-31T00:00:00",
          "1979-04-30T00:00:00",
          "1979-05-31T00:00:00",
          "1979-06-30T00:00:00",
          "1979-07-31T00:00:00",
          "1979-08-31T00:00:00",
          "1979-09-30T00:00:00",
          "1979-10-31T00:00:00",
          "1979-11-30T00:00:00",
          "1979-12-31T00:00:00",
          "1980-01-31T00:00:00",
          "1980-02-28T00:00:00",
          "1980-03-31T00:00:00",
          "1980-04-30T00:00:00",
          "1980-05-31T00:00:00",
          "1980-06-30T00:00:00",
          "1980-07-31T00:00:00",
          "1980-08-31T00:00:00",
          "1980-09-30T00:00:00",
          "1980-10-31T00:00:00",
          "1980-11-30T00:00:00",
          "1980-12-31T00:00:00",
          "1981-01-31T00:00:00",
          "1981-02-28T00:00:00",
          "1981-03-31T00:00:00",
          "1981-04-30T00:00:00",
          "1981-05-31T00:00:00",
          "1981-06-30T00:00:00",
          "1981-07-31T00:00:00",
          "1981-08-31T00:00:00",
          "1981-09-30T00:00:00",
          "1981-10-31T00:00:00",
          "1981-11-30T00:00:00",
          "1981-12-31T00:00:00",
          "1982-01-31T00:00:00",
          "1982-02-28T00:00:00",
          "1982-03-31T00:00:00",
          "1982-04-30T00:00:00",
          "1982-05-31T00:00:00",
          "1982-06-30T00:00:00",
          "1982-07-31T00:00:00",
          "1982-08-31T00:00:00",
          "1982-09-30T00:00:00",
          "1982-10-31T00:00:00",
          "1982-11-30T00:00:00",
          "1982-12-31T00:00:00",
          "1983-01-31T00:00:00",
          "1983-02-28T00:00:00",
          "1983-03-31T00:00:00",
          "1983-04-30T00:00:00",
          "1983-05-31T00:00:00",
          "1983-06-30T00:00:00",
          "1983-07-31T00:00:00",
          "1983-08-31T00:00:00",
          "1983-09-30T00:00:00",
          "1983-10-31T00:00:00",
          "1983-11-30T00:00:00",
          "1983-12-31T00:00:00",
          "1984-01-31T00:00:00",
          "1984-02-28T00:00:00",
          "1984-03-31T00:00:00",
          "1984-04-30T00:00:00",
          "1984-05-31T00:00:00",
          "1984-06-30T00:00:00",
          "1984-07-31T00:00:00",
          "1984-08-31T00:00:00",
          "1984-09-30T00:00:00",
          "1984-10-31T00:00:00",
          "1984-11-30T00:00:00",
          "1984-12-31T00:00:00",
          "1985-01-31T00:00:00",
          "1985-02-28T00:00:00",
          "1985-03-31T00:00:00",
          "1985-04-30T00:00:00",
          "1985-05-31T00:00:00",
          "1985-06-30T00:00:00",
          "1985-07-31T00:00:00",
          "1985-08-31T00:00:00",
          "1985-09-30T00:00:00",
          "1985-10-31T00:00:00",
          "1985-11-30T00:00:00",
          "1985-12-31T00:00:00",
          "1986-01-31T00:00:00",
          "1986-02-28T00:00:00",
          "1986-03-31T00:00:00",
          "1986-04-30T00:00:00",
          "1986-05-31T00:00:00",
          "1986-06-30T00:00:00",
          "1986-07-31T00:00:00",
          "1986-08-31T00:00:00",
          "1986-09-30T00:00:00",
          "1986-10-31T00:00:00",
          "1986-11-30T00:00:00",
          "1986-12-31T00:00:00",
          "1987-01-31T00:00:00",
          "1987-02-28T00:00:00",
          "1987-03-31T00:00:00",
          "1987-04-30T00:00:00",
          "1987-05-31T00:00:00",
          "1987-06-30T00:00:00",
          "1987-07-31T00:00:00",
          "1987-08-31T00:00:00",
          "1987-09-30T00:00:00",
          "1987-10-31T00:00:00",
          "1987-11-30T00:00:00",
          "1987-12-31T00:00:00",
          "1988-01-31T00:00:00",
          "1988-02-28T00:00:00",
          "1988-03-31T00:00:00",
          "1988-04-30T00:00:00",
          "1988-05-31T00:00:00",
          "1988-06-30T00:00:00",
          "1988-07-31T00:00:00",
          "1988-08-31T00:00:00",
          "1988-09-30T00:00:00",
          "1988-10-31T00:00:00",
          "1988-11-30T00:00:00",
          "1988-12-31T00:00:00",
          "1989-01-31T00:00:00",
          "1989-02-28T00:00:00",
          "1989-03-31T00:00:00",
          "1989-04-30T00:00:00",
          "1989-05-31T00:00:00",
          "1989-06-30T00:00:00",
          "1989-07-31T00:00:00",
          "1989-08-31T00:00:00",
          "1989-09-30T00:00:00",
          "1989-10-31T00:00:00",
          "1989-11-30T00:00:00",
          "1989-12-31T00:00:00",
          "1990-01-31T00:00:00",
          "1990-02-28T00:00:00",
          "1990-03-31T00:00:00",
          "1990-04-30T00:00:00",
          "1990-05-31T00:00:00",
          "1990-06-30T00:00:00",
          "1990-07-31T00:00:00",
          "1990-08-31T00:00:00",
          "1990-09-30T00:00:00",
          "1990-10-31T00:00:00",
          "1990-11-30T00:00:00",
          "1990-12-31T00:00:00",
          "1991-01-31T00:00:00",
          "1991-02-28T00:00:00",
          "1991-03-31T00:00:00",
          "1991-04-30T00:00:00",
          "1991-05-31T00:00:00",
          "1991-06-30T00:00:00",
          "1991-07-31T00:00:00",
          "1991-08-31T00:00:00",
          "1991-09-30T00:00:00",
          "1991-10-31T00:00:00",
          "1991-11-30T00:00:00",
          "1991-12-31T00:00:00",
          "1992-01-31T00:00:00",
          "1992-02-28T00:00:00",
          "1992-03-31T00:00:00",
          "1992-04-30T00:00:00",
          "1992-05-31T00:00:00",
          "1992-06-30T00:00:00",
          "1992-07-31T00:00:00",
          "1992-08-31T00:00:00",
          "1992-09-30T00:00:00",
          "1992-10-31T00:00:00",
          "1992-11-30T00:00:00",
          "1992-12-31T00:00:00",
          "1993-01-31T00:00:00",
          "1993-02-28T00:00:00",
          "1993-03-31T00:00:00",
          "1993-04-30T00:00:00",
          "1993-05-31T00:00:00",
          "1993-06-30T00:00:00",
          "1993-07-31T00:00:00",
          "1993-08-31T00:00:00",
          "1993-09-30T00:00:00",
          "1993-10-31T00:00:00",
          "1993-11-30T00:00:00",
          "1993-12-31T00:00:00",
          "1994-01-31T00:00:00",
          "1994-02-28T00:00:00",
          "1994-03-31T00:00:00",
          "1994-04-30T00:00:00",
          "1994-05-31T00:00:00",
          "1994-06-30T00:00:00",
          "1994-07-31T00:00:00",
          "1994-08-31T00:00:00",
          "1994-09-30T00:00:00",
          "1994-10-31T00:00:00",
          "1994-11-30T00:00:00",
          "1994-12-31T00:00:00",
          "1995-01-31T00:00:00",
          "1995-02-28T00:00:00",
          "1995-03-31T00:00:00",
          "1995-04-30T00:00:00",
          "1995-05-31T00:00:00",
          "1995-06-30T00:00:00",
          "1995-07-31T00:00:00",
          "1995-08-31T00:00:00",
          "1995-09-30T00:00:00",
          "1995-10-31T00:00:00",
          "1995-11-30T00:00:00",
          "1995-12-31T00:00:00",
          "1996-01-31T00:00:00",
          "1996-02-28T00:00:00",
          "1996-03-31T00:00:00",
          "1996-04-30T00:00:00",
          "1996-05-31T00:00:00",
          "1996-06-30T00:00:00",
          "1996-07-31T00:00:00",
          "1996-08-31T00:00:00",
          "1996-09-30T00:00:00",
          "1996-10-31T00:00:00",
          "1996-11-30T00:00:00",
          "1996-12-31T00:00:00",
          "1997-01-31T00:00:00",
          "1997-02-28T00:00:00",
          "1997-03-31T00:00:00",
          "1997-04-30T00:00:00",
          "1997-05-31T00:00:00",
          "1997-06-30T00:00:00",
          "1997-07-31T00:00:00",
          "1997-08-31T00:00:00",
          "1997-09-30T00:00:00",
          "1997-10-31T00:00:00",
          "1997-11-30T00:00:00",
          "1997-12-31T00:00:00",
          "1998-01-31T00:00:00",
          "1998-02-28T00:00:00",
          "1998-03-31T00:00:00",
          "1998-04-30T00:00:00",
          "1998-05-31T00:00:00",
          "1998-06-30T00:00:00",
          "1998-07-31T00:00:00",
          "1998-08-31T00:00:00",
          "1998-09-30T00:00:00",
          "1998-10-31T00:00:00",
          "1998-11-30T00:00:00",
          "1998-12-31T00:00:00",
          "1999-01-31T00:00:00",
          "1999-02-28T00:00:00",
          "1999-03-31T00:00:00",
          "1999-04-30T00:00:00",
          "1999-05-31T00:00:00",
          "1999-06-30T00:00:00",
          "1999-07-31T00:00:00",
          "1999-08-31T00:00:00",
          "1999-09-30T00:00:00",
          "1999-10-31T00:00:00",
          "1999-11-30T00:00:00",
          "1999-12-31T00:00:00",
          "2000-01-31T00:00:00",
          "2000-02-28T00:00:00",
          "2000-03-31T00:00:00",
          "2000-04-30T00:00:00",
          "2000-05-31T00:00:00",
          "2000-06-30T00:00:00",
          "2000-07-31T00:00:00",
          "2000-08-31T00:00:00",
          "2000-09-30T00:00:00",
          "2000-10-31T00:00:00",
          "2000-11-30T00:00:00",
          "2000-12-31T00:00:00",
          "2001-01-31T00:00:00",
          "2001-02-28T00:00:00",
          "2001-03-31T00:00:00",
          "2001-04-30T00:00:00",
          "2001-05-31T00:00:00",
          "2001-06-30T00:00:00",
          "2001-07-31T00:00:00",
          "2001-08-31T00:00:00",
          "2001-09-30T00:00:00",
          "2001-10-31T00:00:00",
          "2001-11-30T00:00:00",
          "2001-12-31T00:00:00",
          "2002-01-31T00:00:00",
          "2002-02-28T00:00:00",
          "2002-03-31T00:00:00",
          "2002-04-30T00:00:00",
          "2002-05-31T00:00:00",
          "2002-06-30T00:00:00",
          "2002-07-31T00:00:00",
          "2002-08-31T00:00:00",
          "2002-09-30T00:00:00",
          "2002-10-31T00:00:00",
          "2002-11-30T00:00:00",
          "2002-12-31T00:00:00",
          "2003-01-31T00:00:00",
          "2003-02-28T00:00:00",
          "2003-03-31T00:00:00",
          "2003-04-30T00:00:00",
          "2003-05-31T00:00:00",
          "2003-06-30T00:00:00",
          "2003-07-31T00:00:00",
          "2003-08-31T00:00:00",
          "2003-09-30T00:00:00",
          "2003-10-31T00:00:00",
          "2003-11-30T00:00:00",
          "2003-12-31T00:00:00",
          "2004-01-31T00:00:00",
          "2004-02-28T00:00:00",
          "2004-03-31T00:00:00",
          "2004-04-30T00:00:00",
          "2004-05-31T00:00:00",
          "2004-06-30T00:00:00",
          "2004-07-31T00:00:00",
          "2004-08-31T00:00:00",
          "2004-09-30T00:00:00",
          "2004-10-31T00:00:00",
          "2004-11-30T00:00:00",
          "2004-12-31T00:00:00",
          "2005-01-31T00:00:00",
          "2005-02-28T00:00:00",
          "2005-03-31T00:00:00",
          "2005-04-30T00:00:00",
          "2005-05-31T00:00:00",
          "2005-06-30T00:00:00",
          "2005-07-31T00:00:00",
          "2005-08-31T00:00:00",
          "2005-09-30T00:00:00",
          "2005-10-31T00:00:00",
          "2005-11-30T00:00:00",
          "2005-12-31T00:00:00",
          "2006-01-31T00:00:00",
          "2006-02-28T00:00:00",
          "2006-03-31T00:00:00",
          "2006-04-30T00:00:00",
          "2006-05-31T00:00:00",
          "2006-06-30T00:00:00",
          "2006-07-31T00:00:00",
          "2006-08-31T00:00:00",
          "2006-09-30T00:00:00",
          "2006-10-31T00:00:00",
          "2006-11-30T00:00:00",
          "2006-12-31T00:00:00",
          "2007-01-31T00:00:00",
          "2007-02-28T00:00:00",
          "2007-03-31T00:00:00",
          "2007-04-30T00:00:00",
          "2007-05-31T00:00:00",
          "2007-06-30T00:00:00",
          "2007-07-31T00:00:00",
          "2007-08-31T00:00:00",
          "2007-09-30T00:00:00",
          "2007-10-31T00:00:00",
          "2007-11-30T00:00:00",
          "2007-12-31T00:00:00",
          "2008-01-31T00:00:00",
          "2008-02-28T00:00:00",
          "2008-03-31T00:00:00",
          "2008-04-30T00:00:00",
          "2008-05-31T00:00:00",
          "2008-06-30T00:00:00",
          "2008-07-31T00:00:00",
          "2008-08-31T00:00:00",
          "2008-09-30T00:00:00",
          "2008-10-31T00:00:00",
          "2008-11-30T00:00:00",
          "2008-12-31T00:00:00",
          "2009-01-31T00:00:00",
          "2009-02-28T00:00:00",
          "2009-03-31T00:00:00",
          "2009-04-30T00:00:00",
          "2009-05-31T00:00:00",
          "2009-06-30T00:00:00",
          "2009-07-31T00:00:00",
          "2009-08-31T00:00:00",
          "2009-09-30T00:00:00",
          "2009-10-31T00:00:00",
          "2009-11-30T00:00:00",
          "2009-12-31T00:00:00",
          "2010-01-31T00:00:00",
          "2010-02-28T00:00:00",
          "2010-03-31T00:00:00",
          "2010-04-30T00:00:00",
          "2010-05-31T00:00:00",
          "2010-06-30T00:00:00",
          "2010-07-31T00:00:00",
          "2010-08-31T00:00:00",
          "2010-09-30T00:00:00",
          "2010-10-31T00:00:00",
          "2010-11-30T00:00:00",
          "2010-12-31T00:00:00",
          "2011-01-31T00:00:00",
          "2011-02-28T00:00:00",
          "2011-03-31T00:00:00",
          "2011-04-30T00:00:00",
          "2011-05-31T00:00:00",
          "2011-06-30T00:00:00",
          "2011-07-31T00:00:00",
          "2011-08-31T00:00:00",
          "2011-09-30T00:00:00",
          "2011-10-31T00:00:00",
          "2011-11-30T00:00:00",
          "2011-12-31T00:00:00",
          "2012-01-31T00:00:00",
          "2012-02-28T00:00:00",
          "2012-03-31T00:00:00",
          "2012-04-30T00:00:00",
          "2012-05-31T00:00:00",
          "2012-06-30T00:00:00",
          "2012-07-31T00:00:00",
          "2012-08-31T00:00:00",
          "2012-09-30T00:00:00",
          "2012-10-31T00:00:00",
          "2012-11-30T00:00:00",
          "2012-12-31T00:00:00",
          "2013-01-31T00:00:00",
          "2013-02-28T00:00:00",
          "2013-03-31T00:00:00",
          "2013-04-30T00:00:00",
          "2013-05-31T00:00:00",
          "2013-06-30T00:00:00",
          "2013-07-31T00:00:00",
          "2013-08-31T00:00:00",
          "2013-09-30T00:00:00",
          "2013-10-31T00:00:00",
          "2013-11-30T00:00:00",
          "2013-12-31T00:00:00",
          "2014-01-31T00:00:00",
          "2014-02-28T00:00:00",
          "2014-03-31T00:00:00",
          "2014-04-30T00:00:00",
          "2014-05-31T00:00:00",
          "2014-06-30T00:00:00",
          "2014-07-31T00:00:00",
          "2014-08-31T00:00:00",
          "2014-09-30T00:00:00",
          "2014-10-31T00:00:00",
          "2014-11-30T00:00:00",
          "2014-12-31T00:00:00",
          "2015-01-31T00:00:00",
          "2015-02-28T00:00:00",
          "2015-03-31T00:00:00",
          "2015-04-30T00:00:00",
          "2015-05-31T00:00:00",
          "2015-06-30T00:00:00",
          "2015-07-31T00:00:00",
          "2015-08-31T00:00:00",
          "2015-09-30T00:00:00",
          "2015-10-31T00:00:00",
          "2015-11-30T00:00:00",
          "2015-12-31T00:00:00",
          "2016-01-31T00:00:00",
          "2016-02-28T00:00:00",
          "2016-03-31T00:00:00",
          "2016-04-30T00:00:00",
          "2016-05-31T00:00:00",
          "2016-06-30T00:00:00",
          "2016-07-31T00:00:00",
          "2016-08-31T00:00:00",
          "2016-09-30T00:00:00",
          "2016-10-31T00:00:00",
          "2016-11-30T00:00:00",
          "2016-12-31T00:00:00",
          "2017-01-31T00:00:00",
          "2017-02-28T00:00:00",
          "2017-03-31T00:00:00",
          "2017-04-30T00:00:00",
          "2017-05-31T00:00:00",
          "2017-06-30T00:00:00",
          "2017-07-31T00:00:00",
          "2017-08-31T00:00:00",
          "2017-09-30T00:00:00",
          "2017-10-31T00:00:00",
          "2017-11-30T00:00:00",
          "2017-12-31T00:00:00",
          "2018-01-31T00:00:00",
          "2018-02-28T00:00:00",
          "2018-03-31T00:00:00",
          "2018-04-30T00:00:00",
          "2018-05-31T00:00:00",
          "2018-06-30T00:00:00",
          "2018-07-31T00:00:00",
          "2018-08-31T00:00:00",
          "2018-09-30T00:00:00",
          "2018-10-31T00:00:00",
          "2018-11-30T00:00:00",
          "2018-12-31T00:00:00",
          "2019-01-31T00:00:00",
          "2019-02-28T00:00:00",
          "2019-03-31T00:00:00",
          "2019-04-30T00:00:00",
          "2019-05-31T00:00:00",
          "2019-06-30T00:00:00",
          "2019-07-31T00:00:00",
          "2019-08-31T00:00:00",
          "2019-09-30T00:00:00",
          "2019-10-31T00:00:00",
          "2019-11-30T00:00:00",
          "2019-12-31T00:00:00",
          "2020-01-31T00:00:00",
          "2020-02-28T00:00:00",
          "2020-03-31T00:00:00",
          "2020-04-30T00:00:00",
          "2020-05-31T00:00:00",
          "2020-06-30T00:00:00",
          "2020-07-31T00:00:00",
          "2020-08-31T00:00:00",
          "2020-09-30T00:00:00",
          "2020-10-31T00:00:00",
          "2020-11-30T00:00:00",
          "2020-12-31T00:00:00",
          "2021-01-31T00:00:00",
          "2021-02-28T00:00:00",
          "2021-03-31T00:00:00",
          "2021-04-30T00:00:00",
          "2021-05-31T00:00:00",
          "2021-06-30T00:00:00",
          "2021-07-31T00:00:00",
          "2021-08-31T00:00:00",
          "2021-09-30T00:00:00",
          "2021-10-31T00:00:00",
          "2021-11-30T00:00:00",
          "2021-12-31T00:00:00",
          "2022-01-31T00:00:00",
          "2022-02-28T00:00:00",
          "2022-03-31T00:00:00",
          "2022-04-30T00:00:00",
          "2022-05-31T00:00:00",
          "2022-06-30T00:00:00",
          "2022-07-31T00:00:00",
          "2022-08-31T00:00:00",
          "2022-09-30T00:00:00",
          "2022-10-31T00:00:00",
          "2022-11-30T00:00:00",
          "2022-12-31T00:00:00",
          "2023-01-31T00:00:00",
          "2023-02-28T00:00:00",
          "2023-03-31T00:00:00",
          "2023-04-30T00:00:00",
          "2023-05-31T00:00:00",
          "2023-06-30T00:00:00",
          "2023-07-31T00:00:00",
          "2023-08-31T00:00:00",
          "2023-09-30T00:00:00",
          "2023-10-31T00:00:00",
          "2023-11-30T00:00:00",
          "2023-12-31T00:00:00",
          "2024-01-31T00:00:00",
          "2024-02-28T00:00:00",
          "2024-03-31T00:00:00",
          "2024-04-30T00:00:00",
          "2024-05-31T00:00:00",
          "2024-06-30T00:00:00",
          "2024-07-31T00:00:00",
          "2024-08-31T00:00:00",
          "2024-09-30T00:00:00",
          "2024-10-31T00:00:00"
         ],
         "y": [
          null,
          null,
          null,
          null,
          null,
          null,
          null,
          null,
          null,
          null,
          null,
          null,
          0.10471875414617808,
          0.09761965395539676,
          0.10580624414779871,
          0.10864796534215934,
          0.07698293982699173,
          0.11438843104862761,
          0.10601209099164731,
          0.12516657396515543,
          0.19047429330965582,
          0.21927365735358317,
          0.23912556530130025,
          0.2784863186390828,
          0.24251766964713556,
          0.20946545419964918,
          0.13978285346200475,
          0.12456025292687323,
          0.12350382646048627,
          0.058025906399498006,
          0.06460216980140837,
          0.07298050351424254,
          0.0906087255546152,
          0.06540480235912162,
          0.06801009230805476,
          0.06530142882950694,
          0.06447944501448101,
          0.08638693250537466,
          0.08730884483359645,
          0.07383929238745204,
          0.08023836426378843,
          0.06875788729292628,
          0.05834025557314497,
          0.060881625657642935,
          0.05695357211032259,
          0.06301987799909164,
          0.07698673587217783,
          0.07728370836024258,
          0.08720311348082052,
          0.09236125992245622,
          0.10325307001317906,
          0.11511747748079694,
          0.10660799273263585,
          0.1067380334370151,
          0.11827323767407302,
          0.10938719456437308,
          0.10458833436109424,
          0.10561027974508402,
          0.11794881900875653,
          0.13108488272130625,
          0.14091072919089886,
          0.1299361431942146,
          0.12454495964617882,
          0.12072508023839248,
          0.12997503389038031,
          0.1302100230149205,
          0.15373997212160695,
          0.17969747406188497,
          0.17670623064513574,
          0.18372255822172678,
          0.19437902220915676,
          0.19264192245964776,
          0.1857888897622164,
          0.19096982545224,
          0.18085702904827214,
          0.1674813469779306,
          0.17395681382054534,
          0.1788768364929812,
          0.17223299958471933,
          0.17898279973227893,
          0.18247374647630052,
          0.1911927617526774,
          0.21115103260116472,
          0.24490733082549376,
          0.23682121919212717,
          0.25762622391224116,
          0.25762622391224116,
          0.2596739342602175,
          0.24924494288948562,
          0.23093584142617768,
          0.2409457339225455,
          0.23119604649461525,
          0.23951356645054406,
          0.25021583656574775,
          0.242650991614568,
          0.26919776170340287,
          0.3188110433464554,
          0.28404618812583693,
          0.2625165917642375,
          0.29462052609939426,
          0.2926070298992385,
          0.2556747619465183,
          0.27675022397111293,
          0.26965549532564814,
          0.3750935434578232,
          0.41138894653675806,
          0.36741512561413314,
          0.35445691777710875,
          0.3569570220179327,
          0.30734398448785755,
          0.26000627973682533,
          0.17102217693518668,
          0.1017430963620504,
          0.07802185946301098,
          0.14263086448322293,
          0.13453918133805043,
          0.1539997459438867,
          0.14883498962266695,
          0.13552657713255992,
          0.18111788095469195,
          0.21659199051147573,
          0.20727560297287503,
          0.2104905171128627,
          0.2732620782235919,
          0.28646444400185467,
          0.28731759631975956,
          0.28756199421587836,
          0.25627840135545477,
          0.26950798187366987,
          0.27934663705303736,
          0.27599669248010333,
          0.3203560931194821,
          0.36170892001667765,
          0.32200921197744964,
          0.27494911572470226,
          0.32417746825349425,
          0.27514141496891054,
          0.31186341183663224,
          0.41543208021656797,
          0.4176515239989797,
          0.3327840051785427,
          0.32486641378203507,
          0.3745881693665245,
          0.39907943049696537,
          0.3779195297003364,
          0.32410198848258365,
          0.24793442186021952,
          0.16772297966466918,
          0.14158194901758991,
          0.12814218599147104,
          0.14747759912882968,
          0.13175145188661258,
          0.1109128730191269,
          0.09297127353654104,
          0.07657099380862693,
          0.07872662670154028,
          0.05465297749863296,
          0.0225413631877318,
          0.025383114504473354,
          0.042537995325892676,
          0.02917542755408901,
          0.05763959658603826,
          0.10031585666668466,
          0.068388842153505,
          0.08475118590618005,
          0.08196711459574912,
          0.07031258143429867,
          0.04579673175225085,
          0.017356070062304326,
          0.010403763884686362,
          0.02505983352293809,
          0.020280884798829203,
          0.021532384123750387,
          0.030987468181349412,
          0.03433079791263009,
          0.03160288525323107,
          0.0491601872395553,
          0.05983548381847893,
          0.08027035093416275,
          0.10328495090731937,
          0.13517716978223446,
          0.1376847139397035,
          0.2086513223486933,
          0.25041076445054483,
          0.23549748087656758,
          0.4203107724812103,
          0.5794159925565407,
          0.6813628577162912,
          0.6602189761841284,
          0.45561238935558995,
          0.630549453672366,
          0.5292553782326375,
          0.5511854059067145,
          0.38756384533502997,
          0.5463062282719691,
          0.5690617537884334,
          0.5250066565612227,
          0.4472332733076303,
          0.2955550072064048,
          0.6029895638523102,
          0.36610154599654127,
          0.25648665718677427,
          0.3056257564644161,
          0.28664368041866284,
          0.11534415304123388,
          0.05138724782325077,
          0.031914732751938416,
          0.018279864151918988,
          0.01275008339574142,
          0.02094463926341735,
          0.050588269169898975,
          0.049577366689440114,
          0.046360207732484796,
          0.035746493135891816,
          0.019578708897326588,
          0.01982993636259153,
          0.011657323552603573,
          0.010915085458751625,
          0.014764369171099665,
          0.015352395127714859,
          0.015689548357489633,
          0.02338114208814615,
          0.01839214019993114,
          0.017451760815191102,
          0.02092252675448035,
          0.021359332795333207,
          0.01958904665200025,
          0.019738650141077237,
          0.017991646424887705,
          0.014695592048631214,
          0.011649177590652765,
          0.01219437438793169,
          0.021088207474013316,
          0.03016749744054122,
          0.036087574974403416,
          0.05003863348642629,
          0.08148810731445855,
          0.10071461521785993,
          0.08767701591795757,
          0.07427257174640543,
          0.08527396178411614,
          0.07954731166562296,
          0.0641891260844238,
          0.05589956390551643,
          0.05079329156226455,
          0.06752621881170051,
          0.07746929957478721,
          0.10932183253626523,
          0.23480893617141171,
          0.22100558482553703,
          0.329555289767692,
          0.39270864675082373,
          0.44133370825802615,
          0.43337650512391657,
          0.47102318909673035,
          0.4505977669635455,
          0.47314017753822235,
          0.4119967609694217,
          0.4495992609137834,
          0.5044770038484223,
          0.6258629170598012,
          0.7532043970818674,
          0.7000026592826935,
          0.8049830381846623,
          0.7165828788676242,
          0.556429144416494,
          0.9383389112556644,
          0.834043556119956,
          0.08873410698910603,
          0.017688939949039827,
          0.04083071209070435,
          0.05918912518077106,
          0.14634019599215206,
          0.38676867425911066,
          0.7152815687841977,
          0.9540492910271092,
          0.936996340848616,
          0.8360076309081703,
          0.5142640363637342,
          0.4634813398126321,
          0.9267711181301941,
          0.7761906572959678,
          0.6550812268544788,
          0.6443295881036228,
          0.3327147714898402,
          0.13020333436032433,
          0.03269535388669722,
          0.01978293823167078,
          0.05101510528580772,
          0.2385578640188519,
          0.18425016963988033,
          0.1862191661795231,
          0.12488793700666878,
          0.09315451590121258,
          0.031150187972981924,
          0.0009528182543819674,
          0.0007951237770210054,
          0.008361022510803541,
          0.027156078673198112,
          0.022485622053390036,
          0.022335444629864594,
          0.02247116358761264,
          0.043483416120430385,
          0.04130642564913943,
          0.0412423421447953,
          0.05136009532353014,
          0.03815776593723746,
          0.029041507050692687,
          0.022903953637574664,
          0.015032557354342897,
          0.014493473988988492,
          0.017381899283069466,
          0.018900606191521563,
          0.01984633071902761,
          0.019163162922137073,
          0.01566029668150457,
          0.005351304382327927,
          0.004393752114900677,
          0.010042961735510277,
          0.04620420361185714,
          0.052195757863770974,
          0.03424722547114818,
          0.013610184434609209,
          0.005664615130615103,
          0.003943251112591125,
          0.008238165709777449,
          0.007098121168899235,
          0.005209417333848442,
          0.006066877557715168,
          0.007667588296914437,
          0.007490403310711055,
          0.00807356636354381,
          0.0069951153573111855,
          0.009764134559253257,
          0.023248931264741007,
          0.03963956465208046,
          0.04176723277918676,
          0.07678707355808766,
          0.1196185529466258,
          0.1142100230362737,
          0.08010247417716893,
          0.0775692838601626,
          0.08745585473224632,
          0.07044468710569171,
          0.03138680053081793,
          0.030887919032423203,
          0.050306034548974754,
          0.07571379492721021,
          0.06923509396714303,
          0.06896895064606992,
          0.06896895064606992,
          0.026317485168186973,
          0.01077625012880014,
          0.015439539249085097,
          0.014737860017886645,
          0.016102521034142,
          0.010139348788382074,
          0.0051832794849886055,
          0.007413137764549274,
          0.006831159365795018,
          0.012642470242488916,
          0.020429241362387832,
          0.017010689610211835,
          0.013813318041374763,
          0.013725023185035585,
          0.024715192841148988,
          0.030446509966726865,
          0.037415407326063195,
          0.06884537023748351,
          0.09727584794410657,
          0.13028802582885649,
          0.15557341140715736,
          0.19315470143558858,
          0.22880583357790835,
          0.2519083555760474,
          0.25186142930195715,
          0.2697474491428452,
          0.3321755934604309,
          0.32640635484812064,
          0.31084217220612526,
          0.25969118034620314,
          0.2729937886318228,
          0.3149763797548064,
          0.30753609054307834,
          0.2325778943715281,
          0.20377449970448375,
          0.21263707369791848,
          0.156069687037453,
          0.15582053691491715,
          0.2001120676196139,
          0.18185744596437442,
          0.11527723429033204,
          0.08890356313568509,
          0.0858952323897087,
          0.10920071949043658,
          0.10614571917067014,
          0.054959336626621405,
          0.05134036388996067,
          0.034653152870060495,
          0.025950219073308523,
          0.018381465006366542,
          0.01582870830911627,
          0.016348796004764465,
          0.019389087917157675,
          0.023806788907673702,
          0.01987497682717613,
          0.011620091400390106,
          0.008608859121475401,
          0.00585394736594565,
          0.003563152332335428,
          0.0036099250590816007,
          0.002267092648351818,
          0.00211893113825152,
          0.0029079184602787836,
          0.0026680152652663277,
          0.0036817485785212156,
          0.003306725001748503,
          0.0021458907254939454,
          0.0021371050543032904,
          0.0031172890039188753,
          0.002794112607079424,
          0.004642217879262642,
          0.007951580893580555,
          0.007006938505206682,
          0.007291035283133113,
          0.010163140089658703,
          0.012388094523658721,
          0.014791870986396673,
          0.021760744757443613,
          0.02534651344724762,
          0.01582543271804887,
          0.013673859812300378,
          0.012352171951356202,
          0.01358003521088226,
          0.008922503707180765,
          0.005213456070644377,
          0.008352825568558304,
          0.009577959788040085,
          0.009526585858820772,
          0.013620044142158044,
          0.012055177165143875,
          0.013359557308396476,
          0.016549185432414317,
          0.033521130487284986,
          0.04095224423308799,
          0.06630853418137396,
          0.08701217192942946,
          0.09281486465556503,
          0.14958440653705463,
          0.18967674821855873,
          0.1631214595925023,
          0.12969504384975422,
          0.15305917053691775,
          0.17823276208303496,
          0.21193122442174178,
          0.21026677739073613,
          0.19497312803251932,
          0.14166655668978367,
          0.10053566927747132,
          0.07535800249727816,
          0.06220574133580575,
          0.05501796143152458,
          0.06261479926618477,
          0.07304745058270246,
          0.06088441099370749,
          0.07731910673429555,
          0.11739435025068073,
          0.09169314775522239,
          0.07655192602121497,
          0.0900346988414153,
          0.07695785364115755,
          0.06187050787563156,
          0.06709595772526997,
          0.07528663690733135,
          0.1174946830732242,
          0.11920587156167947,
          0.10617913359006971,
          0.13135621127656646,
          0.18059341624484848,
          0.19610420675253065,
          0.22250840703981148,
          0.22668406123364732,
          0.20046442892155636,
          0.18772875303004385,
          0.19497312803251932,
          0.2183049312235566,
          0.22190502475946977,
          0.23290885993054464,
          0.27944652676517334,
          0.20225394503506292,
          0.23315920309081434,
          0.26511056761697743,
          0.2404710578236439,
          0.20713556078993947,
          0.16802719276510092,
          0.15179404102162905,
          0.13160680439696906,
          0.09667469225901515,
          0.1067053776475937,
          0.10982027023788768,
          0.10728122661233735,
          0.1069288186530592,
          0.14590400093755423,
          0.12991947337715984,
          0.09883690817396347,
          0.14735751983292555,
          0.21453182197992093,
          0.26118277558913816,
          0.2008322924995472,
          0.2452496270708984,
          0.3158401075087463,
          0.39972083468501507,
          0.3841315717996557,
          0.4270621404690134,
          0.4477027474421636,
          0.46324122192845973,
          0.32608207298981895,
          0.27741437922743184,
          0.22365757267153305,
          0.10051032746914283,
          0.05475178072760616,
          0.05307404155261821,
          0.057355742075102883,
          0.06623689694971995,
          0.03425198896494525,
          0.021065218332561492,
          0.011576528380959223,
          0.003838113262533679,
          0.003904382501581961,
          0.005660552297736295,
          0.0032492085884527513,
          0.003176317195042211,
          0.0036329657232956414,
          0.005260241464581312,
          0.008334199593327768,
          0.014411372883132115,
          0.026645123012646103,
          0.022256744770846944,
          0.010580928897486307,
          0.010217770271034663,
          0.009543526905593602,
          0.012260180854129813,
          0.013286693347685568,
          0.010370175858305058,
          0.017666098463252955,
          0.020213201627976296,
          0.006685901398145353,
          0.003081503681666055,
          0.004250581593313412,
          0.003941441956774736,
          0.003942822191989168,
          0.003938694237387149,
          0.00474036975351685,
          0.00590674236517141,
          0.00931209462169335,
          0.0036577627728466965,
          0.0020867568901749263,
          0.0033673106969466563,
          0.005779357820402334,
          0.011036147302288442,
          0.018571056602531708,
          0.02307608448671038,
          0.03215149544106603,
          0.036124793105198026,
          0.04453482106419401,
          0.0627334535355321,
          0.05358699974890986,
          0.06894259083259889,
          0.09374309121835406,
          0.12615423283369842,
          0.13660239868261345,
          0.1579906193969587,
          0.16407874012050988,
          0.17032241358384928,
          0.18611511992128998,
          0.20004858037466444,
          0.2807947503068507,
          0.290894046693915,
          0.27652326168715946,
          0.240406216821242,
          0.2413101131001662,
          0.255889756941448,
          0.29523778392245553,
          0.3450809960132244,
          0.34603545223511967,
          0.3706961071389853,
          0.4072757424212883,
          0.3941741462328126,
          0.378466533071563,
          0.40080133505698423,
          0.41713106046609794,
          0.36783648804676544,
          0.320020850908735,
          0.221226813035211,
          0.28545588040121783,
          0.2221475547527047,
          0.1913049079145819,
          0.19136382571347363,
          0.1482196779761669,
          0.11731574535312972,
          0.13062568696463847,
          0.06266366863484082,
          0.02595443732057832,
          0.02107074255572126,
          0.030453933625046697,
          0.0268512535751571,
          0.021630492954294648,
          0.029582318745147027,
          0.016106079474506044,
          0.005963444883784884,
          0.004075007810155832,
          0.020382869502776763,
          0.020427445943793268,
          0.01549012141995146,
          0.014499056924649485,
          0.01114874112876089,
          0.006204497901447675,
          0.0027815049007289244,
          0.0037789746334474885,
          0.0035023733567355626,
          0.004547510357884121,
          0.004216334775846358,
          0.0039841938192553,
          0.002771339421302709,
          0.0021459091255191104,
          0.002567399851877799,
          0.00257033123728915,
          0.0020678480010014786,
          0.004723607681071143,
          0.006534900787521452,
          0.009748180447662458,
          0.016190650376624517,
          0.017238650157282206,
          0.019811407787369836,
          0.014244093092122857,
          0.005768681640038003,
          0.0048991865484863065,
          0.0033039989085679104,
          0.004299040848142995,
          0.0036268520924804893,
          0.005964533313018356,
          0.008050330246777001,
          0.008050330246777001,
          0.02405681019416592,
          0.03751982462489387,
          0.029957844726196597,
          0.03599258221147543,
          0.03751982462489387,
          0.0391145650125337,
          0.042486269240870886,
          0.03175841500251698,
          0.037571027582506716,
          0.05316340313626801,
          0.06667964224344447,
          0.07527455611738444,
          0.06269404949636179,
          0.06039774491087243,
          0.05741449177322623,
          0.06425855329802035,
          0.057383195121981256,
          0.044810849387767714,
          0.0424945045974349,
          0.0430622087331108,
          0.053822750647730365,
          0.041876300778362345,
          0.025167482398740452,
          0.01614646713850505,
          0.01247920822043374,
          0.010746976474472914,
          0.015399253578663244,
          0.013548187490319195,
          0.010060961535020464,
          0.010224504623529975,
          0.013323975398379614,
          0.01310903419904386,
          0.012891165436431467,
          0.016399923313086366,
          0.015642617333520792,
          0.0169245469896864,
          0.020382869502776763,
          0.016920820798435376,
          0.02405681019416592,
          0.023002168382069633,
          0.027875639957474076,
          0.044182623894079044,
          0.038047828034003195,
          0.03550880859400908,
          0.040190168605033556,
          0.02786996073300405,
          0.021986740004779973,
          0.023705795969397248,
          0.03130319202828537,
          0.02910762613045432,
          0.033567177310326594,
          0.029590814847390047,
          0.03565313310524004,
          0.04558151046186291,
          0.07201752429413748,
          0.0613651939776943,
          0.06284367457374299,
          0.06608136066544187,
          0.08105384553519744,
          0.09850512646093533,
          0.09207313434107732,
          0.08397298898560455,
          0.07558487373417136,
          0.05493420725576102,
          0.03739633073991886,
          0.040601019769585876,
          0.04172685569074756,
          0.05183413819423591,
          0.07014307299753093,
          0.07828277069276691,
          0.09868996394677455,
          0.09454422336465655,
          0.09985797269332661,
          0.10327141438824176,
          0.09035038157423902,
          0.10953886363406853,
          0.11458515968625849,
          0.1041458151793869,
          0.09142149722028173,
          0.10836586090523648,
          0.11210507757694785,
          0.11118156201239321,
          0.1250634836441493,
          0.13599418924895013,
          0.14614458649206719,
          0.1450542419913261,
          0.1411965773867445,
          0.15768306595345144,
          0.21345904339413,
          0.23621944020061128,
          0.24618795926586798,
          0.2707956269197624,
          0.2748930036429097,
          0.29622921375102856,
          0.3287958328730085,
          0.31478756405836017,
          0.3792706547966996,
          0.34804983045049426,
          0.2903582215113349,
          0.24610175837524612,
          0.23623736464223935,
          0.2520367854538892,
          0.30730145854443186,
          0.18465838858326056,
          0.19456467741664737,
          0.19107283512123144,
          0.1860191604367631,
          0.19981012140781612,
          0.18927946860837452,
          0.1858955783112313,
          0.16622903937957006,
          0.1523902708348232,
          0.14361551937837355,
          0.12189087844978938,
          0.09591140053562236,
          0.06261639702738196,
          0.05954749330801533,
          0.061061520029662336,
          0.07080989658997064,
          0.09064945648690226,
          0.09485350232993918,
          0.0845911879477956,
          0.06663299992381151,
          0.068284989181555,
          0.07703573278126023,
          0.06044188761151641,
          0.061412727160874724,
          0.054922830064919784,
          0.0371023234155558,
          0.04106293892541368,
          0.05925773269879446,
          0.1762654753101106,
          0.2514953615141257,
          0.2306731593329782,
          0.26027047780509494,
          0.38056463183890354,
          0.47308216668529296,
          0.5713337068795252,
          0.5448962430525499,
          0.577708794942826,
          0.6822142998609533,
          0.7085398464921322,
          0.6730535647900941,
          0.66009501729561,
          0.6082555385889343,
          0.5616022364118296,
          0.4611096921435265
         ]
        }
       ],
       "layout": {
        "showlegend": false,
        "template": {
         "data": {
          "bar": [
           {
            "error_x": {
             "color": "#2a3f5f"
            },
            "error_y": {
             "color": "#2a3f5f"
            },
            "marker": {
             "line": {
              "color": "#E5ECF6",
              "width": 0.5
             },
             "pattern": {
              "fillmode": "overlay",
              "size": 10,
              "solidity": 0.2
             }
            },
            "type": "bar"
           }
          ],
          "barpolar": [
           {
            "marker": {
             "line": {
              "color": "#E5ECF6",
              "width": 0.5
             },
             "pattern": {
              "fillmode": "overlay",
              "size": 10,
              "solidity": 0.2
             }
            },
            "type": "barpolar"
           }
          ],
          "carpet": [
           {
            "aaxis": {
             "endlinecolor": "#2a3f5f",
             "gridcolor": "white",
             "linecolor": "white",
             "minorgridcolor": "white",
             "startlinecolor": "#2a3f5f"
            },
            "baxis": {
             "endlinecolor": "#2a3f5f",
             "gridcolor": "white",
             "linecolor": "white",
             "minorgridcolor": "white",
             "startlinecolor": "#2a3f5f"
            },
            "type": "carpet"
           }
          ],
          "choropleth": [
           {
            "colorbar": {
             "outlinewidth": 0,
             "ticks": ""
            },
            "type": "choropleth"
           }
          ],
          "contour": [
           {
            "colorbar": {
             "outlinewidth": 0,
             "ticks": ""
            },
            "colorscale": [
             [
              0,
              "#0d0887"
             ],
             [
              0.1111111111111111,
              "#46039f"
             ],
             [
              0.2222222222222222,
              "#7201a8"
             ],
             [
              0.3333333333333333,
              "#9c179e"
             ],
             [
              0.4444444444444444,
              "#bd3786"
             ],
             [
              0.5555555555555556,
              "#d8576b"
             ],
             [
              0.6666666666666666,
              "#ed7953"
             ],
             [
              0.7777777777777778,
              "#fb9f3a"
             ],
             [
              0.8888888888888888,
              "#fdca26"
             ],
             [
              1,
              "#f0f921"
             ]
            ],
            "type": "contour"
           }
          ],
          "contourcarpet": [
           {
            "colorbar": {
             "outlinewidth": 0,
             "ticks": ""
            },
            "type": "contourcarpet"
           }
          ],
          "heatmap": [
           {
            "colorbar": {
             "outlinewidth": 0,
             "ticks": ""
            },
            "colorscale": [
             [
              0,
              "#0d0887"
             ],
             [
              0.1111111111111111,
              "#46039f"
             ],
             [
              0.2222222222222222,
              "#7201a8"
             ],
             [
              0.3333333333333333,
              "#9c179e"
             ],
             [
              0.4444444444444444,
              "#bd3786"
             ],
             [
              0.5555555555555556,
              "#d8576b"
             ],
             [
              0.6666666666666666,
              "#ed7953"
             ],
             [
              0.7777777777777778,
              "#fb9f3a"
             ],
             [
              0.8888888888888888,
              "#fdca26"
             ],
             [
              1,
              "#f0f921"
             ]
            ],
            "type": "heatmap"
           }
          ],
          "heatmapgl": [
           {
            "colorbar": {
             "outlinewidth": 0,
             "ticks": ""
            },
            "colorscale": [
             [
              0,
              "#0d0887"
             ],
             [
              0.1111111111111111,
              "#46039f"
             ],
             [
              0.2222222222222222,
              "#7201a8"
             ],
             [
              0.3333333333333333,
              "#9c179e"
             ],
             [
              0.4444444444444444,
              "#bd3786"
             ],
             [
              0.5555555555555556,
              "#d8576b"
             ],
             [
              0.6666666666666666,
              "#ed7953"
             ],
             [
              0.7777777777777778,
              "#fb9f3a"
             ],
             [
              0.8888888888888888,
              "#fdca26"
             ],
             [
              1,
              "#f0f921"
             ]
            ],
            "type": "heatmapgl"
           }
          ],
          "histogram": [
           {
            "marker": {
             "pattern": {
              "fillmode": "overlay",
              "size": 10,
              "solidity": 0.2
             }
            },
            "type": "histogram"
           }
          ],
          "histogram2d": [
           {
            "colorbar": {
             "outlinewidth": 0,
             "ticks": ""
            },
            "colorscale": [
             [
              0,
              "#0d0887"
             ],
             [
              0.1111111111111111,
              "#46039f"
             ],
             [
              0.2222222222222222,
              "#7201a8"
             ],
             [
              0.3333333333333333,
              "#9c179e"
             ],
             [
              0.4444444444444444,
              "#bd3786"
             ],
             [
              0.5555555555555556,
              "#d8576b"
             ],
             [
              0.6666666666666666,
              "#ed7953"
             ],
             [
              0.7777777777777778,
              "#fb9f3a"
             ],
             [
              0.8888888888888888,
              "#fdca26"
             ],
             [
              1,
              "#f0f921"
             ]
            ],
            "type": "histogram2d"
           }
          ],
          "histogram2dcontour": [
           {
            "colorbar": {
             "outlinewidth": 0,
             "ticks": ""
            },
            "colorscale": [
             [
              0,
              "#0d0887"
             ],
             [
              0.1111111111111111,
              "#46039f"
             ],
             [
              0.2222222222222222,
              "#7201a8"
             ],
             [
              0.3333333333333333,
              "#9c179e"
             ],
             [
              0.4444444444444444,
              "#bd3786"
             ],
             [
              0.5555555555555556,
              "#d8576b"
             ],
             [
              0.6666666666666666,
              "#ed7953"
             ],
             [
              0.7777777777777778,
              "#fb9f3a"
             ],
             [
              0.8888888888888888,
              "#fdca26"
             ],
             [
              1,
              "#f0f921"
             ]
            ],
            "type": "histogram2dcontour"
           }
          ],
          "mesh3d": [
           {
            "colorbar": {
             "outlinewidth": 0,
             "ticks": ""
            },
            "type": "mesh3d"
           }
          ],
          "parcoords": [
           {
            "line": {
             "colorbar": {
              "outlinewidth": 0,
              "ticks": ""
             }
            },
            "type": "parcoords"
           }
          ],
          "pie": [
           {
            "automargin": true,
            "type": "pie"
           }
          ],
          "scatter": [
           {
            "fillpattern": {
             "fillmode": "overlay",
             "size": 10,
             "solidity": 0.2
            },
            "type": "scatter"
           }
          ],
          "scatter3d": [
           {
            "line": {
             "colorbar": {
              "outlinewidth": 0,
              "ticks": ""
             }
            },
            "marker": {
             "colorbar": {
              "outlinewidth": 0,
              "ticks": ""
             }
            },
            "type": "scatter3d"
           }
          ],
          "scattercarpet": [
           {
            "marker": {
             "colorbar": {
              "outlinewidth": 0,
              "ticks": ""
             }
            },
            "type": "scattercarpet"
           }
          ],
          "scattergeo": [
           {
            "marker": {
             "colorbar": {
              "outlinewidth": 0,
              "ticks": ""
             }
            },
            "type": "scattergeo"
           }
          ],
          "scattergl": [
           {
            "marker": {
             "colorbar": {
              "outlinewidth": 0,
              "ticks": ""
             }
            },
            "type": "scattergl"
           }
          ],
          "scattermapbox": [
           {
            "marker": {
             "colorbar": {
              "outlinewidth": 0,
              "ticks": ""
             }
            },
            "type": "scattermapbox"
           }
          ],
          "scatterpolar": [
           {
            "marker": {
             "colorbar": {
              "outlinewidth": 0,
              "ticks": ""
             }
            },
            "type": "scatterpolar"
           }
          ],
          "scatterpolargl": [
           {
            "marker": {
             "colorbar": {
              "outlinewidth": 0,
              "ticks": ""
             }
            },
            "type": "scatterpolargl"
           }
          ],
          "scatterternary": [
           {
            "marker": {
             "colorbar": {
              "outlinewidth": 0,
              "ticks": ""
             }
            },
            "type": "scatterternary"
           }
          ],
          "surface": [
           {
            "colorbar": {
             "outlinewidth": 0,
             "ticks": ""
            },
            "colorscale": [
             [
              0,
              "#0d0887"
             ],
             [
              0.1111111111111111,
              "#46039f"
             ],
             [
              0.2222222222222222,
              "#7201a8"
             ],
             [
              0.3333333333333333,
              "#9c179e"
             ],
             [
              0.4444444444444444,
              "#bd3786"
             ],
             [
              0.5555555555555556,
              "#d8576b"
             ],
             [
              0.6666666666666666,
              "#ed7953"
             ],
             [
              0.7777777777777778,
              "#fb9f3a"
             ],
             [
              0.8888888888888888,
              "#fdca26"
             ],
             [
              1,
              "#f0f921"
             ]
            ],
            "type": "surface"
           }
          ],
          "table": [
           {
            "cells": {
             "fill": {
              "color": "#EBF0F8"
             },
             "line": {
              "color": "white"
             }
            },
            "header": {
             "fill": {
              "color": "#C8D4E3"
             },
             "line": {
              "color": "white"
             }
            },
            "type": "table"
           }
          ]
         },
         "layout": {
          "annotationdefaults": {
           "arrowcolor": "#2a3f5f",
           "arrowhead": 0,
           "arrowwidth": 1
          },
          "autotypenumbers": "strict",
          "coloraxis": {
           "colorbar": {
            "outlinewidth": 0,
            "ticks": ""
           }
          },
          "colorscale": {
           "diverging": [
            [
             0,
             "#8e0152"
            ],
            [
             0.1,
             "#c51b7d"
            ],
            [
             0.2,
             "#de77ae"
            ],
            [
             0.3,
             "#f1b6da"
            ],
            [
             0.4,
             "#fde0ef"
            ],
            [
             0.5,
             "#f7f7f7"
            ],
            [
             0.6,
             "#e6f5d0"
            ],
            [
             0.7,
             "#b8e186"
            ],
            [
             0.8,
             "#7fbc41"
            ],
            [
             0.9,
             "#4d9221"
            ],
            [
             1,
             "#276419"
            ]
           ],
           "sequential": [
            [
             0,
             "#0d0887"
            ],
            [
             0.1111111111111111,
             "#46039f"
            ],
            [
             0.2222222222222222,
             "#7201a8"
            ],
            [
             0.3333333333333333,
             "#9c179e"
            ],
            [
             0.4444444444444444,
             "#bd3786"
            ],
            [
             0.5555555555555556,
             "#d8576b"
            ],
            [
             0.6666666666666666,
             "#ed7953"
            ],
            [
             0.7777777777777778,
             "#fb9f3a"
            ],
            [
             0.8888888888888888,
             "#fdca26"
            ],
            [
             1,
             "#f0f921"
            ]
           ],
           "sequentialminus": [
            [
             0,
             "#0d0887"
            ],
            [
             0.1111111111111111,
             "#46039f"
            ],
            [
             0.2222222222222222,
             "#7201a8"
            ],
            [
             0.3333333333333333,
             "#9c179e"
            ],
            [
             0.4444444444444444,
             "#bd3786"
            ],
            [
             0.5555555555555556,
             "#d8576b"
            ],
            [
             0.6666666666666666,
             "#ed7953"
            ],
            [
             0.7777777777777778,
             "#fb9f3a"
            ],
            [
             0.8888888888888888,
             "#fdca26"
            ],
            [
             1,
             "#f0f921"
            ]
           ]
          },
          "colorway": [
           "#636efa",
           "#EF553B",
           "#00cc96",
           "#ab63fa",
           "#FFA15A",
           "#19d3f3",
           "#FF6692",
           "#B6E880",
           "#FF97FF",
           "#FECB52"
          ],
          "font": {
           "color": "#2a3f5f"
          },
          "geo": {
           "bgcolor": "white",
           "lakecolor": "white",
           "landcolor": "#E5ECF6",
           "showlakes": true,
           "showland": true,
           "subunitcolor": "white"
          },
          "hoverlabel": {
           "align": "left"
          },
          "hovermode": "closest",
          "mapbox": {
           "style": "light"
          },
          "paper_bgcolor": "white",
          "plot_bgcolor": "#E5ECF6",
          "polar": {
           "angularaxis": {
            "gridcolor": "white",
            "linecolor": "white",
            "ticks": ""
           },
           "bgcolor": "#E5ECF6",
           "radialaxis": {
            "gridcolor": "white",
            "linecolor": "white",
            "ticks": ""
           }
          },
          "scene": {
           "xaxis": {
            "backgroundcolor": "#E5ECF6",
            "gridcolor": "white",
            "gridwidth": 2,
            "linecolor": "white",
            "showbackground": true,
            "ticks": "",
            "zerolinecolor": "white"
           },
           "yaxis": {
            "backgroundcolor": "#E5ECF6",
            "gridcolor": "white",
            "gridwidth": 2,
            "linecolor": "white",
            "showbackground": true,
            "ticks": "",
            "zerolinecolor": "white"
           },
           "zaxis": {
            "backgroundcolor": "#E5ECF6",
            "gridcolor": "white",
            "gridwidth": 2,
            "linecolor": "white",
            "showbackground": true,
            "ticks": "",
            "zerolinecolor": "white"
           }
          },
          "shapedefaults": {
           "line": {
            "color": "#2a3f5f"
           }
          },
          "ternary": {
           "aaxis": {
            "gridcolor": "white",
            "linecolor": "white",
            "ticks": ""
           },
           "baxis": {
            "gridcolor": "white",
            "linecolor": "white",
            "ticks": ""
           },
           "bgcolor": "#E5ECF6",
           "caxis": {
            "gridcolor": "white",
            "linecolor": "white",
            "ticks": ""
           }
          },
          "title": {
           "x": 0.05
          },
          "xaxis": {
           "automargin": true,
           "gridcolor": "white",
           "linecolor": "white",
           "ticks": "",
           "title": {
            "standoff": 15
           },
           "zerolinecolor": "white",
           "zerolinewidth": 2
          },
          "yaxis": {
           "automargin": true,
           "gridcolor": "white",
           "linecolor": "white",
           "ticks": "",
           "title": {
            "standoff": 15
           },
           "zerolinecolor": "white",
           "zerolinewidth": 2
          }
         }
        },
        "title": {
         "text": "Probability of U.S. Recession, Twelve Months Ahead of Term Spread Readings"
        },
        "xaxis": {
         "title": {
          "text": "Date"
         }
        },
        "yaxis": {
         "title": {
          "text": "Percent (monthly average)"
         }
        }
       }
      }
     },
     "metadata": {},
     "output_type": "display_data"
    }
   ],
   "source": [
    "df_recession_prob = plot_recession_prob(df)"
   ]
  },
  {
   "cell_type": "code",
   "execution_count": null,
   "metadata": {},
   "outputs": [],
   "source": []
  }
 ],
 "metadata": {
  "kernelspec": {
   "display_name": "Python 3",
   "language": "python",
   "name": "python3"
  },
  "language_info": {
   "codemirror_mode": {
    "name": "ipython",
    "version": 3
   },
   "file_extension": ".py",
   "mimetype": "text/x-python",
   "name": "python",
   "nbconvert_exporter": "python",
   "pygments_lexer": "ipython3",
   "version": "3.11.1"
  }
 },
 "nbformat": 4,
 "nbformat_minor": 2
}
