{
 "cells": [
  {
   "cell_type": "code",
   "execution_count": 10,
   "metadata": {},
   "outputs": [
    {
     "name": "stdout",
     "output_type": "stream",
     "text": [
      "The autoreload extension is already loaded. To reload it, use:\n",
      "  %reload_ext autoreload\n"
     ]
    }
   ],
   "source": [
    "%load_ext autoreload\n",
    "%autoreload 2"
   ]
  },
  {
   "cell_type": "code",
   "execution_count": 13,
   "metadata": {},
   "outputs": [],
   "source": [
    "import os\n",
    "import pandas as pd\n",
    "from typing import Tuple\n",
    "from vg import create_vg_fund_info\n",
    "from blk import create_blk_fund_info\n",
    "from helpers import get_yahoo_finance_data, get_tipranks_ratings\n",
    "from datetime import datetime"
   ]
  },
  {
   "cell_type": "code",
   "execution_count": 14,
   "metadata": {},
   "outputs": [
    {
     "name": "stdout",
     "output_type": "stream",
     "text": [
      "Fetching new info ...\n"
     ]
    },
    {
     "ename": "NameError",
     "evalue": "name 'df_with_cols' is not defined",
     "output_type": "error",
     "traceback": [
      "\u001b[1;31m---------------------------------------------------------------------------\u001b[0m",
      "\u001b[1;31mNameError\u001b[0m                                 Traceback (most recent call last)",
      "\u001b[1;32mc:\\Users\\chris\\trade\\curr_pos\\main.ipynb Cell 3\u001b[0m line \u001b[0;36m2\n\u001b[0;32m     <a href='vscode-notebook-cell:/c%3A/Users/chris/trade/curr_pos/main.ipynb#W5sZmlsZQ%3D%3D?line=14'>15</a>\u001b[0m         df_blk, df_vg \u001b[39m=\u001b[39m pd\u001b[39m.\u001b[39mread_excel(\u001b[39mf\u001b[39m\u001b[39m\"\u001b[39m\u001b[39m./out/\u001b[39m\u001b[39m{\u001b[39;00mout_workbooks[\u001b[39m0\u001b[39m]\u001b[39m}\u001b[39;00m\u001b[39m\"\u001b[39m), pd\u001b[39m.\u001b[39mread_excel(\n\u001b[0;32m     <a href='vscode-notebook-cell:/c%3A/Users/chris/trade/curr_pos/main.ipynb#W5sZmlsZQ%3D%3D?line=15'>16</a>\u001b[0m             \u001b[39mf\u001b[39m\u001b[39m\"\u001b[39m\u001b[39m./out/\u001b[39m\u001b[39m{\u001b[39;00mout_workbooks[\u001b[39m1\u001b[39m]\u001b[39m}\u001b[39;00m\u001b[39m\"\u001b[39m\n\u001b[0;32m     <a href='vscode-notebook-cell:/c%3A/Users/chris/trade/curr_pos/main.ipynb#W5sZmlsZQ%3D%3D?line=16'>17</a>\u001b[0m         )\n\u001b[0;32m     <a href='vscode-notebook-cell:/c%3A/Users/chris/trade/curr_pos/main.ipynb#W5sZmlsZQ%3D%3D?line=18'>19</a>\u001b[0m     \u001b[39mreturn\u001b[39;00m df_blk, df_vg\n\u001b[1;32m---> <a href='vscode-notebook-cell:/c%3A/Users/chris/trade/curr_pos/main.ipynb#W5sZmlsZQ%3D%3D?line=21'>22</a>\u001b[0m df_blk, df_vg \u001b[39m=\u001b[39m handle_new_day()\n",
      "\u001b[1;32mc:\\Users\\chris\\trade\\curr_pos\\main.ipynb Cell 3\u001b[0m line \u001b[0;36m1\n\u001b[0;32m      <a href='vscode-notebook-cell:/c%3A/Users/chris/trade/curr_pos/main.ipynb#W5sZmlsZQ%3D%3D?line=7'>8</a>\u001b[0m \u001b[39mif\u001b[39;00m (\n\u001b[0;32m      <a href='vscode-notebook-cell:/c%3A/Users/chris/trade/curr_pos/main.ipynb#W5sZmlsZQ%3D%3D?line=8'>9</a>\u001b[0m     datetime\u001b[39m.\u001b[39mstrptime(today_date, \u001b[39m\"\u001b[39m\u001b[39m%\u001b[39m\u001b[39mY-\u001b[39m\u001b[39m%\u001b[39m\u001b[39mm-\u001b[39m\u001b[39m%d\u001b[39;00m\u001b[39m\"\u001b[39m)\u001b[39m.\u001b[39mdate()\n\u001b[0;32m     <a href='vscode-notebook-cell:/c%3A/Users/chris/trade/curr_pos/main.ipynb#W5sZmlsZQ%3D%3D?line=9'>10</a>\u001b[0m     \u001b[39m>\u001b[39m datetime\u001b[39m.\u001b[39mstrptime(curr_date, \u001b[39m\"\u001b[39m\u001b[39m%\u001b[39m\u001b[39mY-\u001b[39m\u001b[39m%\u001b[39m\u001b[39mm-\u001b[39m\u001b[39m%d\u001b[39;00m\u001b[39m\"\u001b[39m)\u001b[39m.\u001b[39mdate()\n\u001b[0;32m     <a href='vscode-notebook-cell:/c%3A/Users/chris/trade/curr_pos/main.ipynb#W5sZmlsZQ%3D%3D?line=10'>11</a>\u001b[0m ):\n\u001b[0;32m     <a href='vscode-notebook-cell:/c%3A/Users/chris/trade/curr_pos/main.ipynb#W5sZmlsZQ%3D%3D?line=11'>12</a>\u001b[0m     \u001b[39mprint\u001b[39m(\u001b[39m\"\u001b[39m\u001b[39mFetching new info ...\u001b[39m\u001b[39m\"\u001b[39m)\n\u001b[1;32m---> <a href='vscode-notebook-cell:/c%3A/Users/chris/trade/curr_pos/main.ipynb#W5sZmlsZQ%3D%3D?line=12'>13</a>\u001b[0m     df_blk, df_vg \u001b[39m=\u001b[39m fetch_most_recent_info()\n\u001b[0;32m     <a href='vscode-notebook-cell:/c%3A/Users/chris/trade/curr_pos/main.ipynb#W5sZmlsZQ%3D%3D?line=13'>14</a>\u001b[0m \u001b[39melse\u001b[39;00m:\n\u001b[0;32m     <a href='vscode-notebook-cell:/c%3A/Users/chris/trade/curr_pos/main.ipynb#W5sZmlsZQ%3D%3D?line=14'>15</a>\u001b[0m     df_blk, df_vg \u001b[39m=\u001b[39m pd\u001b[39m.\u001b[39mread_excel(\u001b[39mf\u001b[39m\u001b[39m\"\u001b[39m\u001b[39m./out/\u001b[39m\u001b[39m{\u001b[39;00mout_workbooks[\u001b[39m0\u001b[39m]\u001b[39m}\u001b[39;00m\u001b[39m\"\u001b[39m), pd\u001b[39m.\u001b[39mread_excel(\n\u001b[0;32m     <a href='vscode-notebook-cell:/c%3A/Users/chris/trade/curr_pos/main.ipynb#W5sZmlsZQ%3D%3D?line=15'>16</a>\u001b[0m         \u001b[39mf\u001b[39m\u001b[39m\"\u001b[39m\u001b[39m./out/\u001b[39m\u001b[39m{\u001b[39;00mout_workbooks[\u001b[39m1\u001b[39m]\u001b[39m}\u001b[39;00m\u001b[39m\"\u001b[39m\n\u001b[0;32m     <a href='vscode-notebook-cell:/c%3A/Users/chris/trade/curr_pos/main.ipynb#W5sZmlsZQ%3D%3D?line=16'>17</a>\u001b[0m     )\n",
      "\u001b[1;32mc:\\Users\\chris\\trade\\curr_pos\\main.ipynb Cell 3\u001b[0m line \u001b[0;36m2\n\u001b[0;32m      <a href='vscode-notebook-cell:/c%3A/Users/chris/trade/curr_pos/main.ipynb#W5sZmlsZQ%3D%3D?line=0'>1</a>\u001b[0m \u001b[39mdef\u001b[39;00m \u001b[39mfetch_most_recent_info\u001b[39m() \u001b[39m-\u001b[39m\u001b[39m>\u001b[39m Tuple[pd\u001b[39m.\u001b[39mDataFrame, pd\u001b[39m.\u001b[39mDataFrame]:\n\u001b[1;32m----> <a href='vscode-notebook-cell:/c%3A/Users/chris/trade/curr_pos/main.ipynb#W5sZmlsZQ%3D%3D?line=1'>2</a>\u001b[0m     \u001b[39mreturn\u001b[39;00m create_blk_fund_info(), create_vg_fund_info()\n",
      "File \u001b[1;32mc:\\Users\\chris\\trade\\curr_pos\\blk.py:111\u001b[0m, in \u001b[0;36mcreate_blk_fund_info\u001b[1;34m()\u001b[0m\n\u001b[0;32m    108\u001b[0m df\u001b[39m.\u001b[39mreset_index(drop\u001b[39m=\u001b[39m\u001b[39mTrue\u001b[39;00m, inplace\u001b[39m=\u001b[39m\u001b[39mTrue\u001b[39;00m)\n\u001b[0;32m    110\u001b[0m \u001b[39m# df_with_cols = set_blk_df_cols(df)\u001b[39;00m\n\u001b[1;32m--> 111\u001b[0m df_with_cols\u001b[39m.\u001b[39mdrop_duplicates(subset\u001b[39m=\u001b[39m[\u001b[39m\"\u001b[39m\u001b[39mticker\u001b[39m\u001b[39m\"\u001b[39m], keep\u001b[39m=\u001b[39m\u001b[39m\"\u001b[39m\u001b[39mfirst\u001b[39m\u001b[39m\"\u001b[39m)\n\u001b[0;32m    113\u001b[0m curr_date \u001b[39m=\u001b[39m datetime\u001b[39m.\u001b[39mtoday()\u001b[39m.\u001b[39mstrftime(\u001b[39m\"\u001b[39m\u001b[39m%\u001b[39m\u001b[39mY-\u001b[39m\u001b[39m%\u001b[39m\u001b[39mm-\u001b[39m\u001b[39m%d\u001b[39;00m\u001b[39m\"\u001b[39m)\n\u001b[0;32m    114\u001b[0m df_with_cols\u001b[39m.\u001b[39mto_excel(\n\u001b[0;32m    115\u001b[0m     \u001b[39mf\u001b[39m\u001b[39m\"\u001b[39m\u001b[39m{\u001b[39;00mcurr_date\u001b[39m}\u001b[39;00m\u001b[39m_blk_fund_info.xlsx\u001b[39m\u001b[39m\"\u001b[39m,\n\u001b[0;32m    116\u001b[0m     index\u001b[39m=\u001b[39m\u001b[39mFalse\u001b[39;00m,\n\u001b[0;32m    117\u001b[0m     sheet_name\u001b[39m=\u001b[39m\u001b[39mf\u001b[39m\u001b[39m\"\u001b[39m\u001b[39m{\u001b[39;00mcurr_date\u001b[39m}\u001b[39;00m\u001b[39m_blk_fund_info.xlsx\u001b[39m\u001b[39m\"\u001b[39m,\n\u001b[0;32m    118\u001b[0m )\n",
      "\u001b[1;31mNameError\u001b[0m: name 'df_with_cols' is not defined"
     ]
    }
   ],
   "source": [
    "def fetch_most_recent_info() -> Tuple[pd.DataFrame, pd.DataFrame]:\n",
    "    return create_blk_fund_info(), create_vg_fund_info()\n",
    "\n",
    "def handle_new_day() -> Tuple[pd.DataFrame, pd.DataFrame]:\n",
    "    today_date = datetime.today().strftime(\"%Y-%m-%d\")\n",
    "    out_workbooks = os.listdir(\"./out\")\n",
    "    curr_date = out_workbooks[0].split(\"_\")[0]\n",
    "    if (\n",
    "        datetime.strptime(today_date, \"%Y-%m-%d\").date()\n",
    "        > datetime.strptime(curr_date, \"%Y-%m-%d\").date()\n",
    "    ):\n",
    "        print(\"Fetching new info ...\")\n",
    "        df_blk, df_vg = fetch_most_recent_info()\n",
    "    else:\n",
    "        df_blk, df_vg = pd.read_excel(f\"./out/{out_workbooks[0]}\"), pd.read_excel(\n",
    "            f\"./out/{out_workbooks[1]}\"\n",
    "        )\n",
    "\n",
    "    return df_blk, df_vg\n",
    "\n",
    "\n",
    "df_blk, df_vg = handle_new_day()"
   ]
  },
  {
   "cell_type": "code",
   "execution_count": 15,
   "metadata": {},
   "outputs": [
    {
     "ename": "NameError",
     "evalue": "name 'df_with_cols' is not defined",
     "output_type": "error",
     "traceback": [
      "\u001b[1;31m---------------------------------------------------------------------------\u001b[0m",
      "\u001b[1;31mNameError\u001b[0m                                 Traceback (most recent call last)",
      "\u001b[1;32mc:\\Users\\chris\\trade\\curr_pos\\main.ipynb Cell 4\u001b[0m line \u001b[0;36m3\n\u001b[0;32m      <a href='vscode-notebook-cell:/c%3A/Users/chris/trade/curr_pos/main.ipynb#W2sZmlsZQ%3D%3D?line=0'>1</a>\u001b[0m \u001b[39mfrom\u001b[39;00m \u001b[39mblk\u001b[39;00m \u001b[39mimport\u001b[39;00m create_blk_fund_info\n\u001b[1;32m----> <a href='vscode-notebook-cell:/c%3A/Users/chris/trade/curr_pos/main.ipynb#W2sZmlsZQ%3D%3D?line=2'>3</a>\u001b[0m create_blk_fund_info()\n",
      "File \u001b[1;32mc:\\Users\\chris\\trade\\curr_pos\\blk.py:111\u001b[0m, in \u001b[0;36mcreate_blk_fund_info\u001b[1;34m()\u001b[0m\n\u001b[0;32m    108\u001b[0m df\u001b[39m.\u001b[39mreset_index(drop\u001b[39m=\u001b[39m\u001b[39mTrue\u001b[39;00m, inplace\u001b[39m=\u001b[39m\u001b[39mTrue\u001b[39;00m)\n\u001b[0;32m    110\u001b[0m \u001b[39m# df_with_cols = set_blk_df_cols(df)\u001b[39;00m\n\u001b[1;32m--> 111\u001b[0m df_with_cols\u001b[39m.\u001b[39mdrop_duplicates(subset\u001b[39m=\u001b[39m[\u001b[39m\"\u001b[39m\u001b[39mticker\u001b[39m\u001b[39m\"\u001b[39m], keep\u001b[39m=\u001b[39m\u001b[39m\"\u001b[39m\u001b[39mfirst\u001b[39m\u001b[39m\"\u001b[39m)\n\u001b[0;32m    113\u001b[0m curr_date \u001b[39m=\u001b[39m datetime\u001b[39m.\u001b[39mtoday()\u001b[39m.\u001b[39mstrftime(\u001b[39m\"\u001b[39m\u001b[39m%\u001b[39m\u001b[39mY-\u001b[39m\u001b[39m%\u001b[39m\u001b[39mm-\u001b[39m\u001b[39m%d\u001b[39;00m\u001b[39m\"\u001b[39m)\n\u001b[0;32m    114\u001b[0m df_with_cols\u001b[39m.\u001b[39mto_excel(\n\u001b[0;32m    115\u001b[0m     \u001b[39mf\u001b[39m\u001b[39m\"\u001b[39m\u001b[39m{\u001b[39;00mcurr_date\u001b[39m}\u001b[39;00m\u001b[39m_blk_fund_info.xlsx\u001b[39m\u001b[39m\"\u001b[39m,\n\u001b[0;32m    116\u001b[0m     index\u001b[39m=\u001b[39m\u001b[39mFalse\u001b[39;00m,\n\u001b[0;32m    117\u001b[0m     sheet_name\u001b[39m=\u001b[39m\u001b[39mf\u001b[39m\u001b[39m\"\u001b[39m\u001b[39m{\u001b[39;00mcurr_date\u001b[39m}\u001b[39;00m\u001b[39m_blk_fund_info.xlsx\u001b[39m\u001b[39m\"\u001b[39m,\n\u001b[0;32m    118\u001b[0m )\n",
      "\u001b[1;31mNameError\u001b[0m: name 'df_with_cols' is not defined"
     ]
    }
   ],
   "source": [
    "from blk import create_blk_fund_info\n",
    "\n",
    "create_blk_fund_info()"
   ]
  },
  {
   "cell_type": "code",
   "execution_count": null,
   "metadata": {},
   "outputs": [],
   "source": []
  }
 ],
 "metadata": {
  "kernelspec": {
   "display_name": "Python 3",
   "language": "python",
   "name": "python3"
  },
  "language_info": {
   "codemirror_mode": {
    "name": "ipython",
    "version": 3
   },
   "file_extension": ".py",
   "mimetype": "text/x-python",
   "name": "python",
   "nbconvert_exporter": "python",
   "pygments_lexer": "ipython3",
   "version": "3.11.1"
  },
  "orig_nbformat": 4
 },
 "nbformat": 4,
 "nbformat_minor": 2
}
