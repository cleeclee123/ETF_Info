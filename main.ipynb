{
 "cells": [
  {
   "cell_type": "code",
   "execution_count": 1,
   "metadata": {},
   "outputs": [],
   "source": [
    "import pandas as pd\n",
    "import os\n",
    "from typing import Tuple\n",
    "from vg import create_vg_fund_info\n",
    "from blk import create_blk_fund_info\n",
    "from helpers import get_yahoo_finance_data, get_tipranks_ratings\n",
    "from datetime import datetime"
   ]
  },
  {
   "cell_type": "code",
   "execution_count": 3,
   "metadata": {},
   "outputs": [],
   "source": [
    "def fetch_most_recent_info() -> Tuple[pd.DataFrame, pd.DataFrame]:\n",
    "  return create_blk_fund_info(), create_vg_fund_info()\n",
    "\n",
    "\n",
    "def handle_new_day() -> Tuple[pd.DataFrame, pd.DataFrame]:\n",
    "  today_date = datetime.today().strftime('%Y-%m-%d')\n",
    "  out_workbooks = os.listdir(\"./out\")\n",
    "  curr_date = out_workbooks[0].split(\"_\")[0]  \n",
    "  if (datetime.strptime(today_date, \"%Y-%m-%d\").date() > datetime.strptime(curr_date, \"%Y-%m-%d\").date()):\n",
    "    print(\"Fetching new info ...\")\n",
    "    df_blk, df_vg = fetch_most_recent_info()\n",
    "  else:\n",
    "    df_blk, df_vg = pd.read_excel(f\"./out/{out_workbooks[0]}\"), pd.read_excel(f\"./out/{out_workbooks[1]}\")\n",
    "\n",
    "  return df_blk, df_vg\n",
    "\n",
    "\n",
    "df_blk, df_vg = handle_new_day()"
   ]
  },
  {
   "cell_type": "code",
   "execution_count": null,
   "metadata": {},
   "outputs": [],
   "source": [
    "def map_yahoo_finance_data():\n",
    "  data = get_yahoo_finance_data()\n",
    "  \n",
    "def map_tipranks_data():\n",
    "  data = get_tipranks_ratings()"
   ]
  }
 ],
 "metadata": {
  "kernelspec": {
   "display_name": "Python 3",
   "language": "python",
   "name": "python3"
  },
  "language_info": {
   "codemirror_mode": {
    "name": "ipython",
    "version": 3
   },
   "file_extension": ".py",
   "mimetype": "text/x-python",
   "name": "python",
   "nbconvert_exporter": "python",
   "pygments_lexer": "ipython3",
   "version": "3.11.1"
  },
  "orig_nbformat": 4
 },
 "nbformat": 4,
 "nbformat_minor": 2
}
