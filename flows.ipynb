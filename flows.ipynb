{
 "cells": [
  {
   "cell_type": "code",
   "execution_count": 1,
   "metadata": {},
   "outputs": [],
   "source": [
    "import matplotlib.pyplot as plt\n",
    "import matplotlib.dates as mdates\n",
    "import pandas as pd\n",
    "import numpy as np\n",
    "import os\n",
    "from datetime import datetime"
   ]
  },
  {
   "cell_type": "code",
   "execution_count": null,
   "metadata": {},
   "outputs": [],
   "source": [
    "script_dir = os.path.abspath('')"
   ]
  },
  {
   "cell_type": "code",
   "execution_count": 3,
   "metadata": {},
   "outputs": [],
   "source": [
    "def plot_fund_flow_ticks(ticker: str, path: str, tick_freq, int):\n",
    "    fund_flow_df = pd.read_excel(os.path.join(script_dir, path))\n",
    "    fund_flow_df[\"asOf\"] = pd.to_datetime(fund_flow_df[\"asOf\"])\n",
    "\n",
    "    dates = fund_flow_df['asOf']\n",
    "    mask = dates.index % tick_freq == 0  \n",
    "    selected_dates = dates[mask]\n",
    "\n",
    "    _, ax = plt.subplots(figsize=(17, 8))\n",
    "\n",
    "    for _, row in fund_flow_df.iterrows():\n",
    "        if row[\"value\"] > 0:\n",
    "            color = \"green\"\n",
    "            dx = 0\n",
    "            dy = row[\"value\"]\n",
    "            y = 0  \n",
    "        else:\n",
    "            color = \"red\"\n",
    "            dx = 0\n",
    "            dy = -row[\"value\"]\n",
    "            y = row[\"value\"]  \n",
    "\n",
    "        # Adding an arrow to the plot\n",
    "        ax.arrow(\n",
    "            row[\"asOf\"],  \n",
    "            y,\n",
    "            dx,\n",
    "            dy,\n",
    "            head_width=0.15,  \n",
    "            head_length=abs(dy) * 0.3,  \n",
    "            fc=color,  \n",
    "            ec=color,\n",
    "        ) \n",
    "        \n",
    "    ax.set_title(f\"Daily Fund Inflow and Outflow for {ticker} with Directional Indicators\")\n",
    "    ax.set_xlabel(\"Date\")\n",
    "    ax.set_ylabel(\"Fund Movement ($1e6)\")\n",
    "\n",
    "    ax.xaxis.set_major_formatter(mdates.DateFormatter(\"%m-%d-%Y\"))\n",
    "    # ax.set_xticks(fund_flow_df[\"asOf\"])\n",
    "    ax.set_xticks(selected_dates)\n",
    "\n",
    "    plt.xticks(rotation=45)\n",
    "    plt.grid(visible=True, linestyle=\"--\", linewidth=0.5)\n",
    "\n",
    "    ax.axhline(0, color=\"black\", linewidth=0.6)\n",
    "\n",
    "    # Adjusting the layout and showing the plot\n",
    "    plt.tight_layout()"
   ]
  },
  {
   "cell_type": "code",
   "execution_count": null,
   "metadata": {},
   "outputs": [],
   "source": [
    "plot_fund_flow_ticks('EDV', 3)\n",
    "plot_fund_flow_ticks('ZROZ', 3)\n",
    "plot_fund_flow_ticks('TLT', 3)\n",
    "plot_fund_flow_ticks('VGLT', 3)"
   ]
  }
 ],
 "metadata": {
  "kernelspec": {
   "display_name": "Python 3",
   "language": "python",
   "name": "python3"
  },
  "language_info": {
   "codemirror_mode": {
    "name": "ipython",
    "version": 3
   },
   "file_extension": ".py",
   "mimetype": "text/x-python",
   "name": "python",
   "nbconvert_exporter": "python",
   "pygments_lexer": "ipython3",
   "version": "3.11.1"
  }
 },
 "nbformat": 4,
 "nbformat_minor": 2
}
